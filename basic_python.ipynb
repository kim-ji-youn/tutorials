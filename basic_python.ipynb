{
  "nbformat": 4,
  "nbformat_minor": 0,
  "metadata": {
    "colab": {
      "name": "basic_python.ipynb",
      "provenance": [],
      "collapsed_sections": [],
      "authorship_tag": "ABX9TyN7Pt6AQA0tvlJFRLP1aoL7",
      "include_colab_link": true
    },
    "kernelspec": {
      "name": "python3",
      "display_name": "Python 3"
    },
    "language_info": {
      "name": "python"
    }
  },
  "cells": [
    {
      "cell_type": "markdown",
      "metadata": {
        "id": "view-in-github",
        "colab_type": "text"
      },
      "source": [
        "<a href=\"https://colab.research.google.com/github/kim-ji-youn/tutorials/blob/main/basic_python.ipynb\" target=\"_parent\"><img src=\"https://colab.research.google.com/assets/colab-badge.svg\" alt=\"Open In Colab\"/></a>"
      ]
    },
    {
      "cell_type": "markdown",
      "source": [
        "https://wikidocs.net/13\n",
        "https://wikidocs.net/52"
      ],
      "metadata": {
        "id": "XxvdMJ99KJXD"
      }
    },
    {
      "cell_type": "markdown",
      "source": [
        "# 변수\n",
        "* 변수는 값을 담는 상자\n",
        "```\n",
        "a = 1 # a라는 변수에 1을 할당\n",
        "        # a라는 이름이 붙어있는 상자에 1을 넣는다\n",
        "```\n"
      ],
      "metadata": {
        "id": "Vm_OGILj5q4y"
      }
    },
    {
      "cell_type": "code",
      "execution_count": 2,
      "metadata": {
        "colab": {
          "base_uri": "https://localhost:8080/",
          "height": 166
        },
        "id": "guFa6Zl22GOd",
        "outputId": "7e30fbeb-804b-4655-ab29-31a879dbf9e8"
      },
      "outputs": [
        {
          "output_type": "error",
          "ename": "NameError",
          "evalue": "ignored",
          "traceback": [
            "\u001b[0;31m---------------------------------------------------------------------------\u001b[0m",
            "\u001b[0;31mNameError\u001b[0m                                 Traceback (most recent call last)",
            "\u001b[0;32m<ipython-input-2-3f786850e387>\u001b[0m in \u001b[0;36m<module>\u001b[0;34m()\u001b[0m\n\u001b[0;32m----> 1\u001b[0;31m \u001b[0ma\u001b[0m\u001b[0;34m\u001b[0m\u001b[0;34m\u001b[0m\u001b[0m\n\u001b[0m",
            "\u001b[0;31mNameError\u001b[0m: name 'a' is not defined"
          ]
        }
      ],
      "source": [
        "a"
      ]
    },
    {
      "cell_type": "code",
      "source": [
        "a = 123"
      ],
      "metadata": {
        "id": "0Dryc1ItBIGA"
      },
      "execution_count": 3,
      "outputs": []
    },
    {
      "cell_type": "code",
      "source": [
        "a"
      ],
      "metadata": {
        "colab": {
          "base_uri": "https://localhost:8080/"
        },
        "id": "hQWT2UwxBM3Q",
        "outputId": "0e7a34c0-ba41-4b17-c5b1-58be08708f50"
      },
      "execution_count": 4,
      "outputs": [
        {
          "output_type": "execute_result",
          "data": {
            "text/plain": [
              "123"
            ]
          },
          "metadata": {},
          "execution_count": 4
        }
      ]
    },
    {
      "cell_type": "markdown",
      "source": [
        "# 1. 데이터 타입 (자료형)\n",
        "* 변수에는 어떤 것이 할당될 수 있을까?\n",
        "\n",
        "\n",
        "1. 숫자형(integer, float)\n",
        "2. 문자열(string)\n",
        "3. 리스트(list)\n",
        "4. 튜플(tuple)\n",
        "5. 딕셔너리(dict)\n",
        "6. 집합(set)\n",
        "7. 불(bool)"
      ],
      "metadata": {
        "id": "T0MTkXn3Bfl8"
      }
    },
    {
      "cell_type": "markdown",
      "source": [
        "## 숫자형\n",
        "* 사칙연산(```+, -, *, /```)이 가능\n",
        "* ```x**y``` : x의 y제곱\n",
        "* ```x%y```: x를 y로 나눈 나머지\n"
      ],
      "metadata": {
        "id": "m0c1cvXxCOlb"
      }
    },
    {
      "cell_type": "code",
      "source": [
        "a = 100\n",
        "b = 200"
      ],
      "metadata": {
        "id": "JPeaH0aEBNWY"
      },
      "execution_count": 5,
      "outputs": []
    },
    {
      "cell_type": "code",
      "source": [
        "a+b"
      ],
      "metadata": {
        "colab": {
          "base_uri": "https://localhost:8080/"
        },
        "id": "DqCN2ttWCzzQ",
        "outputId": "d560a4ae-e333-4b9a-f42a-80b195952b6e"
      },
      "execution_count": 6,
      "outputs": [
        {
          "output_type": "execute_result",
          "data": {
            "text/plain": [
              "300"
            ]
          },
          "metadata": {},
          "execution_count": 6
        }
      ]
    },
    {
      "cell_type": "code",
      "source": [
        "a-b"
      ],
      "metadata": {
        "colab": {
          "base_uri": "https://localhost:8080/"
        },
        "id": "EHdwN0tiC0Nw",
        "outputId": "eba1c72d-0750-4787-92ad-785354d21e1d"
      },
      "execution_count": 7,
      "outputs": [
        {
          "output_type": "execute_result",
          "data": {
            "text/plain": [
              "-100"
            ]
          },
          "metadata": {},
          "execution_count": 7
        }
      ]
    },
    {
      "cell_type": "code",
      "source": [
        "a*b"
      ],
      "metadata": {
        "colab": {
          "base_uri": "https://localhost:8080/"
        },
        "id": "sqM0YfPiC1Sw",
        "outputId": "11b88015-4737-46c0-f279-96cd90ec1847"
      },
      "execution_count": 8,
      "outputs": [
        {
          "output_type": "execute_result",
          "data": {
            "text/plain": [
              "20000"
            ]
          },
          "metadata": {},
          "execution_count": 8
        }
      ]
    },
    {
      "cell_type": "code",
      "source": [
        "a/b"
      ],
      "metadata": {
        "colab": {
          "base_uri": "https://localhost:8080/"
        },
        "id": "bRq0FIeKC2V3",
        "outputId": "3e28308b-2b68-4ba4-e8c0-a682d9680dfa"
      },
      "execution_count": 9,
      "outputs": [
        {
          "output_type": "execute_result",
          "data": {
            "text/plain": [
              "0.5"
            ]
          },
          "metadata": {},
          "execution_count": 9
        }
      ]
    },
    {
      "cell_type": "code",
      "source": [
        "a**b"
      ],
      "metadata": {
        "colab": {
          "base_uri": "https://localhost:8080/"
        },
        "id": "UjzTpnrWC3Yo",
        "outputId": "bf38a0b1-88ce-4b9b-de5e-70c8bce46358"
      },
      "execution_count": 10,
      "outputs": [
        {
          "output_type": "execute_result",
          "data": {
            "text/plain": [
              "10000000000000000000000000000000000000000000000000000000000000000000000000000000000000000000000000000000000000000000000000000000000000000000000000000000000000000000000000000000000000000000000000000000000000000000000000000000000000000000000000000000000000000000000000000000000000000000000000000000000000000000000000000000000000000000000000000000000000000000000000000000000000000000000000000000000000000"
            ]
          },
          "metadata": {},
          "execution_count": 10
        }
      ]
    },
    {
      "cell_type": "code",
      "source": [
        "a%b"
      ],
      "metadata": {
        "colab": {
          "base_uri": "https://localhost:8080/"
        },
        "id": "njcLIxcqGxo-",
        "outputId": "f49ece5d-64e2-411d-f416-2d1a4d5bfd16"
      },
      "execution_count": 11,
      "outputs": [
        {
          "output_type": "execute_result",
          "data": {
            "text/plain": [
              "100"
            ]
          },
          "metadata": {},
          "execution_count": 11
        }
      ]
    },
    {
      "cell_type": "markdown",
      "source": [
        "## 1.1. 문자열(string)\n",
        "* 문자열은 따옴표(```'```, ```\"```)로 둘러쌓여있다. \n",
        "* 문자열 연산\n",
        "    * 문자열 더하기(```+```)\n",
        "    * 문자열 곱하기(```*```)\n",
        "* 문자열 길이 구하기 : len()\n",
        "* 문자열 인덱싱(indexing)과 슬라이싱(slicing)"
      ],
      "metadata": {
        "id": "7SbeYmQLH48Q"
      }
    },
    {
      "cell_type": "code",
      "source": [
        "# 변수에 문자열 넣기\n",
        "a = \"python\""
      ],
      "metadata": {
        "id": "ooSMQTpyG5VS"
      },
      "execution_count": 12,
      "outputs": []
    },
    {
      "cell_type": "code",
      "source": [
        "b = \" is fun\"\n",
        "c = \" maybe..\""
      ],
      "metadata": {
        "id": "kD7W_IVjGz9n"
      },
      "execution_count": 13,
      "outputs": []
    },
    {
      "cell_type": "code",
      "source": [
        "a + b + c"
      ],
      "metadata": {
        "colab": {
          "base_uri": "https://localhost:8080/",
          "height": 35
        },
        "id": "dHIzoeGpJEOf",
        "outputId": "28d79265-2afe-4229-c4a6-0b2fca4b001f"
      },
      "execution_count": 14,
      "outputs": [
        {
          "output_type": "execute_result",
          "data": {
            "text/plain": [
              "'python is fun maybe..'"
            ],
            "application/vnd.google.colaboratory.intrinsic+json": {
              "type": "string"
            }
          },
          "metadata": {},
          "execution_count": 14
        }
      ]
    },
    {
      "cell_type": "code",
      "source": [
        "a"
      ],
      "metadata": {
        "colab": {
          "base_uri": "https://localhost:8080/",
          "height": 35
        },
        "id": "3ksL6wPHJFXL",
        "outputId": "34c3ea50-a6ca-483a-cab2-7c9d3328e685"
      },
      "execution_count": 15,
      "outputs": [
        {
          "output_type": "execute_result",
          "data": {
            "text/plain": [
              "'python'"
            ],
            "application/vnd.google.colaboratory.intrinsic+json": {
              "type": "string"
            }
          },
          "metadata": {},
          "execution_count": 15
        }
      ]
    },
    {
      "cell_type": "code",
      "source": [
        "d = a + b + c\n",
        "d"
      ],
      "metadata": {
        "colab": {
          "base_uri": "https://localhost:8080/",
          "height": 35
        },
        "id": "orV0npU0JK13",
        "outputId": "ac8ee1cd-df19-4b78-f691-f2b246a07a57"
      },
      "execution_count": 16,
      "outputs": [
        {
          "output_type": "execute_result",
          "data": {
            "text/plain": [
              "'python is fun maybe..'"
            ],
            "application/vnd.google.colaboratory.intrinsic+json": {
              "type": "string"
            }
          },
          "metadata": {},
          "execution_count": 16
        }
      ]
    },
    {
      "cell_type": "code",
      "source": [
        "# 길이 구하기\n",
        "len(d)"
      ],
      "metadata": {
        "colab": {
          "base_uri": "https://localhost:8080/"
        },
        "id": "KdA-jSIXJMgu",
        "outputId": "7d1eacb7-3bf2-484e-a311-66ab88709fc2"
      },
      "execution_count": 17,
      "outputs": [
        {
          "output_type": "execute_result",
          "data": {
            "text/plain": [
              "21"
            ]
          },
          "metadata": {},
          "execution_count": 17
        }
      ]
    },
    {
      "cell_type": "markdown",
      "source": [
        "![image.png](data:image/png;base64,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)"
      ],
      "metadata": {
        "id": "mCOL9jGgQ8Y-"
      }
    },
    {
      "cell_type": "code",
      "source": [
        "#인덱싱\n",
        "print(d[0])\n",
        "print(d[1])\n",
        "print(d[-1])\n",
        "print(d[-3])"
      ],
      "metadata": {
        "colab": {
          "base_uri": "https://localhost:8080/"
        },
        "id": "zSodmDg4JREe",
        "outputId": "8c7b2dad-f619-4caa-d595-ad209eca4676"
      },
      "execution_count": 18,
      "outputs": [
        {
          "output_type": "stream",
          "name": "stdout",
          "text": [
            "p\n",
            "y\n",
            ".\n",
            "e\n"
          ]
        }
      ]
    },
    {
      "cell_type": "code",
      "source": [
        "#슬라이싱\n",
        "print(d[2:10])\n",
        "print(d[:3])\n",
        "print(d[3:])\n",
        "print(d[:-1])\n",
        "print(d[:])"
      ],
      "metadata": {
        "colab": {
          "base_uri": "https://localhost:8080/"
        },
        "id": "LOwGxKOUJXJ-",
        "outputId": "9ccc817f-a53e-4126-958a-7146426be137"
      },
      "execution_count": 19,
      "outputs": [
        {
          "output_type": "stream",
          "name": "stdout",
          "text": [
            "thon is \n",
            "pyt\n",
            "hon is fun maybe..\n",
            "python is fun maybe.\n",
            "python is fun maybe..\n"
          ]
        }
      ]
    },
    {
      "cell_type": "markdown",
      "source": [
        "### 문자열 관련 함수\n",
        "* count : 문자 개수 세기\n",
        "* upper, lower : 대소문자 변환\n",
        "* split : 문자열 나누기\n",
        "* join : 문자열 합치기\n",
        "* strip : 공백(\\s, \\t, \\n) 제거하기\n",
        "* replace : 문자열 교체하기"
      ],
      "metadata": {
        "id": "E1BQQF6aQmm7"
      }
    },
    {
      "cell_type": "code",
      "source": [
        "d"
      ],
      "metadata": {
        "id": "ANLp5YoYJiXe",
        "colab": {
          "base_uri": "https://localhost:8080/",
          "height": 35
        },
        "outputId": "4602e36d-7682-4ecb-d5b1-4c579c26fe5b"
      },
      "execution_count": 20,
      "outputs": [
        {
          "output_type": "execute_result",
          "data": {
            "text/plain": [
              "'python is fun maybe..'"
            ],
            "application/vnd.google.colaboratory.intrinsic+json": {
              "type": "string"
            }
          },
          "metadata": {},
          "execution_count": 20
        }
      ]
    },
    {
      "cell_type": "code",
      "source": [
        "d.count('e')"
      ],
      "metadata": {
        "colab": {
          "base_uri": "https://localhost:8080/"
        },
        "id": "tw_5MPipSBaG",
        "outputId": "5bd50b70-878e-4ae2-c6df-365d6fa2e82b"
      },
      "execution_count": 21,
      "outputs": [
        {
          "output_type": "execute_result",
          "data": {
            "text/plain": [
              "1"
            ]
          },
          "metadata": {},
          "execution_count": 21
        }
      ]
    },
    {
      "cell_type": "code",
      "source": [
        "d.upper()"
      ],
      "metadata": {
        "colab": {
          "base_uri": "https://localhost:8080/",
          "height": 35
        },
        "id": "X39lcr3ESEGl",
        "outputId": "d0b1feb2-a92f-4f26-9039-85f4b6d8fb5f"
      },
      "execution_count": 22,
      "outputs": [
        {
          "output_type": "execute_result",
          "data": {
            "text/plain": [
              "'PYTHON IS FUN MAYBE..'"
            ],
            "application/vnd.google.colaboratory.intrinsic+json": {
              "type": "string"
            }
          },
          "metadata": {},
          "execution_count": 22
        }
      ]
    },
    {
      "cell_type": "code",
      "source": [
        "d.lower()"
      ],
      "metadata": {
        "colab": {
          "base_uri": "https://localhost:8080/",
          "height": 35
        },
        "id": "I60Gtsl9SGml",
        "outputId": "475b1ecf-437a-43e2-edec-41ba090e29d5"
      },
      "execution_count": 23,
      "outputs": [
        {
          "output_type": "execute_result",
          "data": {
            "text/plain": [
              "'python is fun maybe..'"
            ],
            "application/vnd.google.colaboratory.intrinsic+json": {
              "type": "string"
            }
          },
          "metadata": {},
          "execution_count": 23
        }
      ]
    },
    {
      "cell_type": "code",
      "source": [
        "e = d.upper()\n",
        "e"
      ],
      "metadata": {
        "colab": {
          "base_uri": "https://localhost:8080/",
          "height": 35
        },
        "id": "o9Ar_5j4SHr9",
        "outputId": "8ec03c22-fe3b-4f24-b64a-a410f627b2d9"
      },
      "execution_count": 25,
      "outputs": [
        {
          "output_type": "execute_result",
          "data": {
            "text/plain": [
              "'PYTHON IS FUN MAYBE..'"
            ],
            "application/vnd.google.colaboratory.intrinsic+json": {
              "type": "string"
            }
          },
          "metadata": {},
          "execution_count": 25
        }
      ]
    },
    {
      "cell_type": "code",
      "source": [
        "d.split()"
      ],
      "metadata": {
        "colab": {
          "base_uri": "https://localhost:8080/"
        },
        "id": "xfjwHeiGSJ1N",
        "outputId": "3a525470-6d0d-45aa-db04-165bd512bbe0"
      },
      "execution_count": 26,
      "outputs": [
        {
          "output_type": "execute_result",
          "data": {
            "text/plain": [
              "['python', 'is', 'fun', 'maybe..']"
            ]
          },
          "metadata": {},
          "execution_count": 26
        }
      ]
    },
    {
      "cell_type": "code",
      "source": [
        "tokens = d.split()\n",
        "tokens"
      ],
      "metadata": {
        "colab": {
          "base_uri": "https://localhost:8080/"
        },
        "id": "PO-xD8lpSVIe",
        "outputId": "def8c419-bb22-49cd-94ec-e9c0bf6c744e"
      },
      "execution_count": 29,
      "outputs": [
        {
          "output_type": "execute_result",
          "data": {
            "text/plain": [
              "['python', 'is', 'fun', 'maybe..']"
            ]
          },
          "metadata": {},
          "execution_count": 29
        }
      ]
    },
    {
      "cell_type": "code",
      "source": [
        "tokens_i = d.split(\"i\")\n",
        "tokens_i"
      ],
      "metadata": {
        "colab": {
          "base_uri": "https://localhost:8080/"
        },
        "id": "e7FypnntSXb1",
        "outputId": "89d19968-d526-473e-bffe-c5fe8f3faae2"
      },
      "execution_count": 31,
      "outputs": [
        {
          "output_type": "execute_result",
          "data": {
            "text/plain": [
              "['python ', 's fun maybe..']"
            ]
          },
          "metadata": {},
          "execution_count": 31
        }
      ]
    },
    {
      "cell_type": "code",
      "source": [
        "sentence = ' '.join(tokens)\n",
        "sentence"
      ],
      "metadata": {
        "colab": {
          "base_uri": "https://localhost:8080/",
          "height": 35
        },
        "id": "hA3nrY3rSfOa",
        "outputId": "2ee7af90-f663-4f69-af73-139f2cfd4da0"
      },
      "execution_count": 33,
      "outputs": [
        {
          "output_type": "execute_result",
          "data": {
            "text/plain": [
              "'python is fun maybe..'"
            ],
            "application/vnd.google.colaboratory.intrinsic+json": {
              "type": "string"
            }
          },
          "metadata": {},
          "execution_count": 33
        }
      ]
    },
    {
      "cell_type": "code",
      "source": [
        "sentence_star = '*'.join(tokens)\n",
        "sentence_star"
      ],
      "metadata": {
        "colab": {
          "base_uri": "https://localhost:8080/",
          "height": 35
        },
        "id": "x9Ym1X4BSlAy",
        "outputId": "50b23a75-822c-4093-cad4-c3bed5aa009a"
      },
      "execution_count": 34,
      "outputs": [
        {
          "output_type": "execute_result",
          "data": {
            "text/plain": [
              "'python*is*fun*maybe..'"
            ],
            "application/vnd.google.colaboratory.intrinsic+json": {
              "type": "string"
            }
          },
          "metadata": {},
          "execution_count": 34
        }
      ]
    },
    {
      "cell_type": "code",
      "source": [
        "#strip()\n",
        "space_word = \"         word        \"\n",
        "print(space_word)"
      ],
      "metadata": {
        "colab": {
          "base_uri": "https://localhost:8080/"
        },
        "id": "hWNnYFi4cFXS",
        "outputId": "b89f6bb7-2983-44e0-cec0-4b1d0903cf55"
      },
      "execution_count": 93,
      "outputs": [
        {
          "output_type": "stream",
          "name": "stdout",
          "text": [
            "         word        \n"
          ]
        }
      ]
    },
    {
      "cell_type": "code",
      "source": [
        "word = space_word.strip()\n",
        "print(word)"
      ],
      "metadata": {
        "colab": {
          "base_uri": "https://localhost:8080/"
        },
        "id": "hfKhkfBVcKix",
        "outputId": "2468624c-dd13-4b3c-e91a-79375b91f50d"
      },
      "execution_count": 94,
      "outputs": [
        {
          "output_type": "stream",
          "name": "stdout",
          "text": [
            "word\n"
          ]
        }
      ]
    },
    {
      "cell_type": "code",
      "source": [
        "#replace()\n",
        "space_word"
      ],
      "metadata": {
        "colab": {
          "base_uri": "https://localhost:8080/",
          "height": 35
        },
        "id": "e-8iUCy7cXTU",
        "outputId": "0a83b800-5a75-4045-a218-723820311417"
      },
      "execution_count": 96,
      "outputs": [
        {
          "output_type": "execute_result",
          "data": {
            "text/plain": [
              "'         word        '"
            ],
            "application/vnd.google.colaboratory.intrinsic+json": {
              "type": "string"
            }
          },
          "metadata": {},
          "execution_count": 96
        }
      ]
    },
    {
      "cell_type": "code",
      "source": [
        "word = space_word.replace(\" \", \"\")\n",
        "word"
      ],
      "metadata": {
        "colab": {
          "base_uri": "https://localhost:8080/",
          "height": 35
        },
        "id": "PFQFBgI3cfCh",
        "outputId": "35ccb3f2-3ad1-44ea-ed49-6b7b01b05920"
      },
      "execution_count": 97,
      "outputs": [
        {
          "output_type": "execute_result",
          "data": {
            "text/plain": [
              "'word'"
            ],
            "application/vnd.google.colaboratory.intrinsic+json": {
              "type": "string"
            }
          },
          "metadata": {},
          "execution_count": 97
        }
      ]
    },
    {
      "cell_type": "code",
      "source": [
        "word = word.replace('r', 'R')\n",
        "word"
      ],
      "metadata": {
        "colab": {
          "base_uri": "https://localhost:8080/",
          "height": 35
        },
        "id": "Db68AmSIcio8",
        "outputId": "1a1b27ca-3488-4a8d-806a-d04146ca220a"
      },
      "execution_count": 99,
      "outputs": [
        {
          "output_type": "execute_result",
          "data": {
            "text/plain": [
              "'woRd'"
            ],
            "application/vnd.google.colaboratory.intrinsic+json": {
              "type": "string"
            }
          },
          "metadata": {},
          "execution_count": 99
        }
      ]
    },
    {
      "cell_type": "markdown",
      "source": [
        "## 1.2. 리스트\n",
        "* 리스트(list) : 여러 데이터의 모음 ([ ])\n",
        "    * 리스트의 요소는 데이터 타입에 상관없다. \n",
        "\n",
        "* 리스트 인덱싱(indexing)과 슬라이싱(slicing)\n",
        "* 리스트 연산\n",
        "    * +: 더하기\n",
        "    * \\* : 반복하기\n",
        "    * len() : 길이 구하기\n",
        "* 리스트 관련 함수\n",
        "    * .append(x) : 리스트에 x요소 추가\n",
        "    * .sort() : 리스트 정렬\n",
        "    * .count(x) : 리스트에 포함된 요소 x 개수 세기"
      ],
      "metadata": {
        "id": "msoNDTjAS_VO"
      }
    },
    {
      "cell_type": "code",
      "source": [
        "# 리스트 정의\n",
        "my_list = [1, 2, \"a\", \"b\"]\n",
        "my_list"
      ],
      "metadata": {
        "colab": {
          "base_uri": "https://localhost:8080/"
        },
        "id": "89lLAmWkSqc6",
        "outputId": "d993f2cd-76ce-4fc8-8c45-0bc652f54fef"
      },
      "execution_count": 54,
      "outputs": [
        {
          "output_type": "execute_result",
          "data": {
            "text/plain": [
              "[1, 2, 'a', 'b']"
            ]
          },
          "metadata": {},
          "execution_count": 54
        }
      ]
    },
    {
      "cell_type": "code",
      "source": [
        "sentence = \"Life is too short to learn python.\"\n",
        "sentence"
      ],
      "metadata": {
        "colab": {
          "base_uri": "https://localhost:8080/",
          "height": 35
        },
        "id": "oOkDfDOIT13l",
        "outputId": "61bf662a-b620-4d1d-a268-adcd818d1ef7"
      },
      "execution_count": 55,
      "outputs": [
        {
          "output_type": "execute_result",
          "data": {
            "text/plain": [
              "'Life is too short to learn python.'"
            ],
            "application/vnd.google.colaboratory.intrinsic+json": {
              "type": "string"
            }
          },
          "metadata": {},
          "execution_count": 55
        }
      ]
    },
    {
      "cell_type": "code",
      "source": [
        "tokens = sentence.split()\n",
        "tokens"
      ],
      "metadata": {
        "colab": {
          "base_uri": "https://localhost:8080/"
        },
        "id": "X4tM636WUB0t",
        "outputId": "cf5ce572-0c95-41ae-e722-fef47857f46b"
      },
      "execution_count": 56,
      "outputs": [
        {
          "output_type": "execute_result",
          "data": {
            "text/plain": [
              "['Life', 'is', 'too', 'short', 'to', 'learn', 'python.']"
            ]
          },
          "metadata": {},
          "execution_count": 56
        }
      ]
    },
    {
      "cell_type": "code",
      "source": [
        "# 인덱싱\n",
        "print(tokens[0])\n",
        "print(tokens[1])\n",
        "print(tokens[-1])"
      ],
      "metadata": {
        "colab": {
          "base_uri": "https://localhost:8080/"
        },
        "id": "_tY6iE-TUEDr",
        "outputId": "bc6aa668-a8e0-4234-aea8-e1d7a0409341"
      },
      "execution_count": 57,
      "outputs": [
        {
          "output_type": "stream",
          "name": "stdout",
          "text": [
            "Life\n",
            "is\n",
            "python.\n"
          ]
        }
      ]
    },
    {
      "cell_type": "code",
      "source": [
        "#슬라이싱\n",
        "print(tokens[:3])\n",
        "print(tokens[1:5])"
      ],
      "metadata": {
        "colab": {
          "base_uri": "https://localhost:8080/"
        },
        "id": "HUMi4NNLUJDD",
        "outputId": "61c1fb5a-cabc-45cf-9b48-fea42f77b08b"
      },
      "execution_count": 58,
      "outputs": [
        {
          "output_type": "stream",
          "name": "stdout",
          "text": [
            "['Life', 'is', 'too']\n",
            "['is', 'too', 'short', 'to']\n"
          ]
        }
      ]
    },
    {
      "cell_type": "code",
      "source": [
        "# 리스트 연산\n",
        "my_tokens = ['i', 'like', 'python']\n",
        "your_tokens = ['you', 'like', 'python', 'too']\n",
        "tokens = my_tokens + your_tokens\n",
        "tokens"
      ],
      "metadata": {
        "colab": {
          "base_uri": "https://localhost:8080/"
        },
        "id": "c0AVKkRUUSch",
        "outputId": "bf6a5221-f051-4839-8a87-8e5f895db3e2"
      },
      "execution_count": 59,
      "outputs": [
        {
          "output_type": "execute_result",
          "data": {
            "text/plain": [
              "['i', 'like', 'python', 'you', 'like', 'python', 'too']"
            ]
          },
          "metadata": {},
          "execution_count": 59
        }
      ]
    },
    {
      "cell_type": "code",
      "source": [
        "my_tokens2 = my_tokens * 2\n",
        "my_tokens2"
      ],
      "metadata": {
        "colab": {
          "base_uri": "https://localhost:8080/"
        },
        "id": "bnraB6IrU4Ut",
        "outputId": "a8113e5e-fc47-4e75-da19-b36294acfde9"
      },
      "execution_count": 60,
      "outputs": [
        {
          "output_type": "execute_result",
          "data": {
            "text/plain": [
              "['i', 'like', 'python', 'i', 'like', 'python']"
            ]
          },
          "metadata": {},
          "execution_count": 60
        }
      ]
    },
    {
      "cell_type": "code",
      "source": [
        "tokens"
      ],
      "metadata": {
        "colab": {
          "base_uri": "https://localhost:8080/"
        },
        "id": "xhQpDmJsU9XV",
        "outputId": "e8ca0dbf-545f-416a-f2f8-9f80e974d982"
      },
      "execution_count": 61,
      "outputs": [
        {
          "output_type": "execute_result",
          "data": {
            "text/plain": [
              "['i', 'like', 'python', 'you', 'like', 'python', 'too']"
            ]
          },
          "metadata": {},
          "execution_count": 61
        }
      ]
    },
    {
      "cell_type": "code",
      "source": [
        "len(tokens)"
      ],
      "metadata": {
        "colab": {
          "base_uri": "https://localhost:8080/"
        },
        "id": "UgrVzHnyU-4R",
        "outputId": "a60f81f5-5482-4ba0-88f5-10ea0eca6800"
      },
      "execution_count": 62,
      "outputs": [
        {
          "output_type": "execute_result",
          "data": {
            "text/plain": [
              "7"
            ]
          },
          "metadata": {},
          "execution_count": 62
        }
      ]
    },
    {
      "cell_type": "code",
      "source": [
        "#append\n",
        "tokens.append('maybe?')\n",
        "tokens"
      ],
      "metadata": {
        "colab": {
          "base_uri": "https://localhost:8080/"
        },
        "id": "ow7lJs8BVAQh",
        "outputId": "85edb56e-8dc3-481e-9b59-99bd27e4f919"
      },
      "execution_count": 63,
      "outputs": [
        {
          "output_type": "execute_result",
          "data": {
            "text/plain": [
              "['i', 'like', 'python', 'you', 'like', 'python', 'too', 'maybe?']"
            ]
          },
          "metadata": {},
          "execution_count": 63
        }
      ]
    },
    {
      "cell_type": "code",
      "source": [
        "tokens.sort()\n",
        "tokens"
      ],
      "metadata": {
        "colab": {
          "base_uri": "https://localhost:8080/"
        },
        "id": "XVH8tey0VJFB",
        "outputId": "a3aa39ba-42c6-424c-9fcc-f80f1768b22c"
      },
      "execution_count": 65,
      "outputs": [
        {
          "output_type": "execute_result",
          "data": {
            "text/plain": [
              "['i', 'like', 'like', 'maybe?', 'python', 'python', 'too', 'you']"
            ]
          },
          "metadata": {},
          "execution_count": 65
        }
      ]
    },
    {
      "cell_type": "code",
      "source": [
        "tokens.count('like')"
      ],
      "metadata": {
        "colab": {
          "base_uri": "https://localhost:8080/"
        },
        "id": "IvRNN_gMVauQ",
        "outputId": "e06d031d-9efc-4c67-92e2-5aaaf9024898"
      },
      "execution_count": 66,
      "outputs": [
        {
          "output_type": "execute_result",
          "data": {
            "text/plain": [
              "2"
            ]
          },
          "metadata": {},
          "execution_count": 66
        }
      ]
    },
    {
      "cell_type": "markdown",
      "source": [
        "## 1.3. 딕셔너리\n",
        "* 딕셔너리(dict) : {key1: value1, key2: value2, ....}\n",
        "* 딕셔너리 쌍 추가/삭제\n",
        "* key로 value 구하기"
      ],
      "metadata": {
        "id": "SZjQy3q_VyKb"
      }
    },
    {
      "cell_type": "code",
      "source": [
        "#start with tokens\n",
        "\n",
        "tokens"
      ],
      "metadata": {
        "colab": {
          "base_uri": "https://localhost:8080/"
        },
        "id": "lyClIcA1VfDF",
        "outputId": "448ced18-0c14-4aec-df57-cd65652b76b2"
      },
      "execution_count": 67,
      "outputs": [
        {
          "output_type": "execute_result",
          "data": {
            "text/plain": [
              "['i', 'like', 'like', 'maybe?', 'python', 'python', 'too', 'you']"
            ]
          },
          "metadata": {},
          "execution_count": 67
        }
      ]
    },
    {
      "cell_type": "code",
      "source": [
        "my_dict = {'i': 1, 'like' : 2, 'maybe?' : 1, 'python': 2, 'too': 1, 'you': 1}"
      ],
      "metadata": {
        "id": "C6rDLxXxWGXp"
      },
      "execution_count": 70,
      "outputs": []
    },
    {
      "cell_type": "code",
      "source": [
        "#추가하기\n",
        "my_dict['maybe'] = 1\n",
        "my_dict"
      ],
      "metadata": {
        "colab": {
          "base_uri": "https://localhost:8080/"
        },
        "id": "Z18ke3k4WRhm",
        "outputId": "5aa78034-6851-4709-fadd-ae31a6bdd5cb"
      },
      "execution_count": 71,
      "outputs": [
        {
          "output_type": "execute_result",
          "data": {
            "text/plain": [
              "{'i': 1, 'like': 2, 'maybe': 1, 'maybe?': 1, 'python': 2, 'too': 1, 'you': 1}"
            ]
          },
          "metadata": {},
          "execution_count": 71
        }
      ]
    },
    {
      "cell_type": "code",
      "source": [
        "del my_dict['maybe?']\n",
        "my_dict"
      ],
      "metadata": {
        "colab": {
          "base_uri": "https://localhost:8080/"
        },
        "id": "4PFs39wVWaW9",
        "outputId": "deda2f0f-7f64-4c58-e50e-974dd6e4f69f"
      },
      "execution_count": 72,
      "outputs": [
        {
          "output_type": "execute_result",
          "data": {
            "text/plain": [
              "{'i': 1, 'like': 2, 'maybe': 1, 'python': 2, 'too': 1, 'you': 1}"
            ]
          },
          "metadata": {},
          "execution_count": 72
        }
      ]
    },
    {
      "cell_type": "code",
      "source": [
        "# key로 value 구하기\n",
        "my_dict['python']"
      ],
      "metadata": {
        "colab": {
          "base_uri": "https://localhost:8080/"
        },
        "id": "75-HufgeWkOt",
        "outputId": "cd9be7c6-d971-4d67-ce74-6497de7c8656"
      },
      "execution_count": 73,
      "outputs": [
        {
          "output_type": "execute_result",
          "data": {
            "text/plain": [
              "2"
            ]
          },
          "metadata": {},
          "execution_count": 73
        }
      ]
    },
    {
      "cell_type": "markdown",
      "source": [
        "# 2. 데이터 구조 : 제어문\n",
        "\n",
        "## 2.1. for문\n",
        "* 기본구조\n",
        "```\n",
        "for 변수 in 리스트(혹은 문자열) :\n",
        "  수행할 문장1\n",
        "  수행할 문장2\n",
        "  ...\n",
        "```\n",
        "\n",
        "* range함수\n",
        "    * 기본 구조 : range(시작숫자, 끝숫자, step)"
      ],
      "metadata": {
        "id": "8em6AkhMWuzv"
      }
    },
    {
      "cell_type": "code",
      "source": [
        "sentence = \"i like python he likes python she likes python and do you like python\"\n",
        "print(sentence)\n",
        "tokens = sentence.split()\n",
        "print(tokens)"
      ],
      "metadata": {
        "colab": {
          "base_uri": "https://localhost:8080/"
        },
        "id": "a0wP--CyWqOb",
        "outputId": "b85666f8-6623-4a0e-83fe-28598e5d7377"
      },
      "execution_count": 80,
      "outputs": [
        {
          "output_type": "stream",
          "name": "stdout",
          "text": [
            "i like python he likes python she likes python and do you like python\n",
            "['i', 'like', 'python', 'he', 'likes', 'python', 'she', 'likes', 'python', 'and', 'do', 'you', 'like', 'python']\n"
          ]
        }
      ]
    },
    {
      "cell_type": "code",
      "source": [
        "for token in tokens :\n",
        "  print(token)"
      ],
      "metadata": {
        "colab": {
          "base_uri": "https://localhost:8080/"
        },
        "id": "f2DYTmwUZJHz",
        "outputId": "d7c14a6c-5a35-4b31-d464-60052fce1b39"
      },
      "execution_count": 81,
      "outputs": [
        {
          "output_type": "stream",
          "name": "stdout",
          "text": [
            "i\n",
            "like\n",
            "python\n",
            "he\n",
            "likes\n",
            "python\n",
            "she\n",
            "likes\n",
            "python\n",
            "and\n",
            "do\n",
            "you\n",
            "like\n",
            "python\n"
          ]
        }
      ]
    },
    {
      "cell_type": "code",
      "source": [
        "# range 함수 함께\n",
        "for i in range(0,len(tokens)) :\n",
        "  print(tokens[i])"
      ],
      "metadata": {
        "colab": {
          "base_uri": "https://localhost:8080/"
        },
        "id": "iydweuAwZRYn",
        "outputId": "dc5f5376-888e-4025-b1c8-001cc219c23f"
      },
      "execution_count": 82,
      "outputs": [
        {
          "output_type": "stream",
          "name": "stdout",
          "text": [
            "i\n",
            "like\n",
            "python\n",
            "he\n",
            "likes\n",
            "python\n",
            "she\n",
            "likes\n",
            "python\n",
            "and\n",
            "do\n",
            "you\n",
            "like\n",
            "python\n"
          ]
        }
      ]
    },
    {
      "cell_type": "code",
      "source": [
        "for i in range(0, len(tokens), 2) :\n",
        "  print(i, tokens[i], sep = \"\\t\")"
      ],
      "metadata": {
        "colab": {
          "base_uri": "https://localhost:8080/"
        },
        "id": "0WyVrdgrZZ6g",
        "outputId": "d32b9b27-57e3-4f5d-bab2-4a29c91eeeb5"
      },
      "execution_count": 87,
      "outputs": [
        {
          "output_type": "stream",
          "name": "stdout",
          "text": [
            "0\ti\n",
            "2\tpython\n",
            "4\tlikes\n",
            "6\tshe\n",
            "8\tpython\n",
            "10\tdo\n",
            "12\tlike\n"
          ]
        }
      ]
    },
    {
      "cell_type": "markdown",
      "source": [
        "## 2.2. if문\n",
        "* 조건을 판단하여 해당 조건에 맞는 상황을 수행\n",
        "* 기본 구조\n",
        "```\n",
        "if 조건문1:\n",
        "    수행할 문장1\n",
        "    수행할 문장2\n",
        "elif 조건문2:\n",
        "    수행할 문장3\n",
        "    수행할 문장4\n",
        "else :\n",
        "    수행할 문장5\n",
        "    수행할 문장6\n",
        "```\n",
        "\n",
        "* 비교연산자\n",
        "    * x < y\n",
        "    * x > y\n",
        "    * x == y : x와 y가 같다\n",
        "    * x != y : x와 y가 다르다\n",
        "    * x >= y\n",
        "    * x <= y\n",
        "\n",
        "* and, or, not\n",
        "    * x or y\n",
        "    * x and y\n",
        "    * not x\n",
        "\n",
        "* x in list, x not in list"
      ],
      "metadata": {
        "id": "ktLtJ40nYpyI"
      }
    },
    {
      "cell_type": "code",
      "source": [
        "sentence = \"i like python he likes python she likes python and do you like python\"\n",
        "print(sentence)\n",
        "tokens = sentence.split()\n",
        "print(tokens)"
      ],
      "metadata": {
        "colab": {
          "base_uri": "https://localhost:8080/"
        },
        "id": "eOmZ2lJiYfs-",
        "outputId": "2c4fc55d-61e2-43b0-981c-8d28743b0641"
      },
      "execution_count": 88,
      "outputs": [
        {
          "output_type": "stream",
          "name": "stdout",
          "text": [
            "i like python he likes python she likes python and do you like python\n",
            "['i', 'like', 'python', 'he', 'likes', 'python', 'she', 'likes', 'python', 'and', 'do', 'you', 'like', 'python']\n"
          ]
        }
      ]
    },
    {
      "cell_type": "code",
      "source": [
        "for token in tokens :\n",
        "  if token == 'python' :\n",
        "    print(token, \": yes!\")\n",
        "  else :\n",
        "    print(token, \": no!\")"
      ],
      "metadata": {
        "colab": {
          "base_uri": "https://localhost:8080/"
        },
        "id": "1g2E8vhfZsQt",
        "outputId": "e46cf0b1-9dde-4ab7-d2dc-8abc588b9899"
      },
      "execution_count": 90,
      "outputs": [
        {
          "output_type": "stream",
          "name": "stdout",
          "text": [
            "i : no!\n",
            "like : no!\n",
            "python : yes!\n",
            "he : no!\n",
            "likes : no!\n",
            "python : yes!\n",
            "she : no!\n",
            "likes : no!\n",
            "python : yes!\n",
            "and : no!\n",
            "do : no!\n",
            "you : no!\n",
            "like : no!\n",
            "python : yes!\n"
          ]
        }
      ]
    },
    {
      "cell_type": "code",
      "source": [
        "#딕셔너리로 count 사전 만들기..\n",
        "count_dict = {}\n",
        "for token in tokens :\n",
        "  if token not in count_dict :\n",
        "    count_dict[token] = 1\n",
        "  else :\n",
        "    value = count_dict[token]\n",
        "    value = value + 1\n",
        "    count_dict[token] = value\n",
        "\n",
        "print(count_dict)"
      ],
      "metadata": {
        "colab": {
          "base_uri": "https://localhost:8080/"
        },
        "id": "MWe-mCw8Z7Ts",
        "outputId": "a7ff5061-d12d-41f1-de16-b89dbeb2f420"
      },
      "execution_count": 91,
      "outputs": [
        {
          "output_type": "stream",
          "name": "stdout",
          "text": [
            "{'i': 1, 'like': 2, 'python': 4, 'he': 1, 'likes': 2, 'she': 1, 'and': 1, 'do': 1, 'you': 1}\n"
          ]
        }
      ]
    },
    {
      "cell_type": "markdown",
      "source": [
        "# 3. 파일 입출력\n",
        "* 파일 읽기\n",
        "    * 모드: 'r'\n",
        "    * 함수 : readlines()\n",
        "    * with문으로 읽기\n",
        "* 파일 쓰기\n",
        "    * 모드: 'w'\n",
        "    * 함수: write()"
      ],
      "metadata": {
        "id": "h7TBx2Prae3D"
      }
    },
    {
      "cell_type": "code",
      "source": [
        "f = open('sample.txt', 'r', encoding = \"utf-8\")\n",
        "lines = f.readlines()\n",
        "lines\n",
        "f.close()"
      ],
      "metadata": {
        "id": "1wtgQspnaTO5"
      },
      "execution_count": 104,
      "outputs": []
    },
    {
      "cell_type": "code",
      "source": [
        "f = open('sample.txt', 'r', encoding = \"utf-8\")\n",
        "\n",
        "for line in f.readlines() :\n",
        "  print(line)\n",
        "  line = line.strip()\n",
        "  print(\"==>\", line)\n",
        "\n",
        "f.close()"
      ],
      "metadata": {
        "colab": {
          "base_uri": "https://localhost:8080/"
        },
        "id": "Yzd94apxbxs6",
        "outputId": "9d6256fa-b9f4-4ae7-c410-8ce46708970b"
      },
      "execution_count": 106,
      "outputs": [
        {
          "output_type": "stream",
          "name": "stdout",
          "text": [
            "Let’s know about the AI converter that converts your Python script to C++ Code using OpenAI Codex.\n",
            "\n",
            "==> Let’s know about the AI converter that converts your Python script to C++ Code using OpenAI Codex.\n",
            "Python is an interpreted, object-oriented, high-level programming language with dynamic semantics. It supports modules and packages, which encourages program modularity and code reuse. This language is often used to build websites and software, automate tasks, and conduct data analysis.\n",
            "\n",
            "==> Python is an interpreted, object-oriented, high-level programming language with dynamic semantics. It supports modules and packages, which encourages program modularity and code reuse. This language is often used to build websites and software, automate tasks, and conduct data analysis.\n",
            "C++ is one of the world’s most popular programming languages and it can be found in today’s operating systems, Graphical User Interfaces, and embedded systems. It can be used to develop operating systems, browsers, games, and so on. Python is better than C++ in terms of its simplicity and easy syntax. But C++ is better in terms of performance, speed, vast application areas, etc. Converting one form (anything) to another form using AI is an AI converter. AI converter converts and rasterizes your vector files online. Convert your Python script to C++ Code using OpenAI Codex.\n",
            "\n",
            "==> C++ is one of the world’s most popular programming languages and it can be found in today’s operating systems, Graphical User Interfaces, and embedded systems. It can be used to develop operating systems, browsers, games, and so on. Python is better than C++ in terms of its simplicity and easy syntax. But C++ is better in terms of performance, speed, vast application areas, etc. Converting one form (anything) to another form using AI is an AI converter. AI converter converts and rasterizes your vector files online. Convert your Python script to C++ Code using OpenAI Codex.\n",
            "OpenAI Codex Python to C++ Code Generator:\n",
            "\n",
            "==> OpenAI Codex Python to C++ Code Generator:\n",
            "OpenAI is an AI research and deployment company. Our mission is to ensure that artificial general intelligence benefits all of humanity. And codex helps computers to better understand people’s intent, which enables everyone to do more with computers.\n",
            "\n",
            "==> OpenAI is an AI research and deployment company. Our mission is to ensure that artificial general intelligence benefits all of humanity. And codex helps computers to better understand people’s intent, which enables everyone to do more with computers.\n",
            "OpenAI Codex has much of the natural language understanding of GPT-3, but it produces working code. Its training data contains both natural language and billions of lines of source code from publicly available sources, including code in public GitHub repositories. It is a general-purpose programming model, meaning that it can be applied to essentially any programming task.\n",
            "\n",
            "==> OpenAI Codex has much of the natural language understanding of GPT-3, but it produces working code. Its training data contains both natural language and billions of lines of source code from publicly available sources, including code in public GitHub repositories. It is a general-purpose programming model, meaning that it can be applied to essentially any programming task.\n",
            "OpenAI Codex is most capable in Python, but it is also proficient in over a dozen languages including JavaScript, Go, Perl, PHP, Ruby, Swift and TypeScript, and even Shell. It is available in private beta via our API, and it aims to scale up as quickly as we can safely do it.\n",
            "\n",
            "==> OpenAI Codex is most capable in Python, but it is also proficient in over a dozen languages including JavaScript, Go, Perl, PHP, Ruby, Swift and TypeScript, and even Shell. It is available in private beta via our API, and it aims to scale up as quickly as we can safely do it.\n",
            "codex_py2cpp:\n",
            "\n",
            "==> codex_py2cpp:\n",
            "Convert your Python script to C++ Code using OpenAI Codex. Created codex_py2cpp as a way of experimenting with Codex. Python file creates an input prompt which is then fed to OpenAI Codex to generate corresponding C++ code. The generated code is getting compiled using g++ and if compilation is successful when the executable is saved.\n",
            "\n",
            "==> Convert your Python script to C++ Code using OpenAI Codex. Created codex_py2cpp as a way of experimenting with Codex. Python file creates an input prompt which is then fed to OpenAI Codex to generate corresponding C++ code. The generated code is getting compiled using g++ and if compilation is successful when the executable is saved.\n",
            "It had slightly different ideas, however, and created codex_py2cpp as a way to play with the idea of automagically converting Python into C++. It’s not really intended to create robust code conversions. The program works by reading a Python script as an input file, setting up a few parameters, then making a request to OpenAI’s Codex API for the conversion. To generate your own files, you need to get access to the Codex API\n",
            "==> It had slightly different ideas, however, and created codex_py2cpp as a way to play with the idea of automagically converting Python into C++. It’s not really intended to create robust code conversions. The program works by reading a Python script as an input file, setting up a few parameters, then making a request to OpenAI’s Codex API for the conversion. To generate your own files, you need to get access to the Codex API\n"
          ]
        }
      ]
    },
    {
      "cell_type": "code",
      "source": [
        "# with 사용하기 -> open, close가 필요없다\n",
        "\n",
        "with open(\"sample.txt\", 'r', encoding = \"utf-8\") as f :\n",
        "  for line in f.readlines() :\n",
        "    print(line)"
      ],
      "metadata": {
        "colab": {
          "base_uri": "https://localhost:8080/"
        },
        "id": "b_6fkfF_cpuV",
        "outputId": "34448bd8-499b-4e71-897f-a1a7149137c0"
      },
      "execution_count": 107,
      "outputs": [
        {
          "output_type": "stream",
          "name": "stdout",
          "text": [
            "Let’s know about the AI converter that converts your Python script to C++ Code using OpenAI Codex.\n",
            "\n",
            "Python is an interpreted, object-oriented, high-level programming language with dynamic semantics. It supports modules and packages, which encourages program modularity and code reuse. This language is often used to build websites and software, automate tasks, and conduct data analysis.\n",
            "\n",
            "C++ is one of the world’s most popular programming languages and it can be found in today’s operating systems, Graphical User Interfaces, and embedded systems. It can be used to develop operating systems, browsers, games, and so on. Python is better than C++ in terms of its simplicity and easy syntax. But C++ is better in terms of performance, speed, vast application areas, etc. Converting one form (anything) to another form using AI is an AI converter. AI converter converts and rasterizes your vector files online. Convert your Python script to C++ Code using OpenAI Codex.\n",
            "\n",
            "OpenAI Codex Python to C++ Code Generator:\n",
            "\n",
            "OpenAI is an AI research and deployment company. Our mission is to ensure that artificial general intelligence benefits all of humanity. And codex helps computers to better understand people’s intent, which enables everyone to do more with computers.\n",
            "\n",
            "OpenAI Codex has much of the natural language understanding of GPT-3, but it produces working code. Its training data contains both natural language and billions of lines of source code from publicly available sources, including code in public GitHub repositories. It is a general-purpose programming model, meaning that it can be applied to essentially any programming task.\n",
            "\n",
            "OpenAI Codex is most capable in Python, but it is also proficient in over a dozen languages including JavaScript, Go, Perl, PHP, Ruby, Swift and TypeScript, and even Shell. It is available in private beta via our API, and it aims to scale up as quickly as we can safely do it.\n",
            "\n",
            "codex_py2cpp:\n",
            "\n",
            "Convert your Python script to C++ Code using OpenAI Codex. Created codex_py2cpp as a way of experimenting with Codex. Python file creates an input prompt which is then fed to OpenAI Codex to generate corresponding C++ code. The generated code is getting compiled using g++ and if compilation is successful when the executable is saved.\n",
            "\n",
            "It had slightly different ideas, however, and created codex_py2cpp as a way to play with the idea of automagically converting Python into C++. It’s not really intended to create robust code conversions. The program works by reading a Python script as an input file, setting up a few parameters, then making a request to OpenAI’s Codex API for the conversion. To generate your own files, you need to get access to the Codex API\n"
          ]
        }
      ]
    },
    {
      "cell_type": "code",
      "source": [
        "with open(\"sample.txt\", 'r', encoding= \"utf-8\") as f :\n",
        "  for line in f.readlines() :\n",
        "    line = line.strip()\n",
        "    print(line)"
      ],
      "metadata": {
        "colab": {
          "base_uri": "https://localhost:8080/"
        },
        "id": "46qxLDr8dGfy",
        "outputId": "7f9dd4c9-a1b3-4a2a-ed4d-dd333916ec26"
      },
      "execution_count": 108,
      "outputs": [
        {
          "output_type": "stream",
          "name": "stdout",
          "text": [
            "Let’s know about the AI converter that converts your Python script to C++ Code using OpenAI Codex.\n",
            "Python is an interpreted, object-oriented, high-level programming language with dynamic semantics. It supports modules and packages, which encourages program modularity and code reuse. This language is often used to build websites and software, automate tasks, and conduct data analysis.\n",
            "C++ is one of the world’s most popular programming languages and it can be found in today’s operating systems, Graphical User Interfaces, and embedded systems. It can be used to develop operating systems, browsers, games, and so on. Python is better than C++ in terms of its simplicity and easy syntax. But C++ is better in terms of performance, speed, vast application areas, etc. Converting one form (anything) to another form using AI is an AI converter. AI converter converts and rasterizes your vector files online. Convert your Python script to C++ Code using OpenAI Codex.\n",
            "OpenAI Codex Python to C++ Code Generator:\n",
            "OpenAI is an AI research and deployment company. Our mission is to ensure that artificial general intelligence benefits all of humanity. And codex helps computers to better understand people’s intent, which enables everyone to do more with computers.\n",
            "OpenAI Codex has much of the natural language understanding of GPT-3, but it produces working code. Its training data contains both natural language and billions of lines of source code from publicly available sources, including code in public GitHub repositories. It is a general-purpose programming model, meaning that it can be applied to essentially any programming task.\n",
            "OpenAI Codex is most capable in Python, but it is also proficient in over a dozen languages including JavaScript, Go, Perl, PHP, Ruby, Swift and TypeScript, and even Shell. It is available in private beta via our API, and it aims to scale up as quickly as we can safely do it.\n",
            "codex_py2cpp:\n",
            "Convert your Python script to C++ Code using OpenAI Codex. Created codex_py2cpp as a way of experimenting with Codex. Python file creates an input prompt which is then fed to OpenAI Codex to generate corresponding C++ code. The generated code is getting compiled using g++ and if compilation is successful when the executable is saved.\n",
            "It had slightly different ideas, however, and created codex_py2cpp as a way to play with the idea of automagically converting Python into C++. It’s not really intended to create robust code conversions. The program works by reading a Python script as an input file, setting up a few parameters, then making a request to OpenAI’s Codex API for the conversion. To generate your own files, you need to get access to the Codex API\n"
          ]
        }
      ]
    },
    {
      "cell_type": "code",
      "source": [
        "#파일 쓰기\n",
        "\n",
        "f = open('write_sample', 'w', encoding = \"utf-8\")\n",
        "f.write(\"안녕하세요\")\n",
        "f.close()"
      ],
      "metadata": {
        "id": "14FD2t3ydNbL"
      },
      "execution_count": 109,
      "outputs": []
    },
    {
      "cell_type": "code",
      "source": [
        ""
      ],
      "metadata": {
        "id": "gQtvk9hYdXuq"
      },
      "execution_count": null,
      "outputs": []
    }
  ]
}