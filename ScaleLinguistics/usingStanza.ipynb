{
  "nbformat": 4,
  "nbformat_minor": 0,
  "metadata": {
    "colab": {
      "name": "usingStanza.ipynb",
      "provenance": [],
      "authorship_tag": "ABX9TyPwrMh4wo31GA75B4zsbP2J",
      "include_colab_link": true
    },
    "kernelspec": {
      "name": "python3",
      "display_name": "Python 3"
    },
    "language_info": {
      "name": "python"
    },
    "widgets": {
      "application/vnd.jupyter.widget-state+json": {
        "155b1ab4c809462386b8e7673e8f8bcd": {
          "model_module": "@jupyter-widgets/controls",
          "model_name": "HBoxModel",
          "model_module_version": "1.5.0",
          "state": {
            "_view_name": "HBoxView",
            "_dom_classes": [],
            "_model_name": "HBoxModel",
            "_view_module": "@jupyter-widgets/controls",
            "_model_module_version": "1.5.0",
            "_view_count": null,
            "_view_module_version": "1.5.0",
            "box_style": "",
            "layout": "IPY_MODEL_114351212051451b8ad1c03ffdc526ce",
            "_model_module": "@jupyter-widgets/controls",
            "children": [
              "IPY_MODEL_79ffc85ca9ec4ec0aa710547d7e0611d",
              "IPY_MODEL_bfdf22b7e3bb4dd39e42a09ce5b8df3f",
              "IPY_MODEL_f6df231e057d48638e2af8311c033c5b"
            ]
          }
        },
        "114351212051451b8ad1c03ffdc526ce": {
          "model_module": "@jupyter-widgets/base",
          "model_name": "LayoutModel",
          "model_module_version": "1.2.0",
          "state": {
            "_view_name": "LayoutView",
            "grid_template_rows": null,
            "right": null,
            "justify_content": null,
            "_view_module": "@jupyter-widgets/base",
            "overflow": null,
            "_model_module_version": "1.2.0",
            "_view_count": null,
            "flex_flow": null,
            "width": null,
            "min_width": null,
            "border": null,
            "align_items": null,
            "bottom": null,
            "_model_module": "@jupyter-widgets/base",
            "top": null,
            "grid_column": null,
            "overflow_y": null,
            "overflow_x": null,
            "grid_auto_flow": null,
            "grid_area": null,
            "grid_template_columns": null,
            "flex": null,
            "_model_name": "LayoutModel",
            "justify_items": null,
            "grid_row": null,
            "max_height": null,
            "align_content": null,
            "visibility": null,
            "align_self": null,
            "height": null,
            "min_height": null,
            "padding": null,
            "grid_auto_rows": null,
            "grid_gap": null,
            "max_width": null,
            "order": null,
            "_view_module_version": "1.2.0",
            "grid_template_areas": null,
            "object_position": null,
            "object_fit": null,
            "grid_auto_columns": null,
            "margin": null,
            "display": null,
            "left": null
          }
        },
        "79ffc85ca9ec4ec0aa710547d7e0611d": {
          "model_module": "@jupyter-widgets/controls",
          "model_name": "HTMLModel",
          "model_module_version": "1.5.0",
          "state": {
            "_view_name": "HTMLView",
            "style": "IPY_MODEL_7f973a5f5c414fab98bdbbd8b8efcae2",
            "_dom_classes": [],
            "description": "",
            "_model_name": "HTMLModel",
            "placeholder": "​",
            "_view_module": "@jupyter-widgets/controls",
            "_model_module_version": "1.5.0",
            "value": "Downloading https://raw.githubusercontent.com/stanfordnlp/stanza-resources/main/resources_1.2.2.json: ",
            "_view_count": null,
            "_view_module_version": "1.5.0",
            "description_tooltip": null,
            "_model_module": "@jupyter-widgets/controls",
            "layout": "IPY_MODEL_1062edd4fa5d454fbec6a9e9ad21e57c"
          }
        },
        "bfdf22b7e3bb4dd39e42a09ce5b8df3f": {
          "model_module": "@jupyter-widgets/controls",
          "model_name": "FloatProgressModel",
          "model_module_version": "1.5.0",
          "state": {
            "_view_name": "ProgressView",
            "style": "IPY_MODEL_5a76875f5c14427db922faee707da5ce",
            "_dom_classes": [],
            "description": "",
            "_model_name": "FloatProgressModel",
            "bar_style": "success",
            "max": 24144,
            "_view_module": "@jupyter-widgets/controls",
            "_model_module_version": "1.5.0",
            "value": 24144,
            "_view_count": null,
            "_view_module_version": "1.5.0",
            "orientation": "horizontal",
            "min": 0,
            "description_tooltip": null,
            "_model_module": "@jupyter-widgets/controls",
            "layout": "IPY_MODEL_70ae4aeacb254526b18702758a43afe9"
          }
        },
        "f6df231e057d48638e2af8311c033c5b": {
          "model_module": "@jupyter-widgets/controls",
          "model_name": "HTMLModel",
          "model_module_version": "1.5.0",
          "state": {
            "_view_name": "HTMLView",
            "style": "IPY_MODEL_5e4b6a5c0e7143e6ab832e6b8d063505",
            "_dom_classes": [],
            "description": "",
            "_model_name": "HTMLModel",
            "placeholder": "​",
            "_view_module": "@jupyter-widgets/controls",
            "_model_module_version": "1.5.0",
            "value": " 140k/? [00:00&lt;00:00, 2.78MB/s]",
            "_view_count": null,
            "_view_module_version": "1.5.0",
            "description_tooltip": null,
            "_model_module": "@jupyter-widgets/controls",
            "layout": "IPY_MODEL_d3ffc4cdae9b424aa4ea23b55f8de8a5"
          }
        },
        "7f973a5f5c414fab98bdbbd8b8efcae2": {
          "model_module": "@jupyter-widgets/controls",
          "model_name": "DescriptionStyleModel",
          "model_module_version": "1.5.0",
          "state": {
            "_view_name": "StyleView",
            "_model_name": "DescriptionStyleModel",
            "description_width": "",
            "_view_module": "@jupyter-widgets/base",
            "_model_module_version": "1.5.0",
            "_view_count": null,
            "_view_module_version": "1.2.0",
            "_model_module": "@jupyter-widgets/controls"
          }
        },
        "1062edd4fa5d454fbec6a9e9ad21e57c": {
          "model_module": "@jupyter-widgets/base",
          "model_name": "LayoutModel",
          "model_module_version": "1.2.0",
          "state": {
            "_view_name": "LayoutView",
            "grid_template_rows": null,
            "right": null,
            "justify_content": null,
            "_view_module": "@jupyter-widgets/base",
            "overflow": null,
            "_model_module_version": "1.2.0",
            "_view_count": null,
            "flex_flow": null,
            "width": null,
            "min_width": null,
            "border": null,
            "align_items": null,
            "bottom": null,
            "_model_module": "@jupyter-widgets/base",
            "top": null,
            "grid_column": null,
            "overflow_y": null,
            "overflow_x": null,
            "grid_auto_flow": null,
            "grid_area": null,
            "grid_template_columns": null,
            "flex": null,
            "_model_name": "LayoutModel",
            "justify_items": null,
            "grid_row": null,
            "max_height": null,
            "align_content": null,
            "visibility": null,
            "align_self": null,
            "height": null,
            "min_height": null,
            "padding": null,
            "grid_auto_rows": null,
            "grid_gap": null,
            "max_width": null,
            "order": null,
            "_view_module_version": "1.2.0",
            "grid_template_areas": null,
            "object_position": null,
            "object_fit": null,
            "grid_auto_columns": null,
            "margin": null,
            "display": null,
            "left": null
          }
        },
        "5a76875f5c14427db922faee707da5ce": {
          "model_module": "@jupyter-widgets/controls",
          "model_name": "ProgressStyleModel",
          "model_module_version": "1.5.0",
          "state": {
            "_view_name": "StyleView",
            "_model_name": "ProgressStyleModel",
            "description_width": "",
            "_view_module": "@jupyter-widgets/base",
            "_model_module_version": "1.5.0",
            "_view_count": null,
            "_view_module_version": "1.2.0",
            "bar_color": null,
            "_model_module": "@jupyter-widgets/controls"
          }
        },
        "70ae4aeacb254526b18702758a43afe9": {
          "model_module": "@jupyter-widgets/base",
          "model_name": "LayoutModel",
          "model_module_version": "1.2.0",
          "state": {
            "_view_name": "LayoutView",
            "grid_template_rows": null,
            "right": null,
            "justify_content": null,
            "_view_module": "@jupyter-widgets/base",
            "overflow": null,
            "_model_module_version": "1.2.0",
            "_view_count": null,
            "flex_flow": null,
            "width": null,
            "min_width": null,
            "border": null,
            "align_items": null,
            "bottom": null,
            "_model_module": "@jupyter-widgets/base",
            "top": null,
            "grid_column": null,
            "overflow_y": null,
            "overflow_x": null,
            "grid_auto_flow": null,
            "grid_area": null,
            "grid_template_columns": null,
            "flex": null,
            "_model_name": "LayoutModel",
            "justify_items": null,
            "grid_row": null,
            "max_height": null,
            "align_content": null,
            "visibility": null,
            "align_self": null,
            "height": null,
            "min_height": null,
            "padding": null,
            "grid_auto_rows": null,
            "grid_gap": null,
            "max_width": null,
            "order": null,
            "_view_module_version": "1.2.0",
            "grid_template_areas": null,
            "object_position": null,
            "object_fit": null,
            "grid_auto_columns": null,
            "margin": null,
            "display": null,
            "left": null
          }
        },
        "5e4b6a5c0e7143e6ab832e6b8d063505": {
          "model_module": "@jupyter-widgets/controls",
          "model_name": "DescriptionStyleModel",
          "model_module_version": "1.5.0",
          "state": {
            "_view_name": "StyleView",
            "_model_name": "DescriptionStyleModel",
            "description_width": "",
            "_view_module": "@jupyter-widgets/base",
            "_model_module_version": "1.5.0",
            "_view_count": null,
            "_view_module_version": "1.2.0",
            "_model_module": "@jupyter-widgets/controls"
          }
        },
        "d3ffc4cdae9b424aa4ea23b55f8de8a5": {
          "model_module": "@jupyter-widgets/base",
          "model_name": "LayoutModel",
          "model_module_version": "1.2.0",
          "state": {
            "_view_name": "LayoutView",
            "grid_template_rows": null,
            "right": null,
            "justify_content": null,
            "_view_module": "@jupyter-widgets/base",
            "overflow": null,
            "_model_module_version": "1.2.0",
            "_view_count": null,
            "flex_flow": null,
            "width": null,
            "min_width": null,
            "border": null,
            "align_items": null,
            "bottom": null,
            "_model_module": "@jupyter-widgets/base",
            "top": null,
            "grid_column": null,
            "overflow_y": null,
            "overflow_x": null,
            "grid_auto_flow": null,
            "grid_area": null,
            "grid_template_columns": null,
            "flex": null,
            "_model_name": "LayoutModel",
            "justify_items": null,
            "grid_row": null,
            "max_height": null,
            "align_content": null,
            "visibility": null,
            "align_self": null,
            "height": null,
            "min_height": null,
            "padding": null,
            "grid_auto_rows": null,
            "grid_gap": null,
            "max_width": null,
            "order": null,
            "_view_module_version": "1.2.0",
            "grid_template_areas": null,
            "object_position": null,
            "object_fit": null,
            "grid_auto_columns": null,
            "margin": null,
            "display": null,
            "left": null
          }
        },
        "3dad4611010d4a3da9f33a861c59c60e": {
          "model_module": "@jupyter-widgets/controls",
          "model_name": "HBoxModel",
          "model_module_version": "1.5.0",
          "state": {
            "_view_name": "HBoxView",
            "_dom_classes": [],
            "_model_name": "HBoxModel",
            "_view_module": "@jupyter-widgets/controls",
            "_model_module_version": "1.5.0",
            "_view_count": null,
            "_view_module_version": "1.5.0",
            "box_style": "",
            "layout": "IPY_MODEL_416168d5fed046c196c635ad0d2362da",
            "_model_module": "@jupyter-widgets/controls",
            "children": [
              "IPY_MODEL_961441de579e40e395c5424424ed979e",
              "IPY_MODEL_01d3a86537c64e838fb721b4622fff82",
              "IPY_MODEL_ec2402dd1fbb4607b10e18dccc3ef7d9"
            ]
          }
        },
        "416168d5fed046c196c635ad0d2362da": {
          "model_module": "@jupyter-widgets/base",
          "model_name": "LayoutModel",
          "model_module_version": "1.2.0",
          "state": {
            "_view_name": "LayoutView",
            "grid_template_rows": null,
            "right": null,
            "justify_content": null,
            "_view_module": "@jupyter-widgets/base",
            "overflow": null,
            "_model_module_version": "1.2.0",
            "_view_count": null,
            "flex_flow": null,
            "width": null,
            "min_width": null,
            "border": null,
            "align_items": null,
            "bottom": null,
            "_model_module": "@jupyter-widgets/base",
            "top": null,
            "grid_column": null,
            "overflow_y": null,
            "overflow_x": null,
            "grid_auto_flow": null,
            "grid_area": null,
            "grid_template_columns": null,
            "flex": null,
            "_model_name": "LayoutModel",
            "justify_items": null,
            "grid_row": null,
            "max_height": null,
            "align_content": null,
            "visibility": null,
            "align_self": null,
            "height": null,
            "min_height": null,
            "padding": null,
            "grid_auto_rows": null,
            "grid_gap": null,
            "max_width": null,
            "order": null,
            "_view_module_version": "1.2.0",
            "grid_template_areas": null,
            "object_position": null,
            "object_fit": null,
            "grid_auto_columns": null,
            "margin": null,
            "display": null,
            "left": null
          }
        },
        "961441de579e40e395c5424424ed979e": {
          "model_module": "@jupyter-widgets/controls",
          "model_name": "HTMLModel",
          "model_module_version": "1.5.0",
          "state": {
            "_view_name": "HTMLView",
            "style": "IPY_MODEL_ffab3b9422414941b54ed355f4a396e7",
            "_dom_classes": [],
            "description": "",
            "_model_name": "HTMLModel",
            "placeholder": "​",
            "_view_module": "@jupyter-widgets/controls",
            "_model_module_version": "1.5.0",
            "value": "Downloading http://nlp.stanford.edu/software/stanza/1.2.2/en/default.zip: 100%",
            "_view_count": null,
            "_view_module_version": "1.5.0",
            "description_tooltip": null,
            "_model_module": "@jupyter-widgets/controls",
            "layout": "IPY_MODEL_1acfa194289d462b816171c831e198ea"
          }
        },
        "01d3a86537c64e838fb721b4622fff82": {
          "model_module": "@jupyter-widgets/controls",
          "model_name": "FloatProgressModel",
          "model_module_version": "1.5.0",
          "state": {
            "_view_name": "ProgressView",
            "style": "IPY_MODEL_a2c26f5cfde2424b87f07708c8a2597b",
            "_dom_classes": [],
            "description": "",
            "_model_name": "FloatProgressModel",
            "bar_style": "success",
            "max": 411784510,
            "_view_module": "@jupyter-widgets/controls",
            "_model_module_version": "1.5.0",
            "value": 411784510,
            "_view_count": null,
            "_view_module_version": "1.5.0",
            "orientation": "horizontal",
            "min": 0,
            "description_tooltip": null,
            "_model_module": "@jupyter-widgets/controls",
            "layout": "IPY_MODEL_35054d6dac304beca70f5271aa8a8e15"
          }
        },
        "ec2402dd1fbb4607b10e18dccc3ef7d9": {
          "model_module": "@jupyter-widgets/controls",
          "model_name": "HTMLModel",
          "model_module_version": "1.5.0",
          "state": {
            "_view_name": "HTMLView",
            "style": "IPY_MODEL_429c4dbbbd3f49e99859aa41a048dbf8",
            "_dom_classes": [],
            "description": "",
            "_model_name": "HTMLModel",
            "placeholder": "​",
            "_view_module": "@jupyter-widgets/controls",
            "_model_module_version": "1.5.0",
            "value": " 412M/412M [05:13&lt;00:00, 1.84MB/s]",
            "_view_count": null,
            "_view_module_version": "1.5.0",
            "description_tooltip": null,
            "_model_module": "@jupyter-widgets/controls",
            "layout": "IPY_MODEL_2056ecd4172a4efab532e027a0d9e7ce"
          }
        },
        "ffab3b9422414941b54ed355f4a396e7": {
          "model_module": "@jupyter-widgets/controls",
          "model_name": "DescriptionStyleModel",
          "model_module_version": "1.5.0",
          "state": {
            "_view_name": "StyleView",
            "_model_name": "DescriptionStyleModel",
            "description_width": "",
            "_view_module": "@jupyter-widgets/base",
            "_model_module_version": "1.5.0",
            "_view_count": null,
            "_view_module_version": "1.2.0",
            "_model_module": "@jupyter-widgets/controls"
          }
        },
        "1acfa194289d462b816171c831e198ea": {
          "model_module": "@jupyter-widgets/base",
          "model_name": "LayoutModel",
          "model_module_version": "1.2.0",
          "state": {
            "_view_name": "LayoutView",
            "grid_template_rows": null,
            "right": null,
            "justify_content": null,
            "_view_module": "@jupyter-widgets/base",
            "overflow": null,
            "_model_module_version": "1.2.0",
            "_view_count": null,
            "flex_flow": null,
            "width": null,
            "min_width": null,
            "border": null,
            "align_items": null,
            "bottom": null,
            "_model_module": "@jupyter-widgets/base",
            "top": null,
            "grid_column": null,
            "overflow_y": null,
            "overflow_x": null,
            "grid_auto_flow": null,
            "grid_area": null,
            "grid_template_columns": null,
            "flex": null,
            "_model_name": "LayoutModel",
            "justify_items": null,
            "grid_row": null,
            "max_height": null,
            "align_content": null,
            "visibility": null,
            "align_self": null,
            "height": null,
            "min_height": null,
            "padding": null,
            "grid_auto_rows": null,
            "grid_gap": null,
            "max_width": null,
            "order": null,
            "_view_module_version": "1.2.0",
            "grid_template_areas": null,
            "object_position": null,
            "object_fit": null,
            "grid_auto_columns": null,
            "margin": null,
            "display": null,
            "left": null
          }
        },
        "a2c26f5cfde2424b87f07708c8a2597b": {
          "model_module": "@jupyter-widgets/controls",
          "model_name": "ProgressStyleModel",
          "model_module_version": "1.5.0",
          "state": {
            "_view_name": "StyleView",
            "_model_name": "ProgressStyleModel",
            "description_width": "",
            "_view_module": "@jupyter-widgets/base",
            "_model_module_version": "1.5.0",
            "_view_count": null,
            "_view_module_version": "1.2.0",
            "bar_color": null,
            "_model_module": "@jupyter-widgets/controls"
          }
        },
        "35054d6dac304beca70f5271aa8a8e15": {
          "model_module": "@jupyter-widgets/base",
          "model_name": "LayoutModel",
          "model_module_version": "1.2.0",
          "state": {
            "_view_name": "LayoutView",
            "grid_template_rows": null,
            "right": null,
            "justify_content": null,
            "_view_module": "@jupyter-widgets/base",
            "overflow": null,
            "_model_module_version": "1.2.0",
            "_view_count": null,
            "flex_flow": null,
            "width": null,
            "min_width": null,
            "border": null,
            "align_items": null,
            "bottom": null,
            "_model_module": "@jupyter-widgets/base",
            "top": null,
            "grid_column": null,
            "overflow_y": null,
            "overflow_x": null,
            "grid_auto_flow": null,
            "grid_area": null,
            "grid_template_columns": null,
            "flex": null,
            "_model_name": "LayoutModel",
            "justify_items": null,
            "grid_row": null,
            "max_height": null,
            "align_content": null,
            "visibility": null,
            "align_self": null,
            "height": null,
            "min_height": null,
            "padding": null,
            "grid_auto_rows": null,
            "grid_gap": null,
            "max_width": null,
            "order": null,
            "_view_module_version": "1.2.0",
            "grid_template_areas": null,
            "object_position": null,
            "object_fit": null,
            "grid_auto_columns": null,
            "margin": null,
            "display": null,
            "left": null
          }
        },
        "429c4dbbbd3f49e99859aa41a048dbf8": {
          "model_module": "@jupyter-widgets/controls",
          "model_name": "DescriptionStyleModel",
          "model_module_version": "1.5.0",
          "state": {
            "_view_name": "StyleView",
            "_model_name": "DescriptionStyleModel",
            "description_width": "",
            "_view_module": "@jupyter-widgets/base",
            "_model_module_version": "1.5.0",
            "_view_count": null,
            "_view_module_version": "1.2.0",
            "_model_module": "@jupyter-widgets/controls"
          }
        },
        "2056ecd4172a4efab532e027a0d9e7ce": {
          "model_module": "@jupyter-widgets/base",
          "model_name": "LayoutModel",
          "model_module_version": "1.2.0",
          "state": {
            "_view_name": "LayoutView",
            "grid_template_rows": null,
            "right": null,
            "justify_content": null,
            "_view_module": "@jupyter-widgets/base",
            "overflow": null,
            "_model_module_version": "1.2.0",
            "_view_count": null,
            "flex_flow": null,
            "width": null,
            "min_width": null,
            "border": null,
            "align_items": null,
            "bottom": null,
            "_model_module": "@jupyter-widgets/base",
            "top": null,
            "grid_column": null,
            "overflow_y": null,
            "overflow_x": null,
            "grid_auto_flow": null,
            "grid_area": null,
            "grid_template_columns": null,
            "flex": null,
            "_model_name": "LayoutModel",
            "justify_items": null,
            "grid_row": null,
            "max_height": null,
            "align_content": null,
            "visibility": null,
            "align_self": null,
            "height": null,
            "min_height": null,
            "padding": null,
            "grid_auto_rows": null,
            "grid_gap": null,
            "max_width": null,
            "order": null,
            "_view_module_version": "1.2.0",
            "grid_template_areas": null,
            "object_position": null,
            "object_fit": null,
            "grid_auto_columns": null,
            "margin": null,
            "display": null,
            "left": null
          }
        }
      }
    }
  },
  "cells": [
    {
      "cell_type": "markdown",
      "metadata": {
        "id": "view-in-github",
        "colab_type": "text"
      },
      "source": [
        "<a href=\"https://colab.research.google.com/github/kim-ji-youn/tutorials/blob/main/ScaleLinguistics/usingStanza.ipynb\" target=\"_parent\"><img src=\"https://colab.research.google.com/assets/colab-badge.svg\" alt=\"Open In Colab\"/></a>"
      ]
    },
    {
      "cell_type": "markdown",
      "metadata": {
        "id": "IHgXw3pHPxNN"
      },
      "source": [
        "**STEP 1. stanza 설치하기**"
      ]
    },
    {
      "cell_type": "code",
      "metadata": {
        "colab": {
          "base_uri": "https://localhost:8080/"
        },
        "id": "FdEOb8slPqzO",
        "outputId": "1db19ca0-fbde-4385-893a-63da01696314"
      },
      "source": [
        "!pip install stanza"
      ],
      "execution_count": null,
      "outputs": [
        {
          "output_type": "stream",
          "name": "stdout",
          "text": [
            "Requirement already satisfied: stanza in /usr/local/lib/python3.7/dist-packages (1.2.3)\n",
            "Requirement already satisfied: tqdm in /usr/local/lib/python3.7/dist-packages (from stanza) (4.62.0)\n",
            "Requirement already satisfied: numpy in /usr/local/lib/python3.7/dist-packages (from stanza) (1.19.5)\n",
            "Requirement already satisfied: torch>=1.3.0 in /usr/local/lib/python3.7/dist-packages (from stanza) (1.9.0+cu102)\n",
            "Requirement already satisfied: requests in /usr/local/lib/python3.7/dist-packages (from stanza) (2.23.0)\n",
            "Requirement already satisfied: protobuf in /usr/local/lib/python3.7/dist-packages (from stanza) (3.17.3)\n",
            "Requirement already satisfied: typing-extensions in /usr/local/lib/python3.7/dist-packages (from torch>=1.3.0->stanza) (3.7.4.3)\n",
            "Requirement already satisfied: six>=1.9 in /usr/local/lib/python3.7/dist-packages (from protobuf->stanza) (1.15.0)\n",
            "Requirement already satisfied: chardet<4,>=3.0.2 in /usr/local/lib/python3.7/dist-packages (from requests->stanza) (3.0.4)\n",
            "Requirement already satisfied: urllib3!=1.25.0,!=1.25.1,<1.26,>=1.21.1 in /usr/local/lib/python3.7/dist-packages (from requests->stanza) (1.24.3)\n",
            "Requirement already satisfied: idna<3,>=2.5 in /usr/local/lib/python3.7/dist-packages (from requests->stanza) (2.10)\n",
            "Requirement already satisfied: certifi>=2017.4.17 in /usr/local/lib/python3.7/dist-packages (from requests->stanza) (2021.5.30)\n"
          ]
        }
      ]
    },
    {
      "cell_type": "markdown",
      "metadata": {
        "id": "GnvxMgocP512"
      },
      "source": [
        "**STEP 2. 설치한 stanza 불러오기**"
      ]
    },
    {
      "cell_type": "code",
      "metadata": {
        "id": "7NO9L8EIPtRG"
      },
      "source": [
        "import stanza"
      ],
      "execution_count": null,
      "outputs": []
    },
    {
      "cell_type": "markdown",
      "metadata": {
        "id": "l43frnkhQMeb"
      },
      "source": [
        "**STEP 3. 언어 모델(영어) 다운받기**\n"
      ]
    },
    {
      "cell_type": "code",
      "metadata": {
        "colab": {
          "base_uri": "https://localhost:8080/",
          "height": 496,
          "referenced_widgets": [
            "155b1ab4c809462386b8e7673e8f8bcd",
            "114351212051451b8ad1c03ffdc526ce",
            "79ffc85ca9ec4ec0aa710547d7e0611d",
            "bfdf22b7e3bb4dd39e42a09ce5b8df3f",
            "f6df231e057d48638e2af8311c033c5b",
            "7f973a5f5c414fab98bdbbd8b8efcae2",
            "1062edd4fa5d454fbec6a9e9ad21e57c",
            "5a76875f5c14427db922faee707da5ce",
            "70ae4aeacb254526b18702758a43afe9",
            "5e4b6a5c0e7143e6ab832e6b8d063505",
            "d3ffc4cdae9b424aa4ea23b55f8de8a5",
            "3dad4611010d4a3da9f33a861c59c60e",
            "416168d5fed046c196c635ad0d2362da",
            "961441de579e40e395c5424424ed979e",
            "01d3a86537c64e838fb721b4622fff82",
            "ec2402dd1fbb4607b10e18dccc3ef7d9",
            "ffab3b9422414941b54ed355f4a396e7",
            "1acfa194289d462b816171c831e198ea",
            "a2c26f5cfde2424b87f07708c8a2597b",
            "35054d6dac304beca70f5271aa8a8e15",
            "429c4dbbbd3f49e99859aa41a048dbf8",
            "2056ecd4172a4efab532e027a0d9e7ce"
          ]
        },
        "id": "SMopBEJQQBNW",
        "outputId": "b009b30d-3dbb-4b17-c4f4-33b2b4c449b5"
      },
      "source": [
        "stanza.download('en')\n",
        "nlp = stanza.Pipeline('en')"
      ],
      "execution_count": null,
      "outputs": [
        {
          "output_type": "display_data",
          "data": {
            "application/vnd.jupyter.widget-view+json": {
              "model_id": "155b1ab4c809462386b8e7673e8f8bcd",
              "version_minor": 0,
              "version_major": 2
            },
            "text/plain": [
              "Downloading https://raw.githubusercontent.com/stanfordnlp/stanza-resources/main/resources_1.2.2.json:   0%|   …"
            ]
          },
          "metadata": {}
        },
        {
          "output_type": "stream",
          "name": "stderr",
          "text": [
            "2021-09-14 17:03:46 INFO: Downloading default packages for language: en (English)...\n"
          ]
        },
        {
          "output_type": "display_data",
          "data": {
            "application/vnd.jupyter.widget-view+json": {
              "model_id": "3dad4611010d4a3da9f33a861c59c60e",
              "version_minor": 0,
              "version_major": 2
            },
            "text/plain": [
              "Downloading http://nlp.stanford.edu/software/stanza/1.2.2/en/default.zip:   0%|          | 0.00/412M [00:00<?,…"
            ]
          },
          "metadata": {}
        },
        {
          "output_type": "stream",
          "name": "stderr",
          "text": [
            "2021-09-14 17:09:07 INFO: Finished downloading models and saved to /root/stanza_resources.\n",
            "2021-09-14 17:09:07 INFO: Loading these models for language: en (English):\n",
            "=========================\n",
            "| Processor | Package   |\n",
            "-------------------------\n",
            "| tokenize  | combined  |\n",
            "| pos       | combined  |\n",
            "| lemma     | combined  |\n",
            "| depparse  | combined  |\n",
            "| sentiment | sstplus   |\n",
            "| ner       | ontonotes |\n",
            "=========================\n",
            "\n",
            "2021-09-14 17:09:07 INFO: Use device: cpu\n",
            "2021-09-14 17:09:07 INFO: Loading: tokenize\n",
            "2021-09-14 17:09:07 INFO: Loading: pos\n",
            "2021-09-14 17:09:08 INFO: Loading: lemma\n",
            "2021-09-14 17:09:08 INFO: Loading: depparse\n",
            "2021-09-14 17:09:08 INFO: Loading: sentiment\n",
            "2021-09-14 17:09:09 INFO: Loading: ner\n",
            "2021-09-14 17:09:10 INFO: Done loading processors!\n"
          ]
        }
      ]
    },
    {
      "cell_type": "markdown",
      "metadata": {
        "id": "BtU-Ywl9RPDd"
      },
      "source": [
        "**STEP 4. 대상 파일 불러오기**\n",
        "\n",
        "\n",
        "1. 대상 파일을 아래와 같이 드래그 앤 드랍으로 위치시켜 놓습니다. \n",
        "\n",
        "\n",
        "\n",
        "![image.png](data:image/png;base64,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)\n",
        "\n",
        "2. 아래 코드를 실행시켜 명령에 따라 파일 이름을 적어 줍니다."
      ]
    },
    {
      "cell_type": "code",
      "metadata": {
        "colab": {
          "base_uri": "https://localhost:8080/"
        },
        "id": "2C0dUwIRQT5m",
        "outputId": "396da1fd-3060-4105-f9e5-a557bc71c022"
      },
      "source": [
        "file_name = input(\"file_name? \")\n",
        "\n",
        "lines = []\n",
        "\n",
        "with open(file_name, \"r\", encoding = \"utf-8\") as f :\n",
        "  for line in f.readlines() :\n",
        "    lines.append(line.strip())"
      ],
      "execution_count": null,
      "outputs": [
        {
          "name": "stdout",
          "output_type": "stream",
          "text": [
            "file_name? len9.txt\n"
          ]
        }
      ]
    },
    {
      "cell_type": "code",
      "metadata": {
        "colab": {
          "base_uri": "https://localhost:8080/"
        },
        "id": "2f5N3UsGTRcj",
        "outputId": "8e9c35c9-eb8e-42f3-b968-407b269c9093"
      },
      "source": [
        "#파일이 맞는지 첫 줄을 출력해봅니다. \n",
        "print(lines[0])"
      ],
      "execution_count": null,
      "outputs": [
        {
          "output_type": "stream",
          "name": "stdout",
          "text": [
            "Not all ideas are capable of supporting a patent .\n"
          ]
        }
      ]
    },
    {
      "cell_type": "markdown",
      "metadata": {
        "id": "1Q0SGPsuTiGF"
      },
      "source": [
        "**STEP 5. 분석해보기**\n",
        "\n",
        "문장은 document → sentence → word의 타입 변환 과정을 거쳐 분석되어야 합니다. \n",
        "\n",
        "더욱 자세한 내용은 [여기]를 참고하세요. \n",
        "\n",
        "한 문장을 예시로 시작해 보겠습니다.\n",
        "\n",
        "[여기]: https://github.com/kim-ji-youn/tutorials/tree/main/stanza"
      ]
    },
    {
      "cell_type": "code",
      "metadata": {
        "id": "NwcN_xDGTUyb"
      },
      "source": [
        "doc = \"Not all ideas are capable of supporting a patent .\""
      ],
      "execution_count": null,
      "outputs": []
    },
    {
      "cell_type": "code",
      "metadata": {
        "id": "KjrHhQScUPQ0"
      },
      "source": [
        "doc = nlp(doc) #document -> sentence의 형식으로 분석"
      ],
      "execution_count": null,
      "outputs": []
    },
    {
      "cell_type": "code",
      "metadata": {
        "colab": {
          "base_uri": "https://localhost:8080/"
        },
        "id": "IadLjYHOUROE",
        "outputId": "037c46d3-ab7c-44a5-ebee-2edb6e025146"
      },
      "source": [
        "sentence = doc.sentences[0] #분석 결과를 볼 수 있습니다\n",
        "print(sentence)"
      ],
      "execution_count": null,
      "outputs": [
        {
          "output_type": "stream",
          "name": "stdout",
          "text": [
            "[\n",
            "  {\n",
            "    \"id\": 1,\n",
            "    \"text\": \"Not\",\n",
            "    \"lemma\": \"not\",\n",
            "    \"upos\": \"ADV\",\n",
            "    \"xpos\": \"RB\",\n",
            "    \"head\": 3,\n",
            "    \"deprel\": \"advmod\",\n",
            "    \"start_char\": 0,\n",
            "    \"end_char\": 3,\n",
            "    \"ner\": \"O\"\n",
            "  },\n",
            "  {\n",
            "    \"id\": 2,\n",
            "    \"text\": \"all\",\n",
            "    \"lemma\": \"all\",\n",
            "    \"upos\": \"DET\",\n",
            "    \"xpos\": \"DT\",\n",
            "    \"head\": 3,\n",
            "    \"deprel\": \"det\",\n",
            "    \"start_char\": 4,\n",
            "    \"end_char\": 7,\n",
            "    \"ner\": \"O\"\n",
            "  },\n",
            "  {\n",
            "    \"id\": 3,\n",
            "    \"text\": \"ideas\",\n",
            "    \"lemma\": \"idea\",\n",
            "    \"upos\": \"NOUN\",\n",
            "    \"xpos\": \"NNS\",\n",
            "    \"feats\": \"Number=Plur\",\n",
            "    \"head\": 5,\n",
            "    \"deprel\": \"nsubj\",\n",
            "    \"start_char\": 8,\n",
            "    \"end_char\": 13,\n",
            "    \"ner\": \"O\"\n",
            "  },\n",
            "  {\n",
            "    \"id\": 4,\n",
            "    \"text\": \"are\",\n",
            "    \"lemma\": \"be\",\n",
            "    \"upos\": \"AUX\",\n",
            "    \"xpos\": \"VBP\",\n",
            "    \"feats\": \"Mood=Ind|Tense=Pres|VerbForm=Fin\",\n",
            "    \"head\": 5,\n",
            "    \"deprel\": \"cop\",\n",
            "    \"start_char\": 14,\n",
            "    \"end_char\": 17,\n",
            "    \"ner\": \"O\"\n",
            "  },\n",
            "  {\n",
            "    \"id\": 5,\n",
            "    \"text\": \"capable\",\n",
            "    \"lemma\": \"capable\",\n",
            "    \"upos\": \"ADJ\",\n",
            "    \"xpos\": \"JJ\",\n",
            "    \"feats\": \"Degree=Pos\",\n",
            "    \"head\": 0,\n",
            "    \"deprel\": \"root\",\n",
            "    \"start_char\": 18,\n",
            "    \"end_char\": 25,\n",
            "    \"ner\": \"O\"\n",
            "  },\n",
            "  {\n",
            "    \"id\": 6,\n",
            "    \"text\": \"of\",\n",
            "    \"lemma\": \"of\",\n",
            "    \"upos\": \"SCONJ\",\n",
            "    \"xpos\": \"IN\",\n",
            "    \"head\": 7,\n",
            "    \"deprel\": \"mark\",\n",
            "    \"start_char\": 26,\n",
            "    \"end_char\": 28,\n",
            "    \"ner\": \"O\"\n",
            "  },\n",
            "  {\n",
            "    \"id\": 7,\n",
            "    \"text\": \"supporting\",\n",
            "    \"lemma\": \"support\",\n",
            "    \"upos\": \"VERB\",\n",
            "    \"xpos\": \"VBG\",\n",
            "    \"feats\": \"VerbForm=Ger\",\n",
            "    \"head\": 5,\n",
            "    \"deprel\": \"advcl\",\n",
            "    \"start_char\": 29,\n",
            "    \"end_char\": 39,\n",
            "    \"ner\": \"O\"\n",
            "  },\n",
            "  {\n",
            "    \"id\": 8,\n",
            "    \"text\": \"a\",\n",
            "    \"lemma\": \"a\",\n",
            "    \"upos\": \"DET\",\n",
            "    \"xpos\": \"DT\",\n",
            "    \"feats\": \"Definite=Ind|PronType=Art\",\n",
            "    \"head\": 9,\n",
            "    \"deprel\": \"det\",\n",
            "    \"start_char\": 40,\n",
            "    \"end_char\": 41,\n",
            "    \"ner\": \"O\"\n",
            "  },\n",
            "  {\n",
            "    \"id\": 9,\n",
            "    \"text\": \"patent\",\n",
            "    \"lemma\": \"patent\",\n",
            "    \"upos\": \"NOUN\",\n",
            "    \"xpos\": \"NN\",\n",
            "    \"feats\": \"Number=Sing\",\n",
            "    \"head\": 7,\n",
            "    \"deprel\": \"obj\",\n",
            "    \"start_char\": 42,\n",
            "    \"end_char\": 48,\n",
            "    \"ner\": \"O\"\n",
            "  },\n",
            "  {\n",
            "    \"id\": 10,\n",
            "    \"text\": \".\",\n",
            "    \"lemma\": \".\",\n",
            "    \"upos\": \"PUNCT\",\n",
            "    \"xpos\": \".\",\n",
            "    \"head\": 5,\n",
            "    \"deprel\": \"punct\",\n",
            "    \"start_char\": 49,\n",
            "    \"end_char\": 50,\n",
            "    \"ner\": \"O\"\n",
            "  }\n",
            "]\n"
          ]
        }
      ]
    },
    {
      "cell_type": "code",
      "metadata": {
        "colab": {
          "base_uri": "https://localhost:8080/"
        },
        "id": "wE63qwoTU0BL",
        "outputId": "dd0ba287-b71b-4976-9cad-44714a932823"
      },
      "source": [
        "words = sentence.words #sentence를 word 단위로 만들어 줍니다. \n",
        "print(words)"
      ],
      "execution_count": null,
      "outputs": [
        {
          "output_type": "stream",
          "name": "stdout",
          "text": [
            "[{\n",
            "  \"id\": 1,\n",
            "  \"text\": \"Not\",\n",
            "  \"lemma\": \"not\",\n",
            "  \"upos\": \"ADV\",\n",
            "  \"xpos\": \"RB\",\n",
            "  \"head\": 3,\n",
            "  \"deprel\": \"advmod\",\n",
            "  \"start_char\": 0,\n",
            "  \"end_char\": 3\n",
            "}, {\n",
            "  \"id\": 2,\n",
            "  \"text\": \"all\",\n",
            "  \"lemma\": \"all\",\n",
            "  \"upos\": \"DET\",\n",
            "  \"xpos\": \"DT\",\n",
            "  \"head\": 3,\n",
            "  \"deprel\": \"det\",\n",
            "  \"start_char\": 4,\n",
            "  \"end_char\": 7\n",
            "}, {\n",
            "  \"id\": 3,\n",
            "  \"text\": \"ideas\",\n",
            "  \"lemma\": \"idea\",\n",
            "  \"upos\": \"NOUN\",\n",
            "  \"xpos\": \"NNS\",\n",
            "  \"feats\": \"Number=Plur\",\n",
            "  \"head\": 5,\n",
            "  \"deprel\": \"nsubj\",\n",
            "  \"start_char\": 8,\n",
            "  \"end_char\": 13\n",
            "}, {\n",
            "  \"id\": 4,\n",
            "  \"text\": \"are\",\n",
            "  \"lemma\": \"be\",\n",
            "  \"upos\": \"AUX\",\n",
            "  \"xpos\": \"VBP\",\n",
            "  \"feats\": \"Mood=Ind|Tense=Pres|VerbForm=Fin\",\n",
            "  \"head\": 5,\n",
            "  \"deprel\": \"cop\",\n",
            "  \"start_char\": 14,\n",
            "  \"end_char\": 17\n",
            "}, {\n",
            "  \"id\": 5,\n",
            "  \"text\": \"capable\",\n",
            "  \"lemma\": \"capable\",\n",
            "  \"upos\": \"ADJ\",\n",
            "  \"xpos\": \"JJ\",\n",
            "  \"feats\": \"Degree=Pos\",\n",
            "  \"head\": 0,\n",
            "  \"deprel\": \"root\",\n",
            "  \"start_char\": 18,\n",
            "  \"end_char\": 25\n",
            "}, {\n",
            "  \"id\": 6,\n",
            "  \"text\": \"of\",\n",
            "  \"lemma\": \"of\",\n",
            "  \"upos\": \"SCONJ\",\n",
            "  \"xpos\": \"IN\",\n",
            "  \"head\": 7,\n",
            "  \"deprel\": \"mark\",\n",
            "  \"start_char\": 26,\n",
            "  \"end_char\": 28\n",
            "}, {\n",
            "  \"id\": 7,\n",
            "  \"text\": \"supporting\",\n",
            "  \"lemma\": \"support\",\n",
            "  \"upos\": \"VERB\",\n",
            "  \"xpos\": \"VBG\",\n",
            "  \"feats\": \"VerbForm=Ger\",\n",
            "  \"head\": 5,\n",
            "  \"deprel\": \"advcl\",\n",
            "  \"start_char\": 29,\n",
            "  \"end_char\": 39\n",
            "}, {\n",
            "  \"id\": 8,\n",
            "  \"text\": \"a\",\n",
            "  \"lemma\": \"a\",\n",
            "  \"upos\": \"DET\",\n",
            "  \"xpos\": \"DT\",\n",
            "  \"feats\": \"Definite=Ind|PronType=Art\",\n",
            "  \"head\": 9,\n",
            "  \"deprel\": \"det\",\n",
            "  \"start_char\": 40,\n",
            "  \"end_char\": 41\n",
            "}, {\n",
            "  \"id\": 9,\n",
            "  \"text\": \"patent\",\n",
            "  \"lemma\": \"patent\",\n",
            "  \"upos\": \"NOUN\",\n",
            "  \"xpos\": \"NN\",\n",
            "  \"feats\": \"Number=Sing\",\n",
            "  \"head\": 7,\n",
            "  \"deprel\": \"obj\",\n",
            "  \"start_char\": 42,\n",
            "  \"end_char\": 48\n",
            "}, {\n",
            "  \"id\": 10,\n",
            "  \"text\": \".\",\n",
            "  \"lemma\": \".\",\n",
            "  \"upos\": \"PUNCT\",\n",
            "  \"xpos\": \".\",\n",
            "  \"head\": 5,\n",
            "  \"deprel\": \"punct\",\n",
            "  \"start_char\": 49,\n",
            "  \"end_char\": 50\n",
            "}]\n"
          ]
        }
      ]
    },
    {
      "cell_type": "markdown",
      "metadata": {
        "id": "zAFtstlKVnfa"
      },
      "source": [
        "**STEP 6. conllu 형식으로 만들기**\n",
        "\n",
        "conllu 파일에서 필요한 정보는 id, text, lemma, upos, head, deprel 이기 때문에 이 정보만 추출하여 프린트 해줍니다. "
      ]
    },
    {
      "cell_type": "code",
      "metadata": {
        "colab": {
          "base_uri": "https://localhost:8080/"
        },
        "id": "S6L_MS6SVVmz",
        "outputId": "851ba36f-7745-4bda-bb05-5e41c90188df"
      },
      "source": [
        "for word in words :\n",
        "  print(word.id, word.text, word.lemma, word.upos, word.head, word.deprel, sep = \"\\t\")"
      ],
      "execution_count": null,
      "outputs": [
        {
          "output_type": "stream",
          "name": "stdout",
          "text": [
            "1\tNot\tnot\tADV\t3\tadvmod\n",
            "2\tall\tall\tDET\t3\tdet\n",
            "3\tideas\tidea\tNOUN\t5\tnsubj\n",
            "4\tare\tbe\tAUX\t5\tcop\n",
            "5\tcapable\tcapable\tADJ\t0\troot\n",
            "6\tof\tof\tSCONJ\t7\tmark\n",
            "7\tsupporting\tsupport\tVERB\t5\tadvcl\n",
            "8\ta\ta\tDET\t9\tdet\n",
            "9\tpatent\tpatent\tNOUN\t7\tobj\n",
            "10\t.\t.\tPUNCT\t5\tpunct\n"
          ]
        }
      ]
    },
    {
      "cell_type": "markdown",
      "metadata": {
        "id": "tIhdNX3BWFEi"
      },
      "source": [
        "**STEP 7. 파일에 있는 모든 문장을 분석하기**\n",
        "\n",
        "lines에 저장해 둔 문장들을 하나씩 불러와 분석을 해줍니다. "
      ]
    },
    {
      "cell_type": "code",
      "metadata": {
        "id": "RsE4T0LtV5Ep"
      },
      "source": [
        "for line in lines :\n",
        "  doc = nlp(line)\n",
        "  for sentence in doc.sentences :\n",
        "    for word in sentence.words :\n",
        "      print(word.id, word.text, word.lemma, word.upos, word.head, word.deprel, sep = \"\\t\")\n",
        "    print()"
      ],
      "execution_count": null,
      "outputs": []
    },
    {
      "cell_type": "markdown",
      "metadata": {
        "id": "MRzMyYAuW5q_"
      },
      "source": [
        "**STEP 8. 출력한 내용과 똑같이 파일에 저장하기**\n",
        "\n",
        "위에서 출력한 형식과 그대로 새로운 파일을 만들어줍니다. \n",
        "\n",
        "코드를 실행하면 결과물이 되는 파일의 이름을 입력합니다. **파일 확장자는 쓰지 마세요. **"
      ]
    },
    {
      "cell_type": "code",
      "metadata": {
        "colab": {
          "base_uri": "https://localhost:8080/"
        },
        "id": "2WkAB1IVWdxN",
        "outputId": "4df89c32-9285-4cd7-a543-d6cffecfc650"
      },
      "source": [
        "output_file = input(\"outpuf file name? \")\n",
        "output_file = output_file + \".conllu\"\n",
        "\n",
        "fo = open(output_file, \"w\", encoding = \"utf-8\")\n",
        "\n",
        "for line in lines :\n",
        "  line = nlp(line)\n",
        "  for sentence in line.sentences :\n",
        "    for word in sentence.words :\n",
        "      fo.write(str(word.id) + \"\\t\" + word.text + \"\\t\" + word.lemma + \"\\t\" + word.upos + \"\\t\" + str(word.head) + \"\\t\" + word.deprel + \"\\n\")\n",
        "    fo.write(\"\\n\")\n",
        "\n",
        "fo.close()"
      ],
      "execution_count": null,
      "outputs": [
        {
          "name": "stdout",
          "output_type": "stream",
          "text": [
            "outpuf file name? len9_out\n"
          ]
        }
      ]
    },
    {
      "cell_type": "markdown",
      "metadata": {
        "id": "8vm66zlHZORw"
      },
      "source": [
        "**STEP 9. 파일 완성**\n",
        "\n",
        "* \"\\[파일이름\\].conllu\" 이름을 가진 파일이 생성됩니다. \n",
        "* 파일을 오른쪽 마우스를 클릭하여 다운로드합니다. \n",
        "\n",
        "![image.png](data:image/png;base64,iVBORw0KGgoAAAANSUhEUgAAATEAAAD2CAYAAAC+/7DQAAAe9ElEQVR4Ae2d/+tX1R3H96/4gxAhI4aEDqkxJri5iaKsJSjVQJvSWrSPI4ql5UIXluVcBGYxV65k4UTLxdY3HBblR6zEsggMV0lW6LQvkjvjedjrcj7H+36/7/t+f7/v48Lbe9/3y/nyOO/78Jxzz+eebzkWCEAAAiNM4FsjnHaSDgEIQMAhMX4EEIDASBNAYiNdfCQeAhBAYvwGIACBkSaAxEa6+Eg8BCCAxPgNQAACI00AiY108ZF4CEAAifEbgAAERpoAEhvp4iPxEIAAEuM3AAEIjDQBJDbSxUfiIQABJMZvAAIQGGkCSGyki4/EQwACSIzfAAQgMNIESpXYF1984W6++Wa3cePGvlAuXrzoXn75Zbd8+XJ32WWXuenTp7vFixe7PXv2uK+//nrKtZ999plbtGiRe+qpp6bs5wsEIAABEahdYt9884175JFH3Lx589yBAwecvktqx48fd0uXLnXr1q1z58+fT0oHiSUo2IAABFII9JSY1aqmTZvmBn1UU5Js7Jp+NbHJyUk3e/Zsd+jQoUuSc+LECffDH/7Q7du3LzmGxBIUbEAAAikEekos5dyBu7JIbOvWrW7FihXu3Llzl4SnWtnatWvdbbfd5i5cuOCPI7FLMLEDAhAICGSSmGpWkoskY4v6qKwGZvuySExhqd9M56Yt8XEklkaJfRCAgBHILLFYPHklpprYsmXL3JkzZywNyZqaWIKCDQhAICOB2iVmfWIvvfTSJUlUn9jcuXPpE7uEDDsgAIFeBApJLK5RWXMyfBAQ1+BU23r88cfdVVdd5Z5//vnk6eSbb77pn07eddddU5qaNCd7FR37IQABESgksVhQJrF+TycVKePE+PFBAAJlEWhEYsMknprYMLQ4FwLdI5BbYps2bbrkKWPWmlj3MJNjCECgKgKZJLZz5063ZMkS9/nnnyfpiIdC6MAwEnv33XfdnDlzBg6ktf41/uwoQc8GBCAQEOgpMUnDBJJlrTFj//73vzP97WQQ/8BNmpMDEXECBDpNoKfE8lAZpiaWNXwklpUU50GgmwQakxjNyW7+4Mg1BMom0LjEXnnllbLzRHgQgECHCCCxDhU2WYXAOBJoXGJZHhronPiPzcexMMgTBCAwPIFSJTZ89FwBAQhAoBgBJFaMH1dDAAINE0BiDRcA0UMAAsUIILFi/LgaAhBomAASa7gAiB4CEChGAIkV48fVEIBAwwSQWMMFQPQQgEAxAkisGD+uhgAEGiaAxBouAKKHAASKEUBixfhxNQQg0DABJNZwARA9BCBQjAASK8aPqyEAgYYJILGGC4DoIQCBYgSQWDF+XA0BCDRMAIk1XABEDwEIFCOAxIrx42oIQKBhAkis4QIgeghAoBgBJFaMH1dDAAINE0BiDRcA0UMAAsUIILFi/LgaAhBomAASa7gAiB4CEChGAIkV48fVEIBAwwSQWMMFQPQQgEAxAkisGD+uhgAEGiaAxBouAKKHAASKEahVYkePHnWbN2/O9Nm+fXuxnHE1BCDQCQK1SWzXrl1u2rRpQ30mJiY6UQhkEgIQyE+gNonNmTNnKIGZ8BBZ/sLlSgh0gUBtEjMpqTk5aPnZz342RXhtFdm2bdvc6tWr3fXXX9/zo+MnTpwYlOXWHu9CHlsLn4RlIjASEpMA2yayQ4cO9RRXLLVRFVkX8pjpLuGkVhMYGYm1TWS7d+/OLDFJTSLTNVk/n3zySeM/nC7ksXHIJKAwgZGSWJtENuwNHtfOBn2X9JoWWRfyWPgOIoDGCYycxNoisqpvcEnuueeea/QHkjePv/71r92GDRuSz29/+9uetdam89goYCIvhcBISkwia3oJb/Cy02K1NMXR5BLm0dKUZX3gwIEpyT5//rxbtWpVqsiazuOUhPJlJAm0UmIaFHvw4MFLPvofXgJDYvX81vJITDUw1bziRTWuNAEisZgU34cl0EqJ9cqEhmcgsV50yt+fR2IaTqKaWFozUf8JxSJDYuWXW9dCbJ3Ezpw507MMuiIx60+Km2U9wVR0YFiJaUyZLQ8++KBTMzJc0oZsILGQENt5CLRKYvqfev78+a6XyLoisTwFWcU1w0hMfV6htI4dO+aeeOKJS5IlQYe1MSR2CSJ2DEmgNRIL+7uuvfba1GyMo8RUO9GNrFqM1pOTkz7vJpAmb3JLQyidXttpzUcJKx4mouZmGEaT+Uv9kbFz5Ai0QmKhwKzPK22E/jhJTDf3xo0bp9zQdnNrv6Sm703e5FklpvKLF+VP6d+yZUt8KMlb0/m7JGHsGEkCjUssTWC9RDYuElOzS4NZdROrtqK+LzW/tI7HVI2CxJT2eAmbjfHxcMhFk/mL08z30STQqMRCgX37299OnjyG22GNbFwkZjd42BGun48kppvaBNd0TSVLTUwd+PEiaUnGymevj8kaicX0+D4sgUYlZu8Y+9GPfuT+/ve/JxLTtvapRqZzbBkHiVkzK60JZnKTvOzT5E2eRWJpT1AlqLCT38ovXjct6Tg9fB9NAo1KTMgkLD2N1OBWa0ZqW/t0LFzGQWK66XvdvOr0Vi0m/MQd4yGPqrezSCysKSs96uBPE1ucVgu7SUnHaeL7aBJoXGKGLZaY7Q/X4yAxGys1CjevicZqhb3WJi3VvlSbHLRYbbSXzAddz3EIhASQWEhjiO3wBtd2lo9uctWydPPG/WFx1BKDwmx7TUx5UW3s7bffToaJaLvfJ3wqqzyyQKAIgdZITH8vqTe66qPttKVNNTFrFvaqnaTt1w0rkak/TMd7CcpEl9Zvlsalqn158piW7377VDNlgUARAq2RWJZMtEliSq9qU73ezpB24+qpoyRmctD3+NXVuqnt6WQbbvBh85iW71770kb0Z/kdcA4EQgK1SSwcNmEd+HnXmnRk1BfdwHZz33nnnX7gq9a2j2bWqJcw6a+LQG0Ss+EUecUVXhcOu6gLVBXxqKalcVYmLq3VMd6GGlgV+SVMCFRBoDaJKfHDTJ6rpmPap1d/WRVw6grTOvzrio94IDBOBGqV2DiBIy8QgEA7CCCxdpQDqYAABHISQGI5wXEZBCDQDgJIrB3lQCogAIGcBJBYTnBcBgEItIMAEmtHOZAKCEAgJwEklhMcl0EAAu0ggMTaUQ6kAgIQyEkAieUEx2UQgEA7CCCxdpQDqYAABHISQGI5wXEZBCDQDgJIrB3lQCogAIGcBHpK7Pjx444PDPgN8Bto+2+gp8RySpHLIAABCNRKAInVipvIIACBsgkgsbKJEh4EIFArASRWK24igwAEyiaAxMomSngQgECtBJBYrbiJDAIQKJsAEiubKOFBAAK1EkBiteImMghAoGwCSKxsooQHAQjUSgCJ1YqbyCAAgbIJILGyiRIeBCBQKwEkVituIoMABMomgMTKJkp4EIBArQSQWK24iQwCECibABIrmyjhQQACtRJAYrXiJjIIQKBsAo1K7Pz5827Lli1u48aNqR8d0zksEIAABHoRaFRiDz74oLv++uv7fu68805E1qv02A8BCLhGJTZIYHZ8YmIitaYW1uC2bduG7PhBQ6CDBEZCYiazQWvV7FggAIFuEWilxFatWuV2797dt5mZJrTVq1d3q/TILQQg0L7mpAR24sQJXzQHDhwYWmSUKQQg0C0CraqJhQKzYhhWZHYdawhAoBsEWiOxNIFZEQwjMruGNQQg0A0CrZBYP4FZMWQVmZ3PGgIQ6AaBVkhMg1rVka/PJ598MoX8sWPHkmMaM5bWoR/um3IxXyAAgbEn0AqJhRKStMJl2KeU4bVsQwAC40+gkxI7efKkW7JkiXv44Yfdf//7X1/K27dvdwsWLHAffPDB+Jc6OYTAGBHorMR+8pOfuAceeMB98803vjgfeeQR94Mf/MC99957Y1S8ZAUC40+gdRJ77rnn3Ntvv5189OdEYXNz0Pb4Fxk5hAAEQgKtk9ggSQ06HmaObQhAYPwJNCqxLG+xGCSt8Dh/Ozn+P1hyCIGYQKMS07vCJJ4NGzYU/igc3j0WFy/fITD+BBqV2PjjJYcQgEDVBJBY1YQJHwIQqJQAEqsUL4FDAAJVE0BiVRMmfAhAoFICSKxSvAQOAQhUTQCJVU2Y8CEAgUoJILFK8RI4BCBQNQEkVjVhwocABColgMQqxUvgEIBA1QSQWNWECR8CEKiUABKrFC+BQwACVRNAYlUTJnwIQKBSAkisUrzlBP7KK6+4adOmOa2rXuqMq+q8EH43CDQqMb11QpOEbNy4MfWjY7yZwnl5IbFu3JDkcngCjUosy/vENMNR10VWZ+0ob1zvvvuumzNnjnvqqaeG/xVyBQQKEGhUYuELDfttT0xMpNbUwhqcXmM9rrLLK5Y8v4u8cSGxPLS5pgwCAyX2pz/9qYx4UsPoJ648x4Z5s6vmt7z77rvdFVdc4aZPn+6WLl3q/vWvfyWzHynBkqImEPn+97/v+6S0/utf/5pMLvLFF1+4m2++2f3yl790+/fvd5p8RM0+nbdnzx534cIFf75dr+MvvfRSEoeEMWPGDPfPf/4zSctll13m7rrrLvfZZ58lzNLEcvHiRffCCy9MiTNMW3Jxn40vv/zSPfTQQ56B4lU+VJOKm679OCidixYt8tfoOn1UI5PUtCidL7/8sucrzuIt7mH++iSRQxAYSGCgxHbs2OGqElkeUfW7ZvXq1QMzrBM+//xzt3z5crdw4UL37LPPerHcdtttXmb79u3zYejGvfXWW933vvc99/TTTzvNQH7vvfe6yy+/3ItJJ5nEtO+aa67xYUlmCltyWrx4sd/WPtsf3uAmp+985zvuvvvu83Fs3brV3+grV650Z8+e9Wmx87TWomnmdu3a5WbOnOl0vtIm2UoQkpJNQ+dP7vGPZnm6//77neQVxx1KbBAHSUo8Dx065L773e+6xx57zH9X+JZOsbA4JFoxUO1a/FggUJRAJolJHFWIrJ+Q8h7LAuS1117zwlLNy5YzZ864n//8515cX331lTty5IiX0Ouvv26nuK+//tqtWbPGrVixwp07dy6RmOaw/Pjjj5PzPvzwQzdv3jw/t2W4/6233vLikRS1mJyefPLJKeKRSCXGF198ccp5JjFruoXXSRgSyNy5czPNnfnGG2946emaUHqabSqUWBYOSqSlKewTE1PVVP/4xz9OiUO1VAlYPFggUJRAZolVIbK8oup3XRYgmmV81qxZ7tFHH/ViynKNnaN+ODWf1Byymphu1LBWYU2se+65Z8rNa/vtRjeJmZwsjtOnT/uJfDdt2uR3xefp+jRZHT582NcA4/As3HC9c+fOKc0+OxbHZfvjdchBx9IkFl9j37PGYeezhkA/AkNJrGyR9ZNR3mP9MmvH1NR5/PHHfVNKTbBbbrnFPf/88059ROGifjM1g6666qopfT5ZJaYbPVyySszkqCau+tXim17hWv9T2jqLxGIJWTrjuLR/EAed00tiqr2q5qWmtfrEwvRmSaelizUEehEYWmJliiyvqPpd1yujafvVl6O+KklMMlP/1+TkpD/1o48+8n1mN9xwg+/vkYD0WbduXeaaWJUS08MC9eepPyz+fPrpp2nZnbIvq8SycFDAaRLTfxa/+93vfI1PIjt16pRn+I9//GNKk3VKwvgCgSEJDC2xMvvG+sko77Es+Vd/lgSmTmlb1I+lvi115qtPTP1WYSe8nRfe/FZj6tWczCuxQc3J7du3+yegJ06csGQNvVZz8uqrr3bvv//+lGvjmlgWDgogTWIKW3FY89kiiuOw/awhkIfAUBIrU2BKbF5R9bsuCwQ90VNNJpSAag1r1671HdGSk248PW07fvx4EqSe1GkYQtnNybCDXpGpaduvY9865ZWPUMRKn54ShvuSxEcb1i8Yx60aU9ixn4WDgk6TmO2TMG3RQwTFGcZhx1hDIA+BzBIrW2BKbD8Z5T2WBcJ7773nJfbTn/40aZKp70vDDTSkRIvd5BLW3/72N/eXv/wlGQ9VtsTUlLWhEqplXXnllb5GKClpiWsuEq6GR6iPaf369X6IiA3hUJ7UBBy0WBjxEAvFrXCtvyoLB8Wlp7ALFixwGuaisXBq0ir9N954o8+P8qc0/upXv0r6xiyOQWnlOAT6EcgksSoEpkTlFVW/6/plNjx28uRJp45zCUS1Ag1EVS1EN7ctb775ph+kqeOquWmMkyRnNbSympOK1wbeSipZBrsqnbrOBthKPhKxOuGzLmmDXVULVDM6FMwgDopPNay9e/d6NsqDaoRa1I+o/GifWCufBw8e9OeFNbSsaeY8CMQEBkqsKoEpIf1klPdYnME2f49rWGWl1Zpxkm/ax2qSZcVHOBBoksBAiVWZuLyi6nddlektO+yqJPaf//zH13bip5b2XYN9NfSBBQLjQKBRiWV5i0U/YcXHhvnbyTYUXlUSa0PeSAME6iLQqMTU8SvxbNiwofBH4VhHeF3wisaDxIoS5HoIONeoxCgACEAAAkUJILGiBLkeAhBolAASaxQ/kUMAAkUJILGiBLkeAhBolAASaxQ/kUMAAkUJILGiBLkeAhBolAASaxQ/kUMAAkUJILGiBLkeAhBolAASaxQ/kUMAAkUJILGiBLkeAhBolAASaxQ/kUMAAkUJtEJi+pvHLVu2DHw1j164F76NtWjmuR4CEBh9Aq2QWJa3WaxatcpLrgyR2fu24ne/j35xkgMIdI9AKySmt1jEr9WJv+/evdtt27atFJFVLTG95VQT8+pV0Xopod4Eqxm64ynhuvdzI8cQKJ/ASElM2S9DZFVLTALTq5j1+mu9b14C03e9Fz98/XVcnEXSFc7CFIfLdwiMM4GRk5gKo6jIishi0I/hzJkzbtmyZW7NmjXJ21Nthp8ZM2Yk755PC6dIupBYGlH2dYHASEpMBVNEZL1koYcGmpItnNRCE11oCScFefXVV93y5cv9rD1qKmoCEathaYo37dOEG+GiGYjmz5/vZzUK92tbcei99+H78G3OS5u+bd++fcllmjNT8UuWjz766JTrFEY832VyIRsQGEMCIysxlYWJTH1qwyxpEpN8NKORZgOXODS79sKFC70sJA2T2OzZs92Pf/xjP7muztP5qmGpCaml19taNWHvihUr/NyWJjxLs+aJVByaIUgCfOyxx/x3nad34d9+++1+Yl9Ni6ZFDyTUPFVcSpfNTK6ZjzRhreJigUBXCIyMxFS7UOd+/NHTyqISM0GpFha+4lpTlc2aNcs988wzicQkunBCXathbdq0yf9m3nrrLTdz5sxLamIWRzxbePhDS5Orjts8mQ899JDTTOWS6O9///uk9qdzaE6GJNnuEoGRkVj8tDL8XlRiJg/JKlysf0uC6CUhSe+mm25KmnCqUS1dunRKn5jCPHLkiBeiOvsvXLgQRpNsWzrioR/Wp6Ym5g033OAlJpmFCxILabDdJQJILGgChn1S4XY/iZncdI4t6iO7/PLL3R133OGfTmpWb9Xg1BQNz7Pzbd1LYjp+9uxZt3LlSt8PF/aP2bVIzEiw7hoBJBZITEMhbG7GcP3OO+/0rImlSUx9WRKZxDV9+nQvH831uGTJEtdv1ut+Ejt9+rSv4Sm8Xbt2+Rm3wx8rEgtpsN0lAkjMOWf9WHv27OlZ9iaruE/L9verYSlQddpfeeWV7vDhwz3j6CUxNSfVHyYpTkxM+LX6ycIFiYU02O4SAST2/6badddd54cs2JAK/Qgkj8nJSacZtU1WeSSmMPXQQE8Z+8283Uti9oBBTy1PnTrlrrnmmkvCQmJdum3Ja0gAif2fho2y1/ir/fv3+76s9evX+yeNL7744tAS++CDD3wYmzdv9sMmFK4EZMvJkyd98/Lhhx9OmoYaQrFgwQKnJ64a6f/pp5/6p6USoK7XQwMtNnZMa1t27Njhh1088cQT7o033pjy5NLOYQ2BcSSAxIJSPXr0qPvFL37hB7tqwKu2VQtSjWzYmpieMCoM/f2k+rDCoRuKUhLTuK4HHnggEY7i2bt3r5eern399df9tXpIEArL0qKhFvaUUn1mkp36zH7zm9+4r776KsgZmxAYXwKdlNj4Fic5g0D3CCCx7pU5OYbAWBFAYmNVnGQGAt0jgMS6V+bkGAJjRaAVEsvyZtfwz4zibV3PAgEIdJNAKySmJ3d5Rabr4id/3SxKcg2BbhJohcS6iZ5cQwACZRBAYmVQJAwIQKAxAkisMfREDAEIlEEAiZVBkTAgAIHGCCCxxtATMQQgUAYBJFYGRcKAAAQaI4DEGkNPxBCAQBkEkFgZFAkDAhBojAASaww9EUMAAmUQaIXENOJ+y5YtLv5zovi7XhaoCW5ZIAABCBiBVkgsy58crVq1ykuuDJH1eg20QWFdL4F4wmHKp17+ox5bKySmeSPjWlf8XZPm2ozfRUVW9U2iN7Tqddd6q6umftOs3ppJ6csvvxz130sl6UdilWDtTKAjJTGVShkiq1pi9r5+TZSrd+VLYFdccYW7//77k1dR1/0LqzrPRfKDxIrQ49qRk5iKrKjIqryhbdbwNWvWJDMbqWb25JNPuhkzZvip25r42VWZ56L5QWJFCXb7+pGUmIqsiMh63dB6aKDJNjRJh2pOd999t7Mp3GxyDk3Z9uqrr/rZhzQph5qKmihXE+ZqOX78uN8XTuyh/R999JGbP3++27p1qz8vyz8KU3NhakIRNUs1b6XmnwxfPRQLwMLVRCVz5szxk40sWrTIX2+zmmu/GPRaFL7iUXy6RvE/++yz7uLFi8klw6TthRdeSMITM03AoolSbInzEJePykB5iOf2jM+z8Fh3i8DISkzFZCJTn9owS9qPX/LR5LS33HKLn1lIN+3ChQuTqdJMYrNnz3aaZejpp5/25+l81bDUhNQS35CWrnPnzrkVK1a4tWvXJsKzY2lrSUIzIUmo9913n5+Z/M9//rMX06233pqIrFd8JjHlS1O9afJeCVdzV+q7STeOWwJT+BKd5KyZ0O+9916nGZds5vFh0zZv3jx3xx13+Ka15SGcvzPOQ1w+SCwuJb6HBEZGYvpfWJ378Ued/EUlZoJSLSys5diktc8880wyZZtEJzHYYjWsTZs2+V02m3hcE7M4wpvXwkhbHzt2zM2aNcs3Q9UctcX622y28lgAdp5JTELQEovBzovXmmNTtVCTso4r/j/84Q9u8eLFfi7MYdMW9wVu377dXX311e7999/30cd5iNOKxOJS4ntIYGQkFj+tDL8XlZjdNJJVuFj/lgTaS0KS3k033ZQ0dVTLWbp0qQv7xBTmkSNHvJTU2X/hwoUwmtRt3ehz5851moQ3XKxGZ+HEArBz80hMNSzVFJctW+aU93DRRL4HDx70s6EXTZsEGTZp4zxYeSgPWpBYWBJsxwSQWNAEtD6jeN1PYia3sL9GzTA1v6wJpZteNTg1RcPz4sIIv+s89QPpBo4XHTPRxAKwc/NIzPIyqLZYNG1KMxKzkmJdlAASCySmoRDqA4o/77zzTs+amN34oZxUo5HIJC51ZK9cudK99tprbsmSJW7nzp2ZyqyXKNS0u+eee1opsaxpQ2KZfgKclJEAEnPOWT+W9TOlsTNZxbUU2x9KLO16dazrad/hw4fTDl+yr2iTLU9NzCSkBxBqtoaLmsD2QKBo2pBYSJbtogSQmHPu7Nmz7rrrrvO1m7D5ppt6cnLS9wOZrPJITGHqocHtt9+ejB0bVHBZO89tSIf1HylcpVsd8WGTLe5n6hX//v37fce+pGuLwtNTzQULFriPP/7YZU1br6busBKzfseYvdKoJ8Nh3i3NrLtDAIn9v6ztqd/y5cudbmSNtF+/fr2bOXOm0xO7YSWmDnmFsXnzZj+0QeGeOnUq8y8r6zAG3eA33nhjMiRCT0UnJia8iEKJST6SkJ7mKl3qqFftSnlUzUu1LC0KLx5ioSEekkXeIRaSVrgMKzFdu2PHDt8013APNfc13k5DRtRcR2Ih3e5tI7GgzI8ePeoHYmpslj4alKlhFqqJDCsx3VgKQ38/qZtfchh2kcgGDXZVmBo4qrTqhrZBunrSGkpMedi7d6+/8ZUu1WIksXXr1vmnqadPn06Sp7TGg101YDXvYNcyJKa/O1WalD/lU/8pKE16+IHEkqLr5EYnJdZ0Seumi5+Aht8H9a81nX7ih0CbCCCxBkpDTc34CWj4XU9DWSAAgWwEkFg2TpwFAQi0lAASa2nBkCwIQCAbgVZILMubXcM/M4q3dT0LBCDQTQKtkJiehuUVma7L8+Svm8VNriEwfgRaIbHxw0qOIACBugggsbpIEw8EIFAJASRWCVYChQAE6iKAxOoiTTwQgEAlBJBYJVgJFAIQqIsAEquLNPFAAAKVEEBilWAlUAhAoC4CSKwu0sQDAQhUQgCJVYKVQCEAgboIILG6SBMPBCBQCQEkVglWAoUABOoigMTqIk08EIBAJQSQWCVYCRQCEKiLABKrizTxQAAClRBAYpVgJVAIQKAuAkisLtLEAwEIVEIAiVWClUAhAIG6CCCxukgTDwQgUAkBJFYJVgKFAATqIoDE6iJNPBCAQCUEkFglWAkUAhCoiwASq4s08UAAApUQQGKVYCVQCECgLgJIrC7SxAMBCFRC4H8TZqcFdX66jgAAAABJRU5ErkJggg==)"
      ]
    },
    {
      "cell_type": "code",
      "metadata": {
        "id": "TvDoY7EDYKX3"
      },
      "source": [
        ""
      ],
      "execution_count": null,
      "outputs": []
    }
  ]
}