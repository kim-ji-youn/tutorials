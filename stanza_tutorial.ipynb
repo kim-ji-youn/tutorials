{
  "nbformat": 4,
  "nbformat_minor": 0,
  "metadata": {
    "colab": {
      "name": "stanza_tutorial.ipynb",
      "provenance": [],
      "collapsed_sections": [],
      "authorship_tag": "ABX9TyPkssGQHWFgMS478chkzUuw",
      "include_colab_link": true
    },
    "kernelspec": {
      "display_name": "Python 3",
      "name": "python3"
    }
  },
  "cells": [
    {
      "cell_type": "markdown",
      "metadata": {
        "id": "view-in-github",
        "colab_type": "text"
      },
      "source": [
        "<a href=\"https://colab.research.google.com/github/kim-ji-youn/tutorials/blob/main/stanza_tutorial.ipynb\" target=\"_parent\"><img src=\"https://colab.research.google.com/assets/colab-badge.svg\" alt=\"Open In Colab\"/></a>"
      ]
    },
    {
      "cell_type": "code",
      "metadata": {
        "colab": {
          "base_uri": "https://localhost:8080/"
        },
        "id": "fncimpoc2elW",
        "outputId": "6154712f-e577-4493-f62d-a1644b418599"
      },
      "source": [
        "!pip install stanza"
      ],
      "execution_count": 1,
      "outputs": [
        {
          "output_type": "stream",
          "text": [
            "Collecting stanza\n",
            "\u001b[?25l  Downloading https://files.pythonhosted.org/packages/e7/8b/3a9e7a8d8cb14ad6afffc3983b7a7322a3a24d94ebc978a70746fcffc085/stanza-1.1.1-py3-none-any.whl (227kB)\n",
            "\r\u001b[K     |█▍                              | 10kB 13.1MB/s eta 0:00:01\r\u001b[K     |██▉                             | 20kB 11.0MB/s eta 0:00:01\r\u001b[K     |████▎                           | 30kB 8.6MB/s eta 0:00:01\r\u001b[K     |█████▊                          | 40kB 7.2MB/s eta 0:00:01\r\u001b[K     |███████▏                        | 51kB 4.5MB/s eta 0:00:01\r\u001b[K     |████████▋                       | 61kB 4.4MB/s eta 0:00:01\r\u001b[K     |██████████                      | 71kB 4.9MB/s eta 0:00:01\r\u001b[K     |███████████▌                    | 81kB 5.1MB/s eta 0:00:01\r\u001b[K     |█████████████                   | 92kB 5.4MB/s eta 0:00:01\r\u001b[K     |██████████████▍                 | 102kB 4.4MB/s eta 0:00:01\r\u001b[K     |███████████████▉                | 112kB 4.4MB/s eta 0:00:01\r\u001b[K     |█████████████████▎              | 122kB 4.4MB/s eta 0:00:01\r\u001b[K     |██████████████████▊             | 133kB 4.4MB/s eta 0:00:01\r\u001b[K     |████████████████████▏           | 143kB 4.4MB/s eta 0:00:01\r\u001b[K     |█████████████████████▋          | 153kB 4.4MB/s eta 0:00:01\r\u001b[K     |███████████████████████         | 163kB 4.4MB/s eta 0:00:01\r\u001b[K     |████████████████████████▌       | 174kB 4.4MB/s eta 0:00:01\r\u001b[K     |██████████████████████████      | 184kB 4.4MB/s eta 0:00:01\r\u001b[K     |███████████████████████████▍    | 194kB 4.4MB/s eta 0:00:01\r\u001b[K     |████████████████████████████▉   | 204kB 4.4MB/s eta 0:00:01\r\u001b[K     |██████████████████████████████▎ | 215kB 4.4MB/s eta 0:00:01\r\u001b[K     |███████████████████████████████▊| 225kB 4.4MB/s eta 0:00:01\r\u001b[K     |████████████████████████████████| 235kB 4.4MB/s \n",
            "\u001b[?25hRequirement already satisfied: tqdm in /usr/local/lib/python3.6/dist-packages (from stanza) (4.41.1)\n",
            "Requirement already satisfied: protobuf in /usr/local/lib/python3.6/dist-packages (from stanza) (3.12.4)\n",
            "Requirement already satisfied: requests in /usr/local/lib/python3.6/dist-packages (from stanza) (2.23.0)\n",
            "Requirement already satisfied: numpy in /usr/local/lib/python3.6/dist-packages (from stanza) (1.19.5)\n",
            "Requirement already satisfied: torch>=1.3.0 in /usr/local/lib/python3.6/dist-packages (from stanza) (1.7.0+cu101)\n",
            "Requirement already satisfied: setuptools in /usr/local/lib/python3.6/dist-packages (from protobuf->stanza) (51.1.1)\n",
            "Requirement already satisfied: six>=1.9 in /usr/local/lib/python3.6/dist-packages (from protobuf->stanza) (1.15.0)\n",
            "Requirement already satisfied: certifi>=2017.4.17 in /usr/local/lib/python3.6/dist-packages (from requests->stanza) (2020.12.5)\n",
            "Requirement already satisfied: urllib3!=1.25.0,!=1.25.1,<1.26,>=1.21.1 in /usr/local/lib/python3.6/dist-packages (from requests->stanza) (1.24.3)\n",
            "Requirement already satisfied: idna<3,>=2.5 in /usr/local/lib/python3.6/dist-packages (from requests->stanza) (2.10)\n",
            "Requirement already satisfied: chardet<4,>=3.0.2 in /usr/local/lib/python3.6/dist-packages (from requests->stanza) (3.0.4)\n",
            "Requirement already satisfied: typing-extensions in /usr/local/lib/python3.6/dist-packages (from torch>=1.3.0->stanza) (3.7.4.3)\n",
            "Requirement already satisfied: future in /usr/local/lib/python3.6/dist-packages (from torch>=1.3.0->stanza) (0.16.0)\n",
            "Requirement already satisfied: dataclasses in /usr/local/lib/python3.6/dist-packages (from torch>=1.3.0->stanza) (0.8)\n",
            "Installing collected packages: stanza\n",
            "Successfully installed stanza-1.1.1\n"
          ],
          "name": "stdout"
        }
      ]
    },
    {
      "cell_type": "markdown",
      "metadata": {
        "id": "JEH2E3Rng8B_"
      },
      "source": [
        "# Import\r\n",
        "```\r\n",
        "import stanza\r\n",
        "```"
      ]
    },
    {
      "cell_type": "markdown",
      "metadata": {
        "id": "zJNhjPmAdW4A"
      },
      "source": [
        "\r\n",
        "\r\n",
        "# Set Pipeline\r\n",
        "1) 언어 설정\r\n",
        "```\r\n",
        "stanza.download('de')\r\n",
        "```\r\n",
        "  * 한국어: ko\r\n",
        "  * 영어: en\r\n",
        "  * 독일어:de\r\n",
        "\r\n",
        "2) processors\r\n",
        "```\r\n",
        "nlp = stanza.Pipeline(lang = 'de', processor = 'tokenize, mwt, pos')\r\n",
        "```\r\n",
        "  * **tokenize**: TokenizeProcessor\r\n",
        "    * *Tokenizes* the text and performs *sentence segmentation*\r\n",
        "  * **mwt**: MWTProcessor\r\n",
        "    * Requirement: tokenize\r\n",
        "    * Expands *multi-word tokens* predicted by TokenizeProcessor\r\n",
        "    * Only applicable to some languagues: German, French\r\n",
        "  * **pos**: POSProcessor\r\n",
        "    * Requirement: tokenize, mwt\r\n",
        "    * Labels tokens with...\r\n",
        "      * UPOS: universal POS\r\n",
        "      * XPOS: treebank-specific POS\r\n",
        "      * UFeats: universal morphological features\r\n",
        "  * **lemma**: LemmaProcessor\r\n",
        "    * Requirement: tokenize, mwt, pos\r\n",
        "    * Generates the *word leammas* for all words in the Document.\r\n",
        "  * **depparse**: DepparseProcessor\r\n",
        "    * Requirement: tokenize, mwt, pos, lemma\r\n",
        "    * Provides an accuate *syntactic dependency parsing* analysis\r\n",
        "  * **ner**: NERProcessing\r\n",
        "    * Requirement: tokenize, mwt\r\n",
        "    * Recognize *named entities* for all token spans in the corpus."
      ]
    },
    {
      "cell_type": "code",
      "metadata": {
        "id": "P3kjEbuq29_u"
      },
      "source": [
        "import stanza"
      ],
      "execution_count": 2,
      "outputs": []
    },
    {
      "cell_type": "code",
      "metadata": {
        "colab": {
          "base_uri": "https://localhost:8080/"
        },
        "id": "qEC-1Wjz2_tF",
        "outputId": "0a4115f1-c601-40a3-88ca-6d79ffe08720"
      },
      "source": [
        "stanza.download('de')\r\n",
        "nlp = stanza.Pipeline('de') #따로 processor를 설정하지 않는 경우 defult 값으로 모두 다운로드 받아짐"
      ],
      "execution_count": 3,
      "outputs": [
        {
          "output_type": "stream",
          "text": [
            "Downloading https://raw.githubusercontent.com/stanfordnlp/stanza-resources/master/resources_1.1.0.json: 122kB [00:00, 18.9MB/s]                    \n",
            "2021-01-15 13:14:44 INFO: Downloading default packages for language: de (German)...\n",
            "Downloading http://nlp.stanford.edu/software/stanza/1.1.0/de/default.zip: 100%|██████████| 607M/607M [02:34<00:00, 3.92MB/s]\n",
            "2021-01-15 13:17:29 INFO: Finished downloading models and saved to /root/stanza_resources.\n",
            "2021-01-15 13:17:29 INFO: Loading these models for language: de (German):\n",
            "=======================\n",
            "| Processor | Package |\n",
            "-----------------------\n",
            "| tokenize  | gsd     |\n",
            "| mwt       | gsd     |\n",
            "| pos       | gsd     |\n",
            "| lemma     | gsd     |\n",
            "| depparse  | gsd     |\n",
            "| sentiment | sb10k   |\n",
            "| ner       | conll03 |\n",
            "=======================\n",
            "\n",
            "2021-01-15 13:17:29 INFO: Use device: cpu\n",
            "2021-01-15 13:17:29 INFO: Loading: tokenize\n",
            "2021-01-15 13:17:29 INFO: Loading: mwt\n",
            "2021-01-15 13:17:29 INFO: Loading: pos\n",
            "2021-01-15 13:17:30 INFO: Loading: lemma\n",
            "2021-01-15 13:17:30 INFO: Loading: depparse\n",
            "2021-01-15 13:17:31 INFO: Loading: sentiment\n",
            "2021-01-15 13:17:33 INFO: Loading: ner\n",
            "2021-01-15 13:17:34 INFO: Done loading processors!\n"
          ],
          "name": "stderr"
        }
      ]
    },
    {
      "cell_type": "markdown",
      "metadata": {
        "id": "4U-lyG1ghOSW"
      },
      "source": [
        "# Data Object 1: Document\r\n",
        "* An entire document\r\n",
        "* A collection of ```Sentence```s and entities (represented as ```Span```s)\r\n",
        "* define document\r\n",
        "```\r\n",
        "doc = nlp(\"A document object holds the annotation of an entire document\")\r\n",
        "```\r\n",
        "* 문장 출처:\r\n",
        "1. https://www.dw.com/de/faktencheck-wie-verl%C3%A4sslich-ist-wikipedia/a-56212126\r\n",
        "2. https://www.dw.com/de/david-bowie-todestag/a-56167786\r\n",
        "\r\n",
        "## Properties\r\n",
        "  * **text**: The raw *text(string)* of the document\r\n",
        "  * **sentences**: The *list* of sentences in the document\r\n",
        "  * **entities (ents)**: The *list* of entities in the document\r\n",
        "  * **num_tokens**: The total *number* of tokens in the document\r\n",
        "  * **num_words**: The total *number* of words in the document\r\n"
      ]
    },
    {
      "cell_type": "code",
      "metadata": {
        "id": "6RvI72DH3KNl"
      },
      "source": [
        "doc = nlp(\"\"\"Im Unterschied zu den neuartigen mRNA-Impfstoffen von BioNTech und Moderna wird für das Präparat von Valneva eine klassische Technologie mit inaktiven Viren verwendet, wie sie bei den meisten Influenza-Präparaten zum Einsatz kommt. Es wird derzeit in klinischen Studien in Europa getestet.\"\"\")"
      ],
      "execution_count": 4,
      "outputs": []
    },
    {
      "cell_type": "code",
      "metadata": {
        "colab": {
          "base_uri": "https://localhost:8080/",
          "height": 52
        },
        "id": "CiAQW3iDMGDH",
        "outputId": "7f68b4e2-c7a9-4a70-80de-1e24b28c6060"
      },
      "source": [
        "doc.text"
      ],
      "execution_count": 5,
      "outputs": [
        {
          "output_type": "execute_result",
          "data": {
            "application/vnd.google.colaboratory.intrinsic+json": {
              "type": "string"
            },
            "text/plain": [
              "'Im Unterschied zu den neuartigen mRNA-Impfstoffen von BioNTech und Moderna wird für das Präparat von Valneva eine klassische Technologie mit inaktiven Viren verwendet, wie sie bei den meisten Influenza-Präparaten zum Einsatz kommt. Es wird derzeit in klinischen Studien in Europa getestet.'"
            ]
          },
          "metadata": {
            "tags": []
          },
          "execution_count": 5
        }
      ]
    },
    {
      "cell_type": "code",
      "metadata": {
        "colab": {
          "base_uri": "https://localhost:8080/"
        },
        "id": "wBzVwkLrbPuB",
        "outputId": "43ee16c9-5aee-4c54-a450-1d6894e352ad"
      },
      "source": [
        "doc.sentences"
      ],
      "execution_count": 6,
      "outputs": [
        {
          "output_type": "execute_result",
          "data": {
            "text/plain": [
              "[[\n",
              "   {\n",
              "     \"id\": [\n",
              "       1,\n",
              "       2\n",
              "     ],\n",
              "     \"text\": \"Im\",\n",
              "     \"ner\": \"O\",\n",
              "     \"misc\": \"start_char=0|end_char=2\"\n",
              "   },\n",
              "   {\n",
              "     \"id\": 1,\n",
              "     \"text\": \"In\",\n",
              "     \"lemma\": \"in\",\n",
              "     \"upos\": \"ADP\",\n",
              "     \"xpos\": \"APPR\",\n",
              "     \"head\": 3,\n",
              "     \"deprel\": \"case\"\n",
              "   },\n",
              "   {\n",
              "     \"id\": 2,\n",
              "     \"text\": \"dem\",\n",
              "     \"lemma\": \"der\",\n",
              "     \"upos\": \"DET\",\n",
              "     \"xpos\": \"ART\",\n",
              "     \"feats\": \"Case=Dat|Definite=Def|Gender=Masc|Number=Sing|PronType=Art\",\n",
              "     \"head\": 3,\n",
              "     \"deprel\": \"det\"\n",
              "   },\n",
              "   {\n",
              "     \"id\": 3,\n",
              "     \"text\": \"Unterschied\",\n",
              "     \"lemma\": \"Unterschied\",\n",
              "     \"upos\": \"NOUN\",\n",
              "     \"xpos\": \"NN\",\n",
              "     \"feats\": \"Case=Dat|Gender=Masc|Number=Sing\",\n",
              "     \"head\": 26,\n",
              "     \"deprel\": \"obl\",\n",
              "     \"misc\": \"start_char=3|end_char=14\",\n",
              "     \"ner\": \"O\"\n",
              "   },\n",
              "   {\n",
              "     \"id\": 4,\n",
              "     \"text\": \"zu\",\n",
              "     \"lemma\": \"zu\",\n",
              "     \"upos\": \"ADP\",\n",
              "     \"xpos\": \"APPR\",\n",
              "     \"head\": 7,\n",
              "     \"deprel\": \"case\",\n",
              "     \"misc\": \"start_char=15|end_char=17\",\n",
              "     \"ner\": \"O\"\n",
              "   },\n",
              "   {\n",
              "     \"id\": 5,\n",
              "     \"text\": \"den\",\n",
              "     \"lemma\": \"der\",\n",
              "     \"upos\": \"DET\",\n",
              "     \"xpos\": \"ART\",\n",
              "     \"feats\": \"Case=Dat|Definite=Def|Gender=Masc|Number=Plur|PronType=Art\",\n",
              "     \"head\": 7,\n",
              "     \"deprel\": \"det\",\n",
              "     \"misc\": \"start_char=18|end_char=21\",\n",
              "     \"ner\": \"O\"\n",
              "   },\n",
              "   {\n",
              "     \"id\": 6,\n",
              "     \"text\": \"neuartigen\",\n",
              "     \"lemma\": \"neuartig\",\n",
              "     \"upos\": \"ADJ\",\n",
              "     \"xpos\": \"ADJA\",\n",
              "     \"feats\": \"Case=Dat|Gender=Masc|Number=Plur\",\n",
              "     \"head\": 7,\n",
              "     \"deprel\": \"amod\",\n",
              "     \"misc\": \"start_char=22|end_char=32\",\n",
              "     \"ner\": \"O\"\n",
              "   },\n",
              "   {\n",
              "     \"id\": 7,\n",
              "     \"text\": \"mRNA\",\n",
              "     \"lemma\": \"mRNA\",\n",
              "     \"upos\": \"PROPN\",\n",
              "     \"xpos\": \"NN\",\n",
              "     \"feats\": \"Case=Dat|Gender=Masc|Number=Plur\",\n",
              "     \"head\": 3,\n",
              "     \"deprel\": \"nmod\",\n",
              "     \"misc\": \"start_char=33|end_char=37\",\n",
              "     \"ner\": \"O\"\n",
              "   },\n",
              "   {\n",
              "     \"id\": 8,\n",
              "     \"text\": \"-\",\n",
              "     \"lemma\": \"-\",\n",
              "     \"upos\": \"PUNCT\",\n",
              "     \"xpos\": \"$(\",\n",
              "     \"head\": 9,\n",
              "     \"deprel\": \"punct\",\n",
              "     \"misc\": \"start_char=37|end_char=38\",\n",
              "     \"ner\": \"O\"\n",
              "   },\n",
              "   {\n",
              "     \"id\": 9,\n",
              "     \"text\": \"Impfstoffen\",\n",
              "     \"lemma\": \"Impfstoff\",\n",
              "     \"upos\": \"NOUN\",\n",
              "     \"xpos\": \"NN\",\n",
              "     \"feats\": \"Case=Dat|Gender=Masc|Number=Plur\",\n",
              "     \"head\": 7,\n",
              "     \"deprel\": \"flat\",\n",
              "     \"misc\": \"start_char=38|end_char=49\",\n",
              "     \"ner\": \"O\"\n",
              "   },\n",
              "   {\n",
              "     \"id\": 10,\n",
              "     \"text\": \"von\",\n",
              "     \"lemma\": \"von\",\n",
              "     \"upos\": \"ADP\",\n",
              "     \"xpos\": \"APPR\",\n",
              "     \"head\": 11,\n",
              "     \"deprel\": \"case\",\n",
              "     \"misc\": \"start_char=50|end_char=53\",\n",
              "     \"ner\": \"O\"\n",
              "   },\n",
              "   {\n",
              "     \"id\": 11,\n",
              "     \"text\": \"BioNTech\",\n",
              "     \"lemma\": \"BioNTech\",\n",
              "     \"upos\": \"PROPN\",\n",
              "     \"xpos\": \"NE\",\n",
              "     \"feats\": \"Case=Dat|Gender=Neut|Number=Sing\",\n",
              "     \"head\": 7,\n",
              "     \"deprel\": \"nmod\",\n",
              "     \"misc\": \"start_char=54|end_char=62\",\n",
              "     \"ner\": \"O\"\n",
              "   },\n",
              "   {\n",
              "     \"id\": 12,\n",
              "     \"text\": \"und\",\n",
              "     \"lemma\": \"und\",\n",
              "     \"upos\": \"CCONJ\",\n",
              "     \"xpos\": \"KON\",\n",
              "     \"head\": 13,\n",
              "     \"deprel\": \"cc\",\n",
              "     \"misc\": \"start_char=63|end_char=66\",\n",
              "     \"ner\": \"O\"\n",
              "   },\n",
              "   {\n",
              "     \"id\": 13,\n",
              "     \"text\": \"Moderna\",\n",
              "     \"lemma\": \"Moderna\",\n",
              "     \"upos\": \"PROPN\",\n",
              "     \"xpos\": \"NE\",\n",
              "     \"feats\": \"Case=Dat|Gender=Neut|Number=Sing\",\n",
              "     \"head\": 11,\n",
              "     \"deprel\": \"conj\",\n",
              "     \"misc\": \"start_char=67|end_char=74\",\n",
              "     \"ner\": \"S-MISC\"\n",
              "   },\n",
              "   {\n",
              "     \"id\": 14,\n",
              "     \"text\": \"wird\",\n",
              "     \"lemma\": \"werden\",\n",
              "     \"upos\": \"AUX\",\n",
              "     \"xpos\": \"VAFIN\",\n",
              "     \"feats\": \"Mood=Ind|Number=Sing|Person=3|Tense=Pres|VerbForm=Fin|Voice=Pass\",\n",
              "     \"head\": 26,\n",
              "     \"deprel\": \"aux:pass\",\n",
              "     \"misc\": \"start_char=75|end_char=79\",\n",
              "     \"ner\": \"O\"\n",
              "   },\n",
              "   {\n",
              "     \"id\": 15,\n",
              "     \"text\": \"für\",\n",
              "     \"lemma\": \"für\",\n",
              "     \"upos\": \"ADP\",\n",
              "     \"xpos\": \"APPR\",\n",
              "     \"head\": 17,\n",
              "     \"deprel\": \"case\",\n",
              "     \"misc\": \"start_char=80|end_char=83\",\n",
              "     \"ner\": \"O\"\n",
              "   },\n",
              "   {\n",
              "     \"id\": 16,\n",
              "     \"text\": \"das\",\n",
              "     \"lemma\": \"der\",\n",
              "     \"upos\": \"DET\",\n",
              "     \"xpos\": \"ART\",\n",
              "     \"feats\": \"Case=Acc|Definite=Def|Gender=Neut|Number=Sing|PronType=Art\",\n",
              "     \"head\": 17,\n",
              "     \"deprel\": \"det\",\n",
              "     \"misc\": \"start_char=84|end_char=87\",\n",
              "     \"ner\": \"O\"\n",
              "   },\n",
              "   {\n",
              "     \"id\": 17,\n",
              "     \"text\": \"Präparat\",\n",
              "     \"lemma\": \"Präparat\",\n",
              "     \"upos\": \"NOUN\",\n",
              "     \"xpos\": \"NN\",\n",
              "     \"feats\": \"Case=Acc|Gender=Neut|Number=Sing\",\n",
              "     \"head\": 26,\n",
              "     \"deprel\": \"obl\",\n",
              "     \"misc\": \"start_char=88|end_char=96\",\n",
              "     \"ner\": \"O\"\n",
              "   },\n",
              "   {\n",
              "     \"id\": 18,\n",
              "     \"text\": \"von\",\n",
              "     \"lemma\": \"von\",\n",
              "     \"upos\": \"ADP\",\n",
              "     \"xpos\": \"APPR\",\n",
              "     \"head\": 19,\n",
              "     \"deprel\": \"case\",\n",
              "     \"misc\": \"start_char=97|end_char=100\",\n",
              "     \"ner\": \"O\"\n",
              "   },\n",
              "   {\n",
              "     \"id\": 19,\n",
              "     \"text\": \"Valneva\",\n",
              "     \"lemma\": \"Valneva\",\n",
              "     \"upos\": \"PROPN\",\n",
              "     \"xpos\": \"NE\",\n",
              "     \"feats\": \"Case=Dat|Gender=Masc|Number=Sing\",\n",
              "     \"head\": 17,\n",
              "     \"deprel\": \"nmod\",\n",
              "     \"misc\": \"start_char=101|end_char=108\",\n",
              "     \"ner\": \"S-PER\"\n",
              "   },\n",
              "   {\n",
              "     \"id\": 20,\n",
              "     \"text\": \"eine\",\n",
              "     \"lemma\": \"ein\",\n",
              "     \"upos\": \"DET\",\n",
              "     \"xpos\": \"ART\",\n",
              "     \"feats\": \"Case=Acc|Definite=Ind|Gender=Fem|Number=Sing|PronType=Art\",\n",
              "     \"head\": 22,\n",
              "     \"deprel\": \"det\",\n",
              "     \"misc\": \"start_char=109|end_char=113\",\n",
              "     \"ner\": \"O\"\n",
              "   },\n",
              "   {\n",
              "     \"id\": 21,\n",
              "     \"text\": \"klassische\",\n",
              "     \"lemma\": \"klassisch\",\n",
              "     \"upos\": \"ADJ\",\n",
              "     \"xpos\": \"ADJA\",\n",
              "     \"feats\": \"Case=Acc|Gender=Fem|Number=Sing\",\n",
              "     \"head\": 22,\n",
              "     \"deprel\": \"amod\",\n",
              "     \"misc\": \"start_char=114|end_char=124\",\n",
              "     \"ner\": \"O\"\n",
              "   },\n",
              "   {\n",
              "     \"id\": 22,\n",
              "     \"text\": \"Technologie\",\n",
              "     \"lemma\": \"Technologie\",\n",
              "     \"upos\": \"NOUN\",\n",
              "     \"xpos\": \"NN\",\n",
              "     \"feats\": \"Case=Acc|Gender=Fem|Number=Sing\",\n",
              "     \"head\": 26,\n",
              "     \"deprel\": \"nsubj:pass\",\n",
              "     \"misc\": \"start_char=125|end_char=136\",\n",
              "     \"ner\": \"O\"\n",
              "   },\n",
              "   {\n",
              "     \"id\": 23,\n",
              "     \"text\": \"mit\",\n",
              "     \"lemma\": \"mit\",\n",
              "     \"upos\": \"ADP\",\n",
              "     \"xpos\": \"APPR\",\n",
              "     \"head\": 25,\n",
              "     \"deprel\": \"case\",\n",
              "     \"misc\": \"start_char=137|end_char=140\",\n",
              "     \"ner\": \"O\"\n",
              "   },\n",
              "   {\n",
              "     \"id\": 24,\n",
              "     \"text\": \"inaktiven\",\n",
              "     \"lemma\": \"inaktiv\",\n",
              "     \"upos\": \"ADJ\",\n",
              "     \"xpos\": \"ADJA\",\n",
              "     \"feats\": \"Case=Dat|Gender=Fem|Number=Plur\",\n",
              "     \"head\": 25,\n",
              "     \"deprel\": \"amod\",\n",
              "     \"misc\": \"start_char=141|end_char=150\",\n",
              "     \"ner\": \"O\"\n",
              "   },\n",
              "   {\n",
              "     \"id\": 25,\n",
              "     \"text\": \"Viren\",\n",
              "     \"lemma\": \"Virus\",\n",
              "     \"upos\": \"NOUN\",\n",
              "     \"xpos\": \"NN\",\n",
              "     \"feats\": \"Case=Dat|Gender=Masc|Number=Plur\",\n",
              "     \"head\": 22,\n",
              "     \"deprel\": \"nmod\",\n",
              "     \"misc\": \"start_char=151|end_char=156\",\n",
              "     \"ner\": \"O\"\n",
              "   },\n",
              "   {\n",
              "     \"id\": 26,\n",
              "     \"text\": \"verwendet\",\n",
              "     \"lemma\": \"verwenden\",\n",
              "     \"upos\": \"VERB\",\n",
              "     \"xpos\": \"VVPP\",\n",
              "     \"feats\": \"VerbForm=Part\",\n",
              "     \"head\": 0,\n",
              "     \"deprel\": \"root\",\n",
              "     \"misc\": \"start_char=157|end_char=166\",\n",
              "     \"ner\": \"O\"\n",
              "   },\n",
              "   {\n",
              "     \"id\": 27,\n",
              "     \"text\": \",\",\n",
              "     \"lemma\": \",\",\n",
              "     \"upos\": \"PUNCT\",\n",
              "     \"xpos\": \"$,\",\n",
              "     \"head\": 39,\n",
              "     \"deprel\": \"punct\",\n",
              "     \"misc\": \"start_char=166|end_char=167\",\n",
              "     \"ner\": \"O\"\n",
              "   },\n",
              "   {\n",
              "     \"id\": 28,\n",
              "     \"text\": \"wie\",\n",
              "     \"lemma\": \"wie\",\n",
              "     \"upos\": \"SCONJ\",\n",
              "     \"xpos\": \"KOUS\",\n",
              "     \"head\": 39,\n",
              "     \"deprel\": \"mark\",\n",
              "     \"misc\": \"start_char=168|end_char=171\",\n",
              "     \"ner\": \"O\"\n",
              "   },\n",
              "   {\n",
              "     \"id\": 29,\n",
              "     \"text\": \"sie\",\n",
              "     \"lemma\": \"sie\",\n",
              "     \"upos\": \"PRON\",\n",
              "     \"xpos\": \"PPER\",\n",
              "     \"feats\": \"Case=Nom|Number=Plur|Person=3|PronType=Prs\",\n",
              "     \"head\": 39,\n",
              "     \"deprel\": \"nsubj\",\n",
              "     \"misc\": \"start_char=172|end_char=175\",\n",
              "     \"ner\": \"O\"\n",
              "   },\n",
              "   {\n",
              "     \"id\": 30,\n",
              "     \"text\": \"bei\",\n",
              "     \"lemma\": \"bei\",\n",
              "     \"upos\": \"ADP\",\n",
              "     \"xpos\": \"APPR\",\n",
              "     \"head\": 35,\n",
              "     \"deprel\": \"case\",\n",
              "     \"misc\": \"start_char=176|end_char=179\",\n",
              "     \"ner\": \"O\"\n",
              "   },\n",
              "   {\n",
              "     \"id\": 31,\n",
              "     \"text\": \"den\",\n",
              "     \"lemma\": \"der\",\n",
              "     \"upos\": \"DET\",\n",
              "     \"xpos\": \"ART\",\n",
              "     \"feats\": \"Case=Dat|Definite=Def|Number=Plur|PronType=Art\",\n",
              "     \"head\": 35,\n",
              "     \"deprel\": \"det\",\n",
              "     \"misc\": \"start_char=180|end_char=183\",\n",
              "     \"ner\": \"O\"\n",
              "   },\n",
              "   {\n",
              "     \"id\": 32,\n",
              "     \"text\": \"meisten\",\n",
              "     \"lemma\": \"meist\",\n",
              "     \"upos\": \"DET\",\n",
              "     \"xpos\": \"PIAT\",\n",
              "     \"feats\": \"Case=Dat|Definite=Ind|Gender=Masc|Number=Plur|PronType=Ind\",\n",
              "     \"head\": 35,\n",
              "     \"deprel\": \"amod\",\n",
              "     \"misc\": \"start_char=184|end_char=191\",\n",
              "     \"ner\": \"O\"\n",
              "   },\n",
              "   {\n",
              "     \"id\": 33,\n",
              "     \"text\": \"Influenza\",\n",
              "     \"lemma\": \"Influenza\",\n",
              "     \"upos\": \"NOUN\",\n",
              "     \"xpos\": \"NN\",\n",
              "     \"feats\": \"Case=Dat|Gender=Masc|Number=Plur\",\n",
              "     \"head\": 35,\n",
              "     \"deprel\": \"compound\",\n",
              "     \"misc\": \"start_char=192|end_char=201\",\n",
              "     \"ner\": \"O\"\n",
              "   },\n",
              "   {\n",
              "     \"id\": 34,\n",
              "     \"text\": \"-\",\n",
              "     \"lemma\": \"-\",\n",
              "     \"upos\": \"PUNCT\",\n",
              "     \"xpos\": \"$(\",\n",
              "     \"head\": 33,\n",
              "     \"deprel\": \"punct\",\n",
              "     \"misc\": \"start_char=201|end_char=202\",\n",
              "     \"ner\": \"O\"\n",
              "   },\n",
              "   {\n",
              "     \"id\": 35,\n",
              "     \"text\": \"Präparaten\",\n",
              "     \"lemma\": \"Präparat\",\n",
              "     \"upos\": \"NOUN\",\n",
              "     \"xpos\": \"NN\",\n",
              "     \"feats\": \"Case=Dat|Gender=Fem|Number=Plur\",\n",
              "     \"head\": 39,\n",
              "     \"deprel\": \"obl\",\n",
              "     \"misc\": \"start_char=202|end_char=212\",\n",
              "     \"ner\": \"O\"\n",
              "   },\n",
              "   {\n",
              "     \"id\": [\n",
              "       36,\n",
              "       37\n",
              "     ],\n",
              "     \"text\": \"zum\",\n",
              "     \"ner\": \"O\",\n",
              "     \"misc\": \"start_char=213|end_char=216\"\n",
              "   },\n",
              "   {\n",
              "     \"id\": 36,\n",
              "     \"text\": \"zu\",\n",
              "     \"lemma\": \"zu\",\n",
              "     \"upos\": \"ADP\",\n",
              "     \"xpos\": \"APPR\",\n",
              "     \"head\": 38,\n",
              "     \"deprel\": \"case\"\n",
              "   },\n",
              "   {\n",
              "     \"id\": 37,\n",
              "     \"text\": \"dem\",\n",
              "     \"lemma\": \"der\",\n",
              "     \"upos\": \"DET\",\n",
              "     \"xpos\": \"ART\",\n",
              "     \"feats\": \"Case=Dat|Definite=Def|Gender=Masc|Number=Sing|PronType=Art\",\n",
              "     \"head\": 38,\n",
              "     \"deprel\": \"det\"\n",
              "   },\n",
              "   {\n",
              "     \"id\": 38,\n",
              "     \"text\": \"Einsatz\",\n",
              "     \"lemma\": \"Einsatz\",\n",
              "     \"upos\": \"NOUN\",\n",
              "     \"xpos\": \"NN\",\n",
              "     \"feats\": \"Case=Dat|Gender=Masc|Number=Sing\",\n",
              "     \"head\": 39,\n",
              "     \"deprel\": \"obl\",\n",
              "     \"misc\": \"start_char=217|end_char=224\",\n",
              "     \"ner\": \"O\"\n",
              "   },\n",
              "   {\n",
              "     \"id\": 39,\n",
              "     \"text\": \"kommt\",\n",
              "     \"lemma\": \"kommen\",\n",
              "     \"upos\": \"VERB\",\n",
              "     \"xpos\": \"VVFIN\",\n",
              "     \"feats\": \"Mood=Ind|Number=Sing|Person=3|Tense=Pres|VerbForm=Fin\",\n",
              "     \"head\": 26,\n",
              "     \"deprel\": \"advcl\",\n",
              "     \"misc\": \"start_char=225|end_char=230\",\n",
              "     \"ner\": \"O\"\n",
              "   },\n",
              "   {\n",
              "     \"id\": 40,\n",
              "     \"text\": \".\",\n",
              "     \"lemma\": \".\",\n",
              "     \"upos\": \"PUNCT\",\n",
              "     \"xpos\": \"$.\",\n",
              "     \"head\": 26,\n",
              "     \"deprel\": \"punct\",\n",
              "     \"misc\": \"start_char=230|end_char=231\",\n",
              "     \"ner\": \"O\"\n",
              "   }\n",
              " ], [\n",
              "   {\n",
              "     \"id\": 1,\n",
              "     \"text\": \"Es\",\n",
              "     \"lemma\": \"es\",\n",
              "     \"upos\": \"PRON\",\n",
              "     \"xpos\": \"PPER\",\n",
              "     \"feats\": \"Case=Nom|Gender=Neut|Number=Sing|Person=3|PronType=Prs\",\n",
              "     \"head\": 9,\n",
              "     \"deprel\": \"nsubj:pass\",\n",
              "     \"misc\": \"start_char=232|end_char=234\",\n",
              "     \"ner\": \"O\"\n",
              "   },\n",
              "   {\n",
              "     \"id\": 2,\n",
              "     \"text\": \"wird\",\n",
              "     \"lemma\": \"werden\",\n",
              "     \"upos\": \"AUX\",\n",
              "     \"xpos\": \"VAFIN\",\n",
              "     \"feats\": \"Mood=Ind|Number=Sing|Person=3|Tense=Pres|VerbForm=Fin|Voice=Pass\",\n",
              "     \"head\": 9,\n",
              "     \"deprel\": \"aux:pass\",\n",
              "     \"misc\": \"start_char=235|end_char=239\",\n",
              "     \"ner\": \"O\"\n",
              "   },\n",
              "   {\n",
              "     \"id\": 3,\n",
              "     \"text\": \"derzeit\",\n",
              "     \"lemma\": \"derzeit\",\n",
              "     \"upos\": \"ADV\",\n",
              "     \"xpos\": \"ADV\",\n",
              "     \"head\": 9,\n",
              "     \"deprel\": \"advmod\",\n",
              "     \"misc\": \"start_char=240|end_char=247\",\n",
              "     \"ner\": \"O\"\n",
              "   },\n",
              "   {\n",
              "     \"id\": 4,\n",
              "     \"text\": \"in\",\n",
              "     \"lemma\": \"in\",\n",
              "     \"upos\": \"ADP\",\n",
              "     \"xpos\": \"APPR\",\n",
              "     \"head\": 6,\n",
              "     \"deprel\": \"case\",\n",
              "     \"misc\": \"start_char=248|end_char=250\",\n",
              "     \"ner\": \"O\"\n",
              "   },\n",
              "   {\n",
              "     \"id\": 5,\n",
              "     \"text\": \"klinischen\",\n",
              "     \"lemma\": \"klinisch\",\n",
              "     \"upos\": \"ADJ\",\n",
              "     \"xpos\": \"ADJA\",\n",
              "     \"feats\": \"Case=Dat|Gender=Fem|Number=Plur\",\n",
              "     \"head\": 6,\n",
              "     \"deprel\": \"amod\",\n",
              "     \"misc\": \"start_char=251|end_char=261\",\n",
              "     \"ner\": \"O\"\n",
              "   },\n",
              "   {\n",
              "     \"id\": 6,\n",
              "     \"text\": \"Studien\",\n",
              "     \"lemma\": \"Studie|Studium\",\n",
              "     \"upos\": \"NOUN\",\n",
              "     \"xpos\": \"NN\",\n",
              "     \"feats\": \"Case=Dat|Gender=Fem|Number=Plur\",\n",
              "     \"head\": 9,\n",
              "     \"deprel\": \"obl\",\n",
              "     \"misc\": \"start_char=262|end_char=269\",\n",
              "     \"ner\": \"O\"\n",
              "   },\n",
              "   {\n",
              "     \"id\": 7,\n",
              "     \"text\": \"in\",\n",
              "     \"lemma\": \"in\",\n",
              "     \"upos\": \"ADP\",\n",
              "     \"xpos\": \"APPR\",\n",
              "     \"head\": 8,\n",
              "     \"deprel\": \"case\",\n",
              "     \"misc\": \"start_char=270|end_char=272\",\n",
              "     \"ner\": \"O\"\n",
              "   },\n",
              "   {\n",
              "     \"id\": 8,\n",
              "     \"text\": \"Europa\",\n",
              "     \"lemma\": \"Europa\",\n",
              "     \"upos\": \"PROPN\",\n",
              "     \"xpos\": \"NE\",\n",
              "     \"feats\": \"Case=Dat|Gender=Neut|Number=Sing\",\n",
              "     \"head\": 6,\n",
              "     \"deprel\": \"nmod\",\n",
              "     \"misc\": \"start_char=273|end_char=279\",\n",
              "     \"ner\": \"S-LOC\"\n",
              "   },\n",
              "   {\n",
              "     \"id\": 9,\n",
              "     \"text\": \"getestet\",\n",
              "     \"lemma\": \"testen\",\n",
              "     \"upos\": \"VERB\",\n",
              "     \"xpos\": \"VVPP\",\n",
              "     \"feats\": \"VerbForm=Part\",\n",
              "     \"head\": 0,\n",
              "     \"deprel\": \"root\",\n",
              "     \"misc\": \"start_char=280|end_char=288\",\n",
              "     \"ner\": \"O\"\n",
              "   },\n",
              "   {\n",
              "     \"id\": 10,\n",
              "     \"text\": \".\",\n",
              "     \"lemma\": \".\",\n",
              "     \"upos\": \"PUNCT\",\n",
              "     \"xpos\": \"$.\",\n",
              "     \"head\": 9,\n",
              "     \"deprel\": \"punct\",\n",
              "     \"misc\": \"start_char=288|end_char=289\",\n",
              "     \"ner\": \"O\"\n",
              "   }\n",
              " ]]"
            ]
          },
          "metadata": {
            "tags": []
          },
          "execution_count": 6
        }
      ]
    },
    {
      "cell_type": "code",
      "metadata": {
        "colab": {
          "base_uri": "https://localhost:8080/"
        },
        "id": "-1xpeL5gbWFR",
        "outputId": "c5e6018f-d35e-4774-8ce2-b811809e38ce"
      },
      "source": [
        "doc.entities"
      ],
      "execution_count": 7,
      "outputs": [
        {
          "output_type": "execute_result",
          "data": {
            "text/plain": [
              "[{\n",
              "   \"text\": \"Moderna\",\n",
              "   \"type\": \"MISC\",\n",
              "   \"start_char\": 67,\n",
              "   \"end_char\": 74\n",
              " }, {\n",
              "   \"text\": \"Valneva\",\n",
              "   \"type\": \"PER\",\n",
              "   \"start_char\": 101,\n",
              "   \"end_char\": 108\n",
              " }, {\n",
              "   \"text\": \"Europa\",\n",
              "   \"type\": \"LOC\",\n",
              "   \"start_char\": 273,\n",
              "   \"end_char\": 279\n",
              " }]"
            ]
          },
          "metadata": {
            "tags": []
          },
          "execution_count": 7
        }
      ]
    },
    {
      "cell_type": "code",
      "metadata": {
        "colab": {
          "base_uri": "https://localhost:8080/"
        },
        "id": "WXhzEo_tbahT",
        "outputId": "dc47c539-c7ba-47d5-dc78-33b9af5beb56"
      },
      "source": [
        "doc.num_tokens"
      ],
      "execution_count": 8,
      "outputs": [
        {
          "output_type": "execute_result",
          "data": {
            "text/plain": [
              "48"
            ]
          },
          "metadata": {
            "tags": []
          },
          "execution_count": 8
        }
      ]
    },
    {
      "cell_type": "code",
      "metadata": {
        "colab": {
          "base_uri": "https://localhost:8080/"
        },
        "id": "bDP9hepbbfbH",
        "outputId": "b747297b-8658-4261-fe31-549db383b3dd"
      },
      "source": [
        "doc.num_words"
      ],
      "execution_count": 9,
      "outputs": [
        {
          "output_type": "execute_result",
          "data": {
            "text/plain": [
              "50"
            ]
          },
          "metadata": {
            "tags": []
          },
          "execution_count": 9
        }
      ]
    },
    {
      "cell_type": "markdown",
      "metadata": {
        "id": "sAa7MT7jJgkf"
      },
      "source": [
        "# Data Object 2: Sentence\r\n",
        "* A sentence as is segmented by the TokenizeProcessor\r\n",
        "* A sentence contains a list of ```Token```s in the sentence, a list of all its ```Word```s, and list of entities in the sentence(```Span```).\r\n",
        "## Properties\r\n",
        "  * **text**: The raw *text(string)* for the sentence\r\n",
        "  * **dependencies**: The *list* of dependencies for the sentence, where each item contains head ```Word``` of the dependency relation, the type of dependency relation, and the dependent ```Word``` in that relation\r\n",
        "  * **tokens**: The *list* of tokens in the sentence\r\n",
        "  * **words**: The *list* of words in the sentence\r\n",
        "  * **entities(ents)**: The *list* of entities in the sentence\r\n",
        "  * **sentiment**: The sentiment value for the sentence, as a *string*. Only English, German, and Chinese. (0=negative, 1=neutral, 2=positive)"
      ]
    },
    {
      "cell_type": "code",
      "metadata": {
        "id": "IRjsxJaoMI0u"
      },
      "source": [
        "sent = doc.sentences[0]"
      ],
      "execution_count": 10,
      "outputs": []
    },
    {
      "cell_type": "code",
      "metadata": {
        "colab": {
          "base_uri": "https://localhost:8080/",
          "height": 52
        },
        "id": "xy2T_SLxMxPh",
        "outputId": "99474070-7dc7-4ca4-81a3-80731f9b4030"
      },
      "source": [
        "sent.text"
      ],
      "execution_count": 11,
      "outputs": [
        {
          "output_type": "execute_result",
          "data": {
            "application/vnd.google.colaboratory.intrinsic+json": {
              "type": "string"
            },
            "text/plain": [
              "'Im Unterschied zu den neuartigen mRNA-Impfstoffen von BioNTech und Moderna wird für das Präparat von Valneva eine klassische Technologie mit inaktiven Viren verwendet, wie sie bei den meisten Influenza-Präparaten zum Einsatz kommt.'"
            ]
          },
          "metadata": {
            "tags": []
          },
          "execution_count": 11
        }
      ]
    },
    {
      "cell_type": "code",
      "metadata": {
        "colab": {
          "base_uri": "https://localhost:8080/"
        },
        "id": "_VDQZcReN9Zh",
        "outputId": "dc4b4248-22ae-4c56-f3db-b5162cbee45d"
      },
      "source": [
        "sent.dependencies"
      ],
      "execution_count": 12,
      "outputs": [
        {
          "output_type": "execute_result",
          "data": {
            "text/plain": [
              "[({\n",
              "    \"id\": 3,\n",
              "    \"text\": \"Unterschied\",\n",
              "    \"lemma\": \"Unterschied\",\n",
              "    \"upos\": \"NOUN\",\n",
              "    \"xpos\": \"NN\",\n",
              "    \"feats\": \"Case=Dat|Gender=Masc|Number=Sing\",\n",
              "    \"head\": 26,\n",
              "    \"deprel\": \"obl\",\n",
              "    \"misc\": \"start_char=3|end_char=14\"\n",
              "  }, 'case', {\n",
              "    \"id\": 1,\n",
              "    \"text\": \"In\",\n",
              "    \"lemma\": \"in\",\n",
              "    \"upos\": \"ADP\",\n",
              "    \"xpos\": \"APPR\",\n",
              "    \"head\": 3,\n",
              "    \"deprel\": \"case\"\n",
              "  }), ({\n",
              "    \"id\": 3,\n",
              "    \"text\": \"Unterschied\",\n",
              "    \"lemma\": \"Unterschied\",\n",
              "    \"upos\": \"NOUN\",\n",
              "    \"xpos\": \"NN\",\n",
              "    \"feats\": \"Case=Dat|Gender=Masc|Number=Sing\",\n",
              "    \"head\": 26,\n",
              "    \"deprel\": \"obl\",\n",
              "    \"misc\": \"start_char=3|end_char=14\"\n",
              "  }, 'det', {\n",
              "    \"id\": 2,\n",
              "    \"text\": \"dem\",\n",
              "    \"lemma\": \"der\",\n",
              "    \"upos\": \"DET\",\n",
              "    \"xpos\": \"ART\",\n",
              "    \"feats\": \"Case=Dat|Definite=Def|Gender=Masc|Number=Sing|PronType=Art\",\n",
              "    \"head\": 3,\n",
              "    \"deprel\": \"det\"\n",
              "  }), ({\n",
              "    \"id\": 26,\n",
              "    \"text\": \"verwendet\",\n",
              "    \"lemma\": \"verwenden\",\n",
              "    \"upos\": \"VERB\",\n",
              "    \"xpos\": \"VVPP\",\n",
              "    \"feats\": \"VerbForm=Part\",\n",
              "    \"head\": 0,\n",
              "    \"deprel\": \"root\",\n",
              "    \"misc\": \"start_char=157|end_char=166\"\n",
              "  }, 'obl', {\n",
              "    \"id\": 3,\n",
              "    \"text\": \"Unterschied\",\n",
              "    \"lemma\": \"Unterschied\",\n",
              "    \"upos\": \"NOUN\",\n",
              "    \"xpos\": \"NN\",\n",
              "    \"feats\": \"Case=Dat|Gender=Masc|Number=Sing\",\n",
              "    \"head\": 26,\n",
              "    \"deprel\": \"obl\",\n",
              "    \"misc\": \"start_char=3|end_char=14\"\n",
              "  }), ({\n",
              "    \"id\": 7,\n",
              "    \"text\": \"mRNA\",\n",
              "    \"lemma\": \"mRNA\",\n",
              "    \"upos\": \"PROPN\",\n",
              "    \"xpos\": \"NN\",\n",
              "    \"feats\": \"Case=Dat|Gender=Masc|Number=Plur\",\n",
              "    \"head\": 3,\n",
              "    \"deprel\": \"nmod\",\n",
              "    \"misc\": \"start_char=33|end_char=37\"\n",
              "  }, 'case', {\n",
              "    \"id\": 4,\n",
              "    \"text\": \"zu\",\n",
              "    \"lemma\": \"zu\",\n",
              "    \"upos\": \"ADP\",\n",
              "    \"xpos\": \"APPR\",\n",
              "    \"head\": 7,\n",
              "    \"deprel\": \"case\",\n",
              "    \"misc\": \"start_char=15|end_char=17\"\n",
              "  }), ({\n",
              "    \"id\": 7,\n",
              "    \"text\": \"mRNA\",\n",
              "    \"lemma\": \"mRNA\",\n",
              "    \"upos\": \"PROPN\",\n",
              "    \"xpos\": \"NN\",\n",
              "    \"feats\": \"Case=Dat|Gender=Masc|Number=Plur\",\n",
              "    \"head\": 3,\n",
              "    \"deprel\": \"nmod\",\n",
              "    \"misc\": \"start_char=33|end_char=37\"\n",
              "  }, 'det', {\n",
              "    \"id\": 5,\n",
              "    \"text\": \"den\",\n",
              "    \"lemma\": \"der\",\n",
              "    \"upos\": \"DET\",\n",
              "    \"xpos\": \"ART\",\n",
              "    \"feats\": \"Case=Dat|Definite=Def|Gender=Masc|Number=Plur|PronType=Art\",\n",
              "    \"head\": 7,\n",
              "    \"deprel\": \"det\",\n",
              "    \"misc\": \"start_char=18|end_char=21\"\n",
              "  }), ({\n",
              "    \"id\": 7,\n",
              "    \"text\": \"mRNA\",\n",
              "    \"lemma\": \"mRNA\",\n",
              "    \"upos\": \"PROPN\",\n",
              "    \"xpos\": \"NN\",\n",
              "    \"feats\": \"Case=Dat|Gender=Masc|Number=Plur\",\n",
              "    \"head\": 3,\n",
              "    \"deprel\": \"nmod\",\n",
              "    \"misc\": \"start_char=33|end_char=37\"\n",
              "  }, 'amod', {\n",
              "    \"id\": 6,\n",
              "    \"text\": \"neuartigen\",\n",
              "    \"lemma\": \"neuartig\",\n",
              "    \"upos\": \"ADJ\",\n",
              "    \"xpos\": \"ADJA\",\n",
              "    \"feats\": \"Case=Dat|Gender=Masc|Number=Plur\",\n",
              "    \"head\": 7,\n",
              "    \"deprel\": \"amod\",\n",
              "    \"misc\": \"start_char=22|end_char=32\"\n",
              "  }), ({\n",
              "    \"id\": 3,\n",
              "    \"text\": \"Unterschied\",\n",
              "    \"lemma\": \"Unterschied\",\n",
              "    \"upos\": \"NOUN\",\n",
              "    \"xpos\": \"NN\",\n",
              "    \"feats\": \"Case=Dat|Gender=Masc|Number=Sing\",\n",
              "    \"head\": 26,\n",
              "    \"deprel\": \"obl\",\n",
              "    \"misc\": \"start_char=3|end_char=14\"\n",
              "  }, 'nmod', {\n",
              "    \"id\": 7,\n",
              "    \"text\": \"mRNA\",\n",
              "    \"lemma\": \"mRNA\",\n",
              "    \"upos\": \"PROPN\",\n",
              "    \"xpos\": \"NN\",\n",
              "    \"feats\": \"Case=Dat|Gender=Masc|Number=Plur\",\n",
              "    \"head\": 3,\n",
              "    \"deprel\": \"nmod\",\n",
              "    \"misc\": \"start_char=33|end_char=37\"\n",
              "  }), ({\n",
              "    \"id\": 9,\n",
              "    \"text\": \"Impfstoffen\",\n",
              "    \"lemma\": \"Impfstoff\",\n",
              "    \"upos\": \"NOUN\",\n",
              "    \"xpos\": \"NN\",\n",
              "    \"feats\": \"Case=Dat|Gender=Masc|Number=Plur\",\n",
              "    \"head\": 7,\n",
              "    \"deprel\": \"flat\",\n",
              "    \"misc\": \"start_char=38|end_char=49\"\n",
              "  }, 'punct', {\n",
              "    \"id\": 8,\n",
              "    \"text\": \"-\",\n",
              "    \"lemma\": \"-\",\n",
              "    \"upos\": \"PUNCT\",\n",
              "    \"xpos\": \"$(\",\n",
              "    \"head\": 9,\n",
              "    \"deprel\": \"punct\",\n",
              "    \"misc\": \"start_char=37|end_char=38\"\n",
              "  }), ({\n",
              "    \"id\": 7,\n",
              "    \"text\": \"mRNA\",\n",
              "    \"lemma\": \"mRNA\",\n",
              "    \"upos\": \"PROPN\",\n",
              "    \"xpos\": \"NN\",\n",
              "    \"feats\": \"Case=Dat|Gender=Masc|Number=Plur\",\n",
              "    \"head\": 3,\n",
              "    \"deprel\": \"nmod\",\n",
              "    \"misc\": \"start_char=33|end_char=37\"\n",
              "  }, 'flat', {\n",
              "    \"id\": 9,\n",
              "    \"text\": \"Impfstoffen\",\n",
              "    \"lemma\": \"Impfstoff\",\n",
              "    \"upos\": \"NOUN\",\n",
              "    \"xpos\": \"NN\",\n",
              "    \"feats\": \"Case=Dat|Gender=Masc|Number=Plur\",\n",
              "    \"head\": 7,\n",
              "    \"deprel\": \"flat\",\n",
              "    \"misc\": \"start_char=38|end_char=49\"\n",
              "  }), ({\n",
              "    \"id\": 11,\n",
              "    \"text\": \"BioNTech\",\n",
              "    \"lemma\": \"BioNTech\",\n",
              "    \"upos\": \"PROPN\",\n",
              "    \"xpos\": \"NE\",\n",
              "    \"feats\": \"Case=Dat|Gender=Neut|Number=Sing\",\n",
              "    \"head\": 7,\n",
              "    \"deprel\": \"nmod\",\n",
              "    \"misc\": \"start_char=54|end_char=62\"\n",
              "  }, 'case', {\n",
              "    \"id\": 10,\n",
              "    \"text\": \"von\",\n",
              "    \"lemma\": \"von\",\n",
              "    \"upos\": \"ADP\",\n",
              "    \"xpos\": \"APPR\",\n",
              "    \"head\": 11,\n",
              "    \"deprel\": \"case\",\n",
              "    \"misc\": \"start_char=50|end_char=53\"\n",
              "  }), ({\n",
              "    \"id\": 7,\n",
              "    \"text\": \"mRNA\",\n",
              "    \"lemma\": \"mRNA\",\n",
              "    \"upos\": \"PROPN\",\n",
              "    \"xpos\": \"NN\",\n",
              "    \"feats\": \"Case=Dat|Gender=Masc|Number=Plur\",\n",
              "    \"head\": 3,\n",
              "    \"deprel\": \"nmod\",\n",
              "    \"misc\": \"start_char=33|end_char=37\"\n",
              "  }, 'nmod', {\n",
              "    \"id\": 11,\n",
              "    \"text\": \"BioNTech\",\n",
              "    \"lemma\": \"BioNTech\",\n",
              "    \"upos\": \"PROPN\",\n",
              "    \"xpos\": \"NE\",\n",
              "    \"feats\": \"Case=Dat|Gender=Neut|Number=Sing\",\n",
              "    \"head\": 7,\n",
              "    \"deprel\": \"nmod\",\n",
              "    \"misc\": \"start_char=54|end_char=62\"\n",
              "  }), ({\n",
              "    \"id\": 13,\n",
              "    \"text\": \"Moderna\",\n",
              "    \"lemma\": \"Moderna\",\n",
              "    \"upos\": \"PROPN\",\n",
              "    \"xpos\": \"NE\",\n",
              "    \"feats\": \"Case=Dat|Gender=Neut|Number=Sing\",\n",
              "    \"head\": 11,\n",
              "    \"deprel\": \"conj\",\n",
              "    \"misc\": \"start_char=67|end_char=74\"\n",
              "  }, 'cc', {\n",
              "    \"id\": 12,\n",
              "    \"text\": \"und\",\n",
              "    \"lemma\": \"und\",\n",
              "    \"upos\": \"CCONJ\",\n",
              "    \"xpos\": \"KON\",\n",
              "    \"head\": 13,\n",
              "    \"deprel\": \"cc\",\n",
              "    \"misc\": \"start_char=63|end_char=66\"\n",
              "  }), ({\n",
              "    \"id\": 11,\n",
              "    \"text\": \"BioNTech\",\n",
              "    \"lemma\": \"BioNTech\",\n",
              "    \"upos\": \"PROPN\",\n",
              "    \"xpos\": \"NE\",\n",
              "    \"feats\": \"Case=Dat|Gender=Neut|Number=Sing\",\n",
              "    \"head\": 7,\n",
              "    \"deprel\": \"nmod\",\n",
              "    \"misc\": \"start_char=54|end_char=62\"\n",
              "  }, 'conj', {\n",
              "    \"id\": 13,\n",
              "    \"text\": \"Moderna\",\n",
              "    \"lemma\": \"Moderna\",\n",
              "    \"upos\": \"PROPN\",\n",
              "    \"xpos\": \"NE\",\n",
              "    \"feats\": \"Case=Dat|Gender=Neut|Number=Sing\",\n",
              "    \"head\": 11,\n",
              "    \"deprel\": \"conj\",\n",
              "    \"misc\": \"start_char=67|end_char=74\"\n",
              "  }), ({\n",
              "    \"id\": 26,\n",
              "    \"text\": \"verwendet\",\n",
              "    \"lemma\": \"verwenden\",\n",
              "    \"upos\": \"VERB\",\n",
              "    \"xpos\": \"VVPP\",\n",
              "    \"feats\": \"VerbForm=Part\",\n",
              "    \"head\": 0,\n",
              "    \"deprel\": \"root\",\n",
              "    \"misc\": \"start_char=157|end_char=166\"\n",
              "  }, 'aux:pass', {\n",
              "    \"id\": 14,\n",
              "    \"text\": \"wird\",\n",
              "    \"lemma\": \"werden\",\n",
              "    \"upos\": \"AUX\",\n",
              "    \"xpos\": \"VAFIN\",\n",
              "    \"feats\": \"Mood=Ind|Number=Sing|Person=3|Tense=Pres|VerbForm=Fin|Voice=Pass\",\n",
              "    \"head\": 26,\n",
              "    \"deprel\": \"aux:pass\",\n",
              "    \"misc\": \"start_char=75|end_char=79\"\n",
              "  }), ({\n",
              "    \"id\": 17,\n",
              "    \"text\": \"Präparat\",\n",
              "    \"lemma\": \"Präparat\",\n",
              "    \"upos\": \"NOUN\",\n",
              "    \"xpos\": \"NN\",\n",
              "    \"feats\": \"Case=Acc|Gender=Neut|Number=Sing\",\n",
              "    \"head\": 26,\n",
              "    \"deprel\": \"obl\",\n",
              "    \"misc\": \"start_char=88|end_char=96\"\n",
              "  }, 'case', {\n",
              "    \"id\": 15,\n",
              "    \"text\": \"für\",\n",
              "    \"lemma\": \"für\",\n",
              "    \"upos\": \"ADP\",\n",
              "    \"xpos\": \"APPR\",\n",
              "    \"head\": 17,\n",
              "    \"deprel\": \"case\",\n",
              "    \"misc\": \"start_char=80|end_char=83\"\n",
              "  }), ({\n",
              "    \"id\": 17,\n",
              "    \"text\": \"Präparat\",\n",
              "    \"lemma\": \"Präparat\",\n",
              "    \"upos\": \"NOUN\",\n",
              "    \"xpos\": \"NN\",\n",
              "    \"feats\": \"Case=Acc|Gender=Neut|Number=Sing\",\n",
              "    \"head\": 26,\n",
              "    \"deprel\": \"obl\",\n",
              "    \"misc\": \"start_char=88|end_char=96\"\n",
              "  }, 'det', {\n",
              "    \"id\": 16,\n",
              "    \"text\": \"das\",\n",
              "    \"lemma\": \"der\",\n",
              "    \"upos\": \"DET\",\n",
              "    \"xpos\": \"ART\",\n",
              "    \"feats\": \"Case=Acc|Definite=Def|Gender=Neut|Number=Sing|PronType=Art\",\n",
              "    \"head\": 17,\n",
              "    \"deprel\": \"det\",\n",
              "    \"misc\": \"start_char=84|end_char=87\"\n",
              "  }), ({\n",
              "    \"id\": 26,\n",
              "    \"text\": \"verwendet\",\n",
              "    \"lemma\": \"verwenden\",\n",
              "    \"upos\": \"VERB\",\n",
              "    \"xpos\": \"VVPP\",\n",
              "    \"feats\": \"VerbForm=Part\",\n",
              "    \"head\": 0,\n",
              "    \"deprel\": \"root\",\n",
              "    \"misc\": \"start_char=157|end_char=166\"\n",
              "  }, 'obl', {\n",
              "    \"id\": 17,\n",
              "    \"text\": \"Präparat\",\n",
              "    \"lemma\": \"Präparat\",\n",
              "    \"upos\": \"NOUN\",\n",
              "    \"xpos\": \"NN\",\n",
              "    \"feats\": \"Case=Acc|Gender=Neut|Number=Sing\",\n",
              "    \"head\": 26,\n",
              "    \"deprel\": \"obl\",\n",
              "    \"misc\": \"start_char=88|end_char=96\"\n",
              "  }), ({\n",
              "    \"id\": 19,\n",
              "    \"text\": \"Valneva\",\n",
              "    \"lemma\": \"Valneva\",\n",
              "    \"upos\": \"PROPN\",\n",
              "    \"xpos\": \"NE\",\n",
              "    \"feats\": \"Case=Dat|Gender=Masc|Number=Sing\",\n",
              "    \"head\": 17,\n",
              "    \"deprel\": \"nmod\",\n",
              "    \"misc\": \"start_char=101|end_char=108\"\n",
              "  }, 'case', {\n",
              "    \"id\": 18,\n",
              "    \"text\": \"von\",\n",
              "    \"lemma\": \"von\",\n",
              "    \"upos\": \"ADP\",\n",
              "    \"xpos\": \"APPR\",\n",
              "    \"head\": 19,\n",
              "    \"deprel\": \"case\",\n",
              "    \"misc\": \"start_char=97|end_char=100\"\n",
              "  }), ({\n",
              "    \"id\": 17,\n",
              "    \"text\": \"Präparat\",\n",
              "    \"lemma\": \"Präparat\",\n",
              "    \"upos\": \"NOUN\",\n",
              "    \"xpos\": \"NN\",\n",
              "    \"feats\": \"Case=Acc|Gender=Neut|Number=Sing\",\n",
              "    \"head\": 26,\n",
              "    \"deprel\": \"obl\",\n",
              "    \"misc\": \"start_char=88|end_char=96\"\n",
              "  }, 'nmod', {\n",
              "    \"id\": 19,\n",
              "    \"text\": \"Valneva\",\n",
              "    \"lemma\": \"Valneva\",\n",
              "    \"upos\": \"PROPN\",\n",
              "    \"xpos\": \"NE\",\n",
              "    \"feats\": \"Case=Dat|Gender=Masc|Number=Sing\",\n",
              "    \"head\": 17,\n",
              "    \"deprel\": \"nmod\",\n",
              "    \"misc\": \"start_char=101|end_char=108\"\n",
              "  }), ({\n",
              "    \"id\": 22,\n",
              "    \"text\": \"Technologie\",\n",
              "    \"lemma\": \"Technologie\",\n",
              "    \"upos\": \"NOUN\",\n",
              "    \"xpos\": \"NN\",\n",
              "    \"feats\": \"Case=Acc|Gender=Fem|Number=Sing\",\n",
              "    \"head\": 26,\n",
              "    \"deprel\": \"nsubj:pass\",\n",
              "    \"misc\": \"start_char=125|end_char=136\"\n",
              "  }, 'det', {\n",
              "    \"id\": 20,\n",
              "    \"text\": \"eine\",\n",
              "    \"lemma\": \"ein\",\n",
              "    \"upos\": \"DET\",\n",
              "    \"xpos\": \"ART\",\n",
              "    \"feats\": \"Case=Acc|Definite=Ind|Gender=Fem|Number=Sing|PronType=Art\",\n",
              "    \"head\": 22,\n",
              "    \"deprel\": \"det\",\n",
              "    \"misc\": \"start_char=109|end_char=113\"\n",
              "  }), ({\n",
              "    \"id\": 22,\n",
              "    \"text\": \"Technologie\",\n",
              "    \"lemma\": \"Technologie\",\n",
              "    \"upos\": \"NOUN\",\n",
              "    \"xpos\": \"NN\",\n",
              "    \"feats\": \"Case=Acc|Gender=Fem|Number=Sing\",\n",
              "    \"head\": 26,\n",
              "    \"deprel\": \"nsubj:pass\",\n",
              "    \"misc\": \"start_char=125|end_char=136\"\n",
              "  }, 'amod', {\n",
              "    \"id\": 21,\n",
              "    \"text\": \"klassische\",\n",
              "    \"lemma\": \"klassisch\",\n",
              "    \"upos\": \"ADJ\",\n",
              "    \"xpos\": \"ADJA\",\n",
              "    \"feats\": \"Case=Acc|Gender=Fem|Number=Sing\",\n",
              "    \"head\": 22,\n",
              "    \"deprel\": \"amod\",\n",
              "    \"misc\": \"start_char=114|end_char=124\"\n",
              "  }), ({\n",
              "    \"id\": 26,\n",
              "    \"text\": \"verwendet\",\n",
              "    \"lemma\": \"verwenden\",\n",
              "    \"upos\": \"VERB\",\n",
              "    \"xpos\": \"VVPP\",\n",
              "    \"feats\": \"VerbForm=Part\",\n",
              "    \"head\": 0,\n",
              "    \"deprel\": \"root\",\n",
              "    \"misc\": \"start_char=157|end_char=166\"\n",
              "  }, 'nsubj:pass', {\n",
              "    \"id\": 22,\n",
              "    \"text\": \"Technologie\",\n",
              "    \"lemma\": \"Technologie\",\n",
              "    \"upos\": \"NOUN\",\n",
              "    \"xpos\": \"NN\",\n",
              "    \"feats\": \"Case=Acc|Gender=Fem|Number=Sing\",\n",
              "    \"head\": 26,\n",
              "    \"deprel\": \"nsubj:pass\",\n",
              "    \"misc\": \"start_char=125|end_char=136\"\n",
              "  }), ({\n",
              "    \"id\": 25,\n",
              "    \"text\": \"Viren\",\n",
              "    \"lemma\": \"Virus\",\n",
              "    \"upos\": \"NOUN\",\n",
              "    \"xpos\": \"NN\",\n",
              "    \"feats\": \"Case=Dat|Gender=Masc|Number=Plur\",\n",
              "    \"head\": 22,\n",
              "    \"deprel\": \"nmod\",\n",
              "    \"misc\": \"start_char=151|end_char=156\"\n",
              "  }, 'case', {\n",
              "    \"id\": 23,\n",
              "    \"text\": \"mit\",\n",
              "    \"lemma\": \"mit\",\n",
              "    \"upos\": \"ADP\",\n",
              "    \"xpos\": \"APPR\",\n",
              "    \"head\": 25,\n",
              "    \"deprel\": \"case\",\n",
              "    \"misc\": \"start_char=137|end_char=140\"\n",
              "  }), ({\n",
              "    \"id\": 25,\n",
              "    \"text\": \"Viren\",\n",
              "    \"lemma\": \"Virus\",\n",
              "    \"upos\": \"NOUN\",\n",
              "    \"xpos\": \"NN\",\n",
              "    \"feats\": \"Case=Dat|Gender=Masc|Number=Plur\",\n",
              "    \"head\": 22,\n",
              "    \"deprel\": \"nmod\",\n",
              "    \"misc\": \"start_char=151|end_char=156\"\n",
              "  }, 'amod', {\n",
              "    \"id\": 24,\n",
              "    \"text\": \"inaktiven\",\n",
              "    \"lemma\": \"inaktiv\",\n",
              "    \"upos\": \"ADJ\",\n",
              "    \"xpos\": \"ADJA\",\n",
              "    \"feats\": \"Case=Dat|Gender=Fem|Number=Plur\",\n",
              "    \"head\": 25,\n",
              "    \"deprel\": \"amod\",\n",
              "    \"misc\": \"start_char=141|end_char=150\"\n",
              "  }), ({\n",
              "    \"id\": 22,\n",
              "    \"text\": \"Technologie\",\n",
              "    \"lemma\": \"Technologie\",\n",
              "    \"upos\": \"NOUN\",\n",
              "    \"xpos\": \"NN\",\n",
              "    \"feats\": \"Case=Acc|Gender=Fem|Number=Sing\",\n",
              "    \"head\": 26,\n",
              "    \"deprel\": \"nsubj:pass\",\n",
              "    \"misc\": \"start_char=125|end_char=136\"\n",
              "  }, 'nmod', {\n",
              "    \"id\": 25,\n",
              "    \"text\": \"Viren\",\n",
              "    \"lemma\": \"Virus\",\n",
              "    \"upos\": \"NOUN\",\n",
              "    \"xpos\": \"NN\",\n",
              "    \"feats\": \"Case=Dat|Gender=Masc|Number=Plur\",\n",
              "    \"head\": 22,\n",
              "    \"deprel\": \"nmod\",\n",
              "    \"misc\": \"start_char=151|end_char=156\"\n",
              "  }), ({\n",
              "    \"id\": 0,\n",
              "    \"text\": \"ROOT\"\n",
              "  }, 'root', {\n",
              "    \"id\": 26,\n",
              "    \"text\": \"verwendet\",\n",
              "    \"lemma\": \"verwenden\",\n",
              "    \"upos\": \"VERB\",\n",
              "    \"xpos\": \"VVPP\",\n",
              "    \"feats\": \"VerbForm=Part\",\n",
              "    \"head\": 0,\n",
              "    \"deprel\": \"root\",\n",
              "    \"misc\": \"start_char=157|end_char=166\"\n",
              "  }), ({\n",
              "    \"id\": 39,\n",
              "    \"text\": \"kommt\",\n",
              "    \"lemma\": \"kommen\",\n",
              "    \"upos\": \"VERB\",\n",
              "    \"xpos\": \"VVFIN\",\n",
              "    \"feats\": \"Mood=Ind|Number=Sing|Person=3|Tense=Pres|VerbForm=Fin\",\n",
              "    \"head\": 26,\n",
              "    \"deprel\": \"advcl\",\n",
              "    \"misc\": \"start_char=225|end_char=230\"\n",
              "  }, 'punct', {\n",
              "    \"id\": 27,\n",
              "    \"text\": \",\",\n",
              "    \"lemma\": \",\",\n",
              "    \"upos\": \"PUNCT\",\n",
              "    \"xpos\": \"$,\",\n",
              "    \"head\": 39,\n",
              "    \"deprel\": \"punct\",\n",
              "    \"misc\": \"start_char=166|end_char=167\"\n",
              "  }), ({\n",
              "    \"id\": 39,\n",
              "    \"text\": \"kommt\",\n",
              "    \"lemma\": \"kommen\",\n",
              "    \"upos\": \"VERB\",\n",
              "    \"xpos\": \"VVFIN\",\n",
              "    \"feats\": \"Mood=Ind|Number=Sing|Person=3|Tense=Pres|VerbForm=Fin\",\n",
              "    \"head\": 26,\n",
              "    \"deprel\": \"advcl\",\n",
              "    \"misc\": \"start_char=225|end_char=230\"\n",
              "  }, 'mark', {\n",
              "    \"id\": 28,\n",
              "    \"text\": \"wie\",\n",
              "    \"lemma\": \"wie\",\n",
              "    \"upos\": \"SCONJ\",\n",
              "    \"xpos\": \"KOUS\",\n",
              "    \"head\": 39,\n",
              "    \"deprel\": \"mark\",\n",
              "    \"misc\": \"start_char=168|end_char=171\"\n",
              "  }), ({\n",
              "    \"id\": 39,\n",
              "    \"text\": \"kommt\",\n",
              "    \"lemma\": \"kommen\",\n",
              "    \"upos\": \"VERB\",\n",
              "    \"xpos\": \"VVFIN\",\n",
              "    \"feats\": \"Mood=Ind|Number=Sing|Person=3|Tense=Pres|VerbForm=Fin\",\n",
              "    \"head\": 26,\n",
              "    \"deprel\": \"advcl\",\n",
              "    \"misc\": \"start_char=225|end_char=230\"\n",
              "  }, 'nsubj', {\n",
              "    \"id\": 29,\n",
              "    \"text\": \"sie\",\n",
              "    \"lemma\": \"sie\",\n",
              "    \"upos\": \"PRON\",\n",
              "    \"xpos\": \"PPER\",\n",
              "    \"feats\": \"Case=Nom|Number=Plur|Person=3|PronType=Prs\",\n",
              "    \"head\": 39,\n",
              "    \"deprel\": \"nsubj\",\n",
              "    \"misc\": \"start_char=172|end_char=175\"\n",
              "  }), ({\n",
              "    \"id\": 35,\n",
              "    \"text\": \"Präparaten\",\n",
              "    \"lemma\": \"Präparat\",\n",
              "    \"upos\": \"NOUN\",\n",
              "    \"xpos\": \"NN\",\n",
              "    \"feats\": \"Case=Dat|Gender=Fem|Number=Plur\",\n",
              "    \"head\": 39,\n",
              "    \"deprel\": \"obl\",\n",
              "    \"misc\": \"start_char=202|end_char=212\"\n",
              "  }, 'case', {\n",
              "    \"id\": 30,\n",
              "    \"text\": \"bei\",\n",
              "    \"lemma\": \"bei\",\n",
              "    \"upos\": \"ADP\",\n",
              "    \"xpos\": \"APPR\",\n",
              "    \"head\": 35,\n",
              "    \"deprel\": \"case\",\n",
              "    \"misc\": \"start_char=176|end_char=179\"\n",
              "  }), ({\n",
              "    \"id\": 35,\n",
              "    \"text\": \"Präparaten\",\n",
              "    \"lemma\": \"Präparat\",\n",
              "    \"upos\": \"NOUN\",\n",
              "    \"xpos\": \"NN\",\n",
              "    \"feats\": \"Case=Dat|Gender=Fem|Number=Plur\",\n",
              "    \"head\": 39,\n",
              "    \"deprel\": \"obl\",\n",
              "    \"misc\": \"start_char=202|end_char=212\"\n",
              "  }, 'det', {\n",
              "    \"id\": 31,\n",
              "    \"text\": \"den\",\n",
              "    \"lemma\": \"der\",\n",
              "    \"upos\": \"DET\",\n",
              "    \"xpos\": \"ART\",\n",
              "    \"feats\": \"Case=Dat|Definite=Def|Number=Plur|PronType=Art\",\n",
              "    \"head\": 35,\n",
              "    \"deprel\": \"det\",\n",
              "    \"misc\": \"start_char=180|end_char=183\"\n",
              "  }), ({\n",
              "    \"id\": 35,\n",
              "    \"text\": \"Präparaten\",\n",
              "    \"lemma\": \"Präparat\",\n",
              "    \"upos\": \"NOUN\",\n",
              "    \"xpos\": \"NN\",\n",
              "    \"feats\": \"Case=Dat|Gender=Fem|Number=Plur\",\n",
              "    \"head\": 39,\n",
              "    \"deprel\": \"obl\",\n",
              "    \"misc\": \"start_char=202|end_char=212\"\n",
              "  }, 'amod', {\n",
              "    \"id\": 32,\n",
              "    \"text\": \"meisten\",\n",
              "    \"lemma\": \"meist\",\n",
              "    \"upos\": \"DET\",\n",
              "    \"xpos\": \"PIAT\",\n",
              "    \"feats\": \"Case=Dat|Definite=Ind|Gender=Masc|Number=Plur|PronType=Ind\",\n",
              "    \"head\": 35,\n",
              "    \"deprel\": \"amod\",\n",
              "    \"misc\": \"start_char=184|end_char=191\"\n",
              "  }), ({\n",
              "    \"id\": 35,\n",
              "    \"text\": \"Präparaten\",\n",
              "    \"lemma\": \"Präparat\",\n",
              "    \"upos\": \"NOUN\",\n",
              "    \"xpos\": \"NN\",\n",
              "    \"feats\": \"Case=Dat|Gender=Fem|Number=Plur\",\n",
              "    \"head\": 39,\n",
              "    \"deprel\": \"obl\",\n",
              "    \"misc\": \"start_char=202|end_char=212\"\n",
              "  }, 'compound', {\n",
              "    \"id\": 33,\n",
              "    \"text\": \"Influenza\",\n",
              "    \"lemma\": \"Influenza\",\n",
              "    \"upos\": \"NOUN\",\n",
              "    \"xpos\": \"NN\",\n",
              "    \"feats\": \"Case=Dat|Gender=Masc|Number=Plur\",\n",
              "    \"head\": 35,\n",
              "    \"deprel\": \"compound\",\n",
              "    \"misc\": \"start_char=192|end_char=201\"\n",
              "  }), ({\n",
              "    \"id\": 33,\n",
              "    \"text\": \"Influenza\",\n",
              "    \"lemma\": \"Influenza\",\n",
              "    \"upos\": \"NOUN\",\n",
              "    \"xpos\": \"NN\",\n",
              "    \"feats\": \"Case=Dat|Gender=Masc|Number=Plur\",\n",
              "    \"head\": 35,\n",
              "    \"deprel\": \"compound\",\n",
              "    \"misc\": \"start_char=192|end_char=201\"\n",
              "  }, 'punct', {\n",
              "    \"id\": 34,\n",
              "    \"text\": \"-\",\n",
              "    \"lemma\": \"-\",\n",
              "    \"upos\": \"PUNCT\",\n",
              "    \"xpos\": \"$(\",\n",
              "    \"head\": 33,\n",
              "    \"deprel\": \"punct\",\n",
              "    \"misc\": \"start_char=201|end_char=202\"\n",
              "  }), ({\n",
              "    \"id\": 39,\n",
              "    \"text\": \"kommt\",\n",
              "    \"lemma\": \"kommen\",\n",
              "    \"upos\": \"VERB\",\n",
              "    \"xpos\": \"VVFIN\",\n",
              "    \"feats\": \"Mood=Ind|Number=Sing|Person=3|Tense=Pres|VerbForm=Fin\",\n",
              "    \"head\": 26,\n",
              "    \"deprel\": \"advcl\",\n",
              "    \"misc\": \"start_char=225|end_char=230\"\n",
              "  }, 'obl', {\n",
              "    \"id\": 35,\n",
              "    \"text\": \"Präparaten\",\n",
              "    \"lemma\": \"Präparat\",\n",
              "    \"upos\": \"NOUN\",\n",
              "    \"xpos\": \"NN\",\n",
              "    \"feats\": \"Case=Dat|Gender=Fem|Number=Plur\",\n",
              "    \"head\": 39,\n",
              "    \"deprel\": \"obl\",\n",
              "    \"misc\": \"start_char=202|end_char=212\"\n",
              "  }), ({\n",
              "    \"id\": 38,\n",
              "    \"text\": \"Einsatz\",\n",
              "    \"lemma\": \"Einsatz\",\n",
              "    \"upos\": \"NOUN\",\n",
              "    \"xpos\": \"NN\",\n",
              "    \"feats\": \"Case=Dat|Gender=Masc|Number=Sing\",\n",
              "    \"head\": 39,\n",
              "    \"deprel\": \"obl\",\n",
              "    \"misc\": \"start_char=217|end_char=224\"\n",
              "  }, 'case', {\n",
              "    \"id\": 36,\n",
              "    \"text\": \"zu\",\n",
              "    \"lemma\": \"zu\",\n",
              "    \"upos\": \"ADP\",\n",
              "    \"xpos\": \"APPR\",\n",
              "    \"head\": 38,\n",
              "    \"deprel\": \"case\"\n",
              "  }), ({\n",
              "    \"id\": 38,\n",
              "    \"text\": \"Einsatz\",\n",
              "    \"lemma\": \"Einsatz\",\n",
              "    \"upos\": \"NOUN\",\n",
              "    \"xpos\": \"NN\",\n",
              "    \"feats\": \"Case=Dat|Gender=Masc|Number=Sing\",\n",
              "    \"head\": 39,\n",
              "    \"deprel\": \"obl\",\n",
              "    \"misc\": \"start_char=217|end_char=224\"\n",
              "  }, 'det', {\n",
              "    \"id\": 37,\n",
              "    \"text\": \"dem\",\n",
              "    \"lemma\": \"der\",\n",
              "    \"upos\": \"DET\",\n",
              "    \"xpos\": \"ART\",\n",
              "    \"feats\": \"Case=Dat|Definite=Def|Gender=Masc|Number=Sing|PronType=Art\",\n",
              "    \"head\": 38,\n",
              "    \"deprel\": \"det\"\n",
              "  }), ({\n",
              "    \"id\": 39,\n",
              "    \"text\": \"kommt\",\n",
              "    \"lemma\": \"kommen\",\n",
              "    \"upos\": \"VERB\",\n",
              "    \"xpos\": \"VVFIN\",\n",
              "    \"feats\": \"Mood=Ind|Number=Sing|Person=3|Tense=Pres|VerbForm=Fin\",\n",
              "    \"head\": 26,\n",
              "    \"deprel\": \"advcl\",\n",
              "    \"misc\": \"start_char=225|end_char=230\"\n",
              "  }, 'obl', {\n",
              "    \"id\": 38,\n",
              "    \"text\": \"Einsatz\",\n",
              "    \"lemma\": \"Einsatz\",\n",
              "    \"upos\": \"NOUN\",\n",
              "    \"xpos\": \"NN\",\n",
              "    \"feats\": \"Case=Dat|Gender=Masc|Number=Sing\",\n",
              "    \"head\": 39,\n",
              "    \"deprel\": \"obl\",\n",
              "    \"misc\": \"start_char=217|end_char=224\"\n",
              "  }), ({\n",
              "    \"id\": 26,\n",
              "    \"text\": \"verwendet\",\n",
              "    \"lemma\": \"verwenden\",\n",
              "    \"upos\": \"VERB\",\n",
              "    \"xpos\": \"VVPP\",\n",
              "    \"feats\": \"VerbForm=Part\",\n",
              "    \"head\": 0,\n",
              "    \"deprel\": \"root\",\n",
              "    \"misc\": \"start_char=157|end_char=166\"\n",
              "  }, 'advcl', {\n",
              "    \"id\": 39,\n",
              "    \"text\": \"kommt\",\n",
              "    \"lemma\": \"kommen\",\n",
              "    \"upos\": \"VERB\",\n",
              "    \"xpos\": \"VVFIN\",\n",
              "    \"feats\": \"Mood=Ind|Number=Sing|Person=3|Tense=Pres|VerbForm=Fin\",\n",
              "    \"head\": 26,\n",
              "    \"deprel\": \"advcl\",\n",
              "    \"misc\": \"start_char=225|end_char=230\"\n",
              "  }), ({\n",
              "    \"id\": 26,\n",
              "    \"text\": \"verwendet\",\n",
              "    \"lemma\": \"verwenden\",\n",
              "    \"upos\": \"VERB\",\n",
              "    \"xpos\": \"VVPP\",\n",
              "    \"feats\": \"VerbForm=Part\",\n",
              "    \"head\": 0,\n",
              "    \"deprel\": \"root\",\n",
              "    \"misc\": \"start_char=157|end_char=166\"\n",
              "  }, 'punct', {\n",
              "    \"id\": 40,\n",
              "    \"text\": \".\",\n",
              "    \"lemma\": \".\",\n",
              "    \"upos\": \"PUNCT\",\n",
              "    \"xpos\": \"$.\",\n",
              "    \"head\": 26,\n",
              "    \"deprel\": \"punct\",\n",
              "    \"misc\": \"start_char=230|end_char=231\"\n",
              "  })]"
            ]
          },
          "metadata": {
            "tags": []
          },
          "execution_count": 12
        }
      ]
    },
    {
      "cell_type": "code",
      "metadata": {
        "colab": {
          "base_uri": "https://localhost:8080/"
        },
        "id": "H89w4j6COHIg",
        "outputId": "0786c1f9-28a0-4084-bd05-8f1451db9015"
      },
      "source": [
        "sent.dependencies[0] #Word, str(relation), Word "
      ],
      "execution_count": 13,
      "outputs": [
        {
          "output_type": "execute_result",
          "data": {
            "text/plain": [
              "({\n",
              "   \"id\": 3,\n",
              "   \"text\": \"Unterschied\",\n",
              "   \"lemma\": \"Unterschied\",\n",
              "   \"upos\": \"NOUN\",\n",
              "   \"xpos\": \"NN\",\n",
              "   \"feats\": \"Case=Dat|Gender=Masc|Number=Sing\",\n",
              "   \"head\": 26,\n",
              "   \"deprel\": \"obl\",\n",
              "   \"misc\": \"start_char=3|end_char=14\"\n",
              " }, 'case', {\n",
              "   \"id\": 1,\n",
              "   \"text\": \"In\",\n",
              "   \"lemma\": \"in\",\n",
              "   \"upos\": \"ADP\",\n",
              "   \"xpos\": \"APPR\",\n",
              "   \"head\": 3,\n",
              "   \"deprel\": \"case\"\n",
              " })"
            ]
          },
          "metadata": {
            "tags": []
          },
          "execution_count": 13
        }
      ]
    },
    {
      "cell_type": "code",
      "metadata": {
        "colab": {
          "base_uri": "https://localhost:8080/"
        },
        "id": "cYvSeh0uOSml",
        "outputId": "c912d44e-fa15-4fc8-a996-f89c83ecc355"
      },
      "source": [
        "sent.tokens"
      ],
      "execution_count": 14,
      "outputs": [
        {
          "output_type": "execute_result",
          "data": {
            "text/plain": [
              "[[\n",
              "   {\n",
              "     \"id\": [\n",
              "       1,\n",
              "       2\n",
              "     ],\n",
              "     \"text\": \"Im\",\n",
              "     \"ner\": \"O\",\n",
              "     \"misc\": \"start_char=0|end_char=2\"\n",
              "   },\n",
              "   {\n",
              "     \"id\": 1,\n",
              "     \"text\": \"In\",\n",
              "     \"lemma\": \"in\",\n",
              "     \"upos\": \"ADP\",\n",
              "     \"xpos\": \"APPR\",\n",
              "     \"head\": 3,\n",
              "     \"deprel\": \"case\"\n",
              "   },\n",
              "   {\n",
              "     \"id\": 2,\n",
              "     \"text\": \"dem\",\n",
              "     \"lemma\": \"der\",\n",
              "     \"upos\": \"DET\",\n",
              "     \"xpos\": \"ART\",\n",
              "     \"feats\": \"Case=Dat|Definite=Def|Gender=Masc|Number=Sing|PronType=Art\",\n",
              "     \"head\": 3,\n",
              "     \"deprel\": \"det\"\n",
              "   }\n",
              " ], [\n",
              "   {\n",
              "     \"id\": 3,\n",
              "     \"text\": \"Unterschied\",\n",
              "     \"lemma\": \"Unterschied\",\n",
              "     \"upos\": \"NOUN\",\n",
              "     \"xpos\": \"NN\",\n",
              "     \"feats\": \"Case=Dat|Gender=Masc|Number=Sing\",\n",
              "     \"head\": 26,\n",
              "     \"deprel\": \"obl\",\n",
              "     \"misc\": \"start_char=3|end_char=14\",\n",
              "     \"ner\": \"O\"\n",
              "   }\n",
              " ], [\n",
              "   {\n",
              "     \"id\": 4,\n",
              "     \"text\": \"zu\",\n",
              "     \"lemma\": \"zu\",\n",
              "     \"upos\": \"ADP\",\n",
              "     \"xpos\": \"APPR\",\n",
              "     \"head\": 7,\n",
              "     \"deprel\": \"case\",\n",
              "     \"misc\": \"start_char=15|end_char=17\",\n",
              "     \"ner\": \"O\"\n",
              "   }\n",
              " ], [\n",
              "   {\n",
              "     \"id\": 5,\n",
              "     \"text\": \"den\",\n",
              "     \"lemma\": \"der\",\n",
              "     \"upos\": \"DET\",\n",
              "     \"xpos\": \"ART\",\n",
              "     \"feats\": \"Case=Dat|Definite=Def|Gender=Masc|Number=Plur|PronType=Art\",\n",
              "     \"head\": 7,\n",
              "     \"deprel\": \"det\",\n",
              "     \"misc\": \"start_char=18|end_char=21\",\n",
              "     \"ner\": \"O\"\n",
              "   }\n",
              " ], [\n",
              "   {\n",
              "     \"id\": 6,\n",
              "     \"text\": \"neuartigen\",\n",
              "     \"lemma\": \"neuartig\",\n",
              "     \"upos\": \"ADJ\",\n",
              "     \"xpos\": \"ADJA\",\n",
              "     \"feats\": \"Case=Dat|Gender=Masc|Number=Plur\",\n",
              "     \"head\": 7,\n",
              "     \"deprel\": \"amod\",\n",
              "     \"misc\": \"start_char=22|end_char=32\",\n",
              "     \"ner\": \"O\"\n",
              "   }\n",
              " ], [\n",
              "   {\n",
              "     \"id\": 7,\n",
              "     \"text\": \"mRNA\",\n",
              "     \"lemma\": \"mRNA\",\n",
              "     \"upos\": \"PROPN\",\n",
              "     \"xpos\": \"NN\",\n",
              "     \"feats\": \"Case=Dat|Gender=Masc|Number=Plur\",\n",
              "     \"head\": 3,\n",
              "     \"deprel\": \"nmod\",\n",
              "     \"misc\": \"start_char=33|end_char=37\",\n",
              "     \"ner\": \"O\"\n",
              "   }\n",
              " ], [\n",
              "   {\n",
              "     \"id\": 8,\n",
              "     \"text\": \"-\",\n",
              "     \"lemma\": \"-\",\n",
              "     \"upos\": \"PUNCT\",\n",
              "     \"xpos\": \"$(\",\n",
              "     \"head\": 9,\n",
              "     \"deprel\": \"punct\",\n",
              "     \"misc\": \"start_char=37|end_char=38\",\n",
              "     \"ner\": \"O\"\n",
              "   }\n",
              " ], [\n",
              "   {\n",
              "     \"id\": 9,\n",
              "     \"text\": \"Impfstoffen\",\n",
              "     \"lemma\": \"Impfstoff\",\n",
              "     \"upos\": \"NOUN\",\n",
              "     \"xpos\": \"NN\",\n",
              "     \"feats\": \"Case=Dat|Gender=Masc|Number=Plur\",\n",
              "     \"head\": 7,\n",
              "     \"deprel\": \"flat\",\n",
              "     \"misc\": \"start_char=38|end_char=49\",\n",
              "     \"ner\": \"O\"\n",
              "   }\n",
              " ], [\n",
              "   {\n",
              "     \"id\": 10,\n",
              "     \"text\": \"von\",\n",
              "     \"lemma\": \"von\",\n",
              "     \"upos\": \"ADP\",\n",
              "     \"xpos\": \"APPR\",\n",
              "     \"head\": 11,\n",
              "     \"deprel\": \"case\",\n",
              "     \"misc\": \"start_char=50|end_char=53\",\n",
              "     \"ner\": \"O\"\n",
              "   }\n",
              " ], [\n",
              "   {\n",
              "     \"id\": 11,\n",
              "     \"text\": \"BioNTech\",\n",
              "     \"lemma\": \"BioNTech\",\n",
              "     \"upos\": \"PROPN\",\n",
              "     \"xpos\": \"NE\",\n",
              "     \"feats\": \"Case=Dat|Gender=Neut|Number=Sing\",\n",
              "     \"head\": 7,\n",
              "     \"deprel\": \"nmod\",\n",
              "     \"misc\": \"start_char=54|end_char=62\",\n",
              "     \"ner\": \"O\"\n",
              "   }\n",
              " ], [\n",
              "   {\n",
              "     \"id\": 12,\n",
              "     \"text\": \"und\",\n",
              "     \"lemma\": \"und\",\n",
              "     \"upos\": \"CCONJ\",\n",
              "     \"xpos\": \"KON\",\n",
              "     \"head\": 13,\n",
              "     \"deprel\": \"cc\",\n",
              "     \"misc\": \"start_char=63|end_char=66\",\n",
              "     \"ner\": \"O\"\n",
              "   }\n",
              " ], [\n",
              "   {\n",
              "     \"id\": 13,\n",
              "     \"text\": \"Moderna\",\n",
              "     \"lemma\": \"Moderna\",\n",
              "     \"upos\": \"PROPN\",\n",
              "     \"xpos\": \"NE\",\n",
              "     \"feats\": \"Case=Dat|Gender=Neut|Number=Sing\",\n",
              "     \"head\": 11,\n",
              "     \"deprel\": \"conj\",\n",
              "     \"misc\": \"start_char=67|end_char=74\",\n",
              "     \"ner\": \"S-MISC\"\n",
              "   }\n",
              " ], [\n",
              "   {\n",
              "     \"id\": 14,\n",
              "     \"text\": \"wird\",\n",
              "     \"lemma\": \"werden\",\n",
              "     \"upos\": \"AUX\",\n",
              "     \"xpos\": \"VAFIN\",\n",
              "     \"feats\": \"Mood=Ind|Number=Sing|Person=3|Tense=Pres|VerbForm=Fin|Voice=Pass\",\n",
              "     \"head\": 26,\n",
              "     \"deprel\": \"aux:pass\",\n",
              "     \"misc\": \"start_char=75|end_char=79\",\n",
              "     \"ner\": \"O\"\n",
              "   }\n",
              " ], [\n",
              "   {\n",
              "     \"id\": 15,\n",
              "     \"text\": \"für\",\n",
              "     \"lemma\": \"für\",\n",
              "     \"upos\": \"ADP\",\n",
              "     \"xpos\": \"APPR\",\n",
              "     \"head\": 17,\n",
              "     \"deprel\": \"case\",\n",
              "     \"misc\": \"start_char=80|end_char=83\",\n",
              "     \"ner\": \"O\"\n",
              "   }\n",
              " ], [\n",
              "   {\n",
              "     \"id\": 16,\n",
              "     \"text\": \"das\",\n",
              "     \"lemma\": \"der\",\n",
              "     \"upos\": \"DET\",\n",
              "     \"xpos\": \"ART\",\n",
              "     \"feats\": \"Case=Acc|Definite=Def|Gender=Neut|Number=Sing|PronType=Art\",\n",
              "     \"head\": 17,\n",
              "     \"deprel\": \"det\",\n",
              "     \"misc\": \"start_char=84|end_char=87\",\n",
              "     \"ner\": \"O\"\n",
              "   }\n",
              " ], [\n",
              "   {\n",
              "     \"id\": 17,\n",
              "     \"text\": \"Präparat\",\n",
              "     \"lemma\": \"Präparat\",\n",
              "     \"upos\": \"NOUN\",\n",
              "     \"xpos\": \"NN\",\n",
              "     \"feats\": \"Case=Acc|Gender=Neut|Number=Sing\",\n",
              "     \"head\": 26,\n",
              "     \"deprel\": \"obl\",\n",
              "     \"misc\": \"start_char=88|end_char=96\",\n",
              "     \"ner\": \"O\"\n",
              "   }\n",
              " ], [\n",
              "   {\n",
              "     \"id\": 18,\n",
              "     \"text\": \"von\",\n",
              "     \"lemma\": \"von\",\n",
              "     \"upos\": \"ADP\",\n",
              "     \"xpos\": \"APPR\",\n",
              "     \"head\": 19,\n",
              "     \"deprel\": \"case\",\n",
              "     \"misc\": \"start_char=97|end_char=100\",\n",
              "     \"ner\": \"O\"\n",
              "   }\n",
              " ], [\n",
              "   {\n",
              "     \"id\": 19,\n",
              "     \"text\": \"Valneva\",\n",
              "     \"lemma\": \"Valneva\",\n",
              "     \"upos\": \"PROPN\",\n",
              "     \"xpos\": \"NE\",\n",
              "     \"feats\": \"Case=Dat|Gender=Masc|Number=Sing\",\n",
              "     \"head\": 17,\n",
              "     \"deprel\": \"nmod\",\n",
              "     \"misc\": \"start_char=101|end_char=108\",\n",
              "     \"ner\": \"S-PER\"\n",
              "   }\n",
              " ], [\n",
              "   {\n",
              "     \"id\": 20,\n",
              "     \"text\": \"eine\",\n",
              "     \"lemma\": \"ein\",\n",
              "     \"upos\": \"DET\",\n",
              "     \"xpos\": \"ART\",\n",
              "     \"feats\": \"Case=Acc|Definite=Ind|Gender=Fem|Number=Sing|PronType=Art\",\n",
              "     \"head\": 22,\n",
              "     \"deprel\": \"det\",\n",
              "     \"misc\": \"start_char=109|end_char=113\",\n",
              "     \"ner\": \"O\"\n",
              "   }\n",
              " ], [\n",
              "   {\n",
              "     \"id\": 21,\n",
              "     \"text\": \"klassische\",\n",
              "     \"lemma\": \"klassisch\",\n",
              "     \"upos\": \"ADJ\",\n",
              "     \"xpos\": \"ADJA\",\n",
              "     \"feats\": \"Case=Acc|Gender=Fem|Number=Sing\",\n",
              "     \"head\": 22,\n",
              "     \"deprel\": \"amod\",\n",
              "     \"misc\": \"start_char=114|end_char=124\",\n",
              "     \"ner\": \"O\"\n",
              "   }\n",
              " ], [\n",
              "   {\n",
              "     \"id\": 22,\n",
              "     \"text\": \"Technologie\",\n",
              "     \"lemma\": \"Technologie\",\n",
              "     \"upos\": \"NOUN\",\n",
              "     \"xpos\": \"NN\",\n",
              "     \"feats\": \"Case=Acc|Gender=Fem|Number=Sing\",\n",
              "     \"head\": 26,\n",
              "     \"deprel\": \"nsubj:pass\",\n",
              "     \"misc\": \"start_char=125|end_char=136\",\n",
              "     \"ner\": \"O\"\n",
              "   }\n",
              " ], [\n",
              "   {\n",
              "     \"id\": 23,\n",
              "     \"text\": \"mit\",\n",
              "     \"lemma\": \"mit\",\n",
              "     \"upos\": \"ADP\",\n",
              "     \"xpos\": \"APPR\",\n",
              "     \"head\": 25,\n",
              "     \"deprel\": \"case\",\n",
              "     \"misc\": \"start_char=137|end_char=140\",\n",
              "     \"ner\": \"O\"\n",
              "   }\n",
              " ], [\n",
              "   {\n",
              "     \"id\": 24,\n",
              "     \"text\": \"inaktiven\",\n",
              "     \"lemma\": \"inaktiv\",\n",
              "     \"upos\": \"ADJ\",\n",
              "     \"xpos\": \"ADJA\",\n",
              "     \"feats\": \"Case=Dat|Gender=Fem|Number=Plur\",\n",
              "     \"head\": 25,\n",
              "     \"deprel\": \"amod\",\n",
              "     \"misc\": \"start_char=141|end_char=150\",\n",
              "     \"ner\": \"O\"\n",
              "   }\n",
              " ], [\n",
              "   {\n",
              "     \"id\": 25,\n",
              "     \"text\": \"Viren\",\n",
              "     \"lemma\": \"Virus\",\n",
              "     \"upos\": \"NOUN\",\n",
              "     \"xpos\": \"NN\",\n",
              "     \"feats\": \"Case=Dat|Gender=Masc|Number=Plur\",\n",
              "     \"head\": 22,\n",
              "     \"deprel\": \"nmod\",\n",
              "     \"misc\": \"start_char=151|end_char=156\",\n",
              "     \"ner\": \"O\"\n",
              "   }\n",
              " ], [\n",
              "   {\n",
              "     \"id\": 26,\n",
              "     \"text\": \"verwendet\",\n",
              "     \"lemma\": \"verwenden\",\n",
              "     \"upos\": \"VERB\",\n",
              "     \"xpos\": \"VVPP\",\n",
              "     \"feats\": \"VerbForm=Part\",\n",
              "     \"head\": 0,\n",
              "     \"deprel\": \"root\",\n",
              "     \"misc\": \"start_char=157|end_char=166\",\n",
              "     \"ner\": \"O\"\n",
              "   }\n",
              " ], [\n",
              "   {\n",
              "     \"id\": 27,\n",
              "     \"text\": \",\",\n",
              "     \"lemma\": \",\",\n",
              "     \"upos\": \"PUNCT\",\n",
              "     \"xpos\": \"$,\",\n",
              "     \"head\": 39,\n",
              "     \"deprel\": \"punct\",\n",
              "     \"misc\": \"start_char=166|end_char=167\",\n",
              "     \"ner\": \"O\"\n",
              "   }\n",
              " ], [\n",
              "   {\n",
              "     \"id\": 28,\n",
              "     \"text\": \"wie\",\n",
              "     \"lemma\": \"wie\",\n",
              "     \"upos\": \"SCONJ\",\n",
              "     \"xpos\": \"KOUS\",\n",
              "     \"head\": 39,\n",
              "     \"deprel\": \"mark\",\n",
              "     \"misc\": \"start_char=168|end_char=171\",\n",
              "     \"ner\": \"O\"\n",
              "   }\n",
              " ], [\n",
              "   {\n",
              "     \"id\": 29,\n",
              "     \"text\": \"sie\",\n",
              "     \"lemma\": \"sie\",\n",
              "     \"upos\": \"PRON\",\n",
              "     \"xpos\": \"PPER\",\n",
              "     \"feats\": \"Case=Nom|Number=Plur|Person=3|PronType=Prs\",\n",
              "     \"head\": 39,\n",
              "     \"deprel\": \"nsubj\",\n",
              "     \"misc\": \"start_char=172|end_char=175\",\n",
              "     \"ner\": \"O\"\n",
              "   }\n",
              " ], [\n",
              "   {\n",
              "     \"id\": 30,\n",
              "     \"text\": \"bei\",\n",
              "     \"lemma\": \"bei\",\n",
              "     \"upos\": \"ADP\",\n",
              "     \"xpos\": \"APPR\",\n",
              "     \"head\": 35,\n",
              "     \"deprel\": \"case\",\n",
              "     \"misc\": \"start_char=176|end_char=179\",\n",
              "     \"ner\": \"O\"\n",
              "   }\n",
              " ], [\n",
              "   {\n",
              "     \"id\": 31,\n",
              "     \"text\": \"den\",\n",
              "     \"lemma\": \"der\",\n",
              "     \"upos\": \"DET\",\n",
              "     \"xpos\": \"ART\",\n",
              "     \"feats\": \"Case=Dat|Definite=Def|Number=Plur|PronType=Art\",\n",
              "     \"head\": 35,\n",
              "     \"deprel\": \"det\",\n",
              "     \"misc\": \"start_char=180|end_char=183\",\n",
              "     \"ner\": \"O\"\n",
              "   }\n",
              " ], [\n",
              "   {\n",
              "     \"id\": 32,\n",
              "     \"text\": \"meisten\",\n",
              "     \"lemma\": \"meist\",\n",
              "     \"upos\": \"DET\",\n",
              "     \"xpos\": \"PIAT\",\n",
              "     \"feats\": \"Case=Dat|Definite=Ind|Gender=Masc|Number=Plur|PronType=Ind\",\n",
              "     \"head\": 35,\n",
              "     \"deprel\": \"amod\",\n",
              "     \"misc\": \"start_char=184|end_char=191\",\n",
              "     \"ner\": \"O\"\n",
              "   }\n",
              " ], [\n",
              "   {\n",
              "     \"id\": 33,\n",
              "     \"text\": \"Influenza\",\n",
              "     \"lemma\": \"Influenza\",\n",
              "     \"upos\": \"NOUN\",\n",
              "     \"xpos\": \"NN\",\n",
              "     \"feats\": \"Case=Dat|Gender=Masc|Number=Plur\",\n",
              "     \"head\": 35,\n",
              "     \"deprel\": \"compound\",\n",
              "     \"misc\": \"start_char=192|end_char=201\",\n",
              "     \"ner\": \"O\"\n",
              "   }\n",
              " ], [\n",
              "   {\n",
              "     \"id\": 34,\n",
              "     \"text\": \"-\",\n",
              "     \"lemma\": \"-\",\n",
              "     \"upos\": \"PUNCT\",\n",
              "     \"xpos\": \"$(\",\n",
              "     \"head\": 33,\n",
              "     \"deprel\": \"punct\",\n",
              "     \"misc\": \"start_char=201|end_char=202\",\n",
              "     \"ner\": \"O\"\n",
              "   }\n",
              " ], [\n",
              "   {\n",
              "     \"id\": 35,\n",
              "     \"text\": \"Präparaten\",\n",
              "     \"lemma\": \"Präparat\",\n",
              "     \"upos\": \"NOUN\",\n",
              "     \"xpos\": \"NN\",\n",
              "     \"feats\": \"Case=Dat|Gender=Fem|Number=Plur\",\n",
              "     \"head\": 39,\n",
              "     \"deprel\": \"obl\",\n",
              "     \"misc\": \"start_char=202|end_char=212\",\n",
              "     \"ner\": \"O\"\n",
              "   }\n",
              " ], [\n",
              "   {\n",
              "     \"id\": [\n",
              "       36,\n",
              "       37\n",
              "     ],\n",
              "     \"text\": \"zum\",\n",
              "     \"ner\": \"O\",\n",
              "     \"misc\": \"start_char=213|end_char=216\"\n",
              "   },\n",
              "   {\n",
              "     \"id\": 36,\n",
              "     \"text\": \"zu\",\n",
              "     \"lemma\": \"zu\",\n",
              "     \"upos\": \"ADP\",\n",
              "     \"xpos\": \"APPR\",\n",
              "     \"head\": 38,\n",
              "     \"deprel\": \"case\"\n",
              "   },\n",
              "   {\n",
              "     \"id\": 37,\n",
              "     \"text\": \"dem\",\n",
              "     \"lemma\": \"der\",\n",
              "     \"upos\": \"DET\",\n",
              "     \"xpos\": \"ART\",\n",
              "     \"feats\": \"Case=Dat|Definite=Def|Gender=Masc|Number=Sing|PronType=Art\",\n",
              "     \"head\": 38,\n",
              "     \"deprel\": \"det\"\n",
              "   }\n",
              " ], [\n",
              "   {\n",
              "     \"id\": 38,\n",
              "     \"text\": \"Einsatz\",\n",
              "     \"lemma\": \"Einsatz\",\n",
              "     \"upos\": \"NOUN\",\n",
              "     \"xpos\": \"NN\",\n",
              "     \"feats\": \"Case=Dat|Gender=Masc|Number=Sing\",\n",
              "     \"head\": 39,\n",
              "     \"deprel\": \"obl\",\n",
              "     \"misc\": \"start_char=217|end_char=224\",\n",
              "     \"ner\": \"O\"\n",
              "   }\n",
              " ], [\n",
              "   {\n",
              "     \"id\": 39,\n",
              "     \"text\": \"kommt\",\n",
              "     \"lemma\": \"kommen\",\n",
              "     \"upos\": \"VERB\",\n",
              "     \"xpos\": \"VVFIN\",\n",
              "     \"feats\": \"Mood=Ind|Number=Sing|Person=3|Tense=Pres|VerbForm=Fin\",\n",
              "     \"head\": 26,\n",
              "     \"deprel\": \"advcl\",\n",
              "     \"misc\": \"start_char=225|end_char=230\",\n",
              "     \"ner\": \"O\"\n",
              "   }\n",
              " ], [\n",
              "   {\n",
              "     \"id\": 40,\n",
              "     \"text\": \".\",\n",
              "     \"lemma\": \".\",\n",
              "     \"upos\": \"PUNCT\",\n",
              "     \"xpos\": \"$.\",\n",
              "     \"head\": 26,\n",
              "     \"deprel\": \"punct\",\n",
              "     \"misc\": \"start_char=230|end_char=231\",\n",
              "     \"ner\": \"O\"\n",
              "   }\n",
              " ]]"
            ]
          },
          "metadata": {
            "tags": []
          },
          "execution_count": 14
        }
      ]
    },
    {
      "cell_type": "code",
      "metadata": {
        "colab": {
          "base_uri": "https://localhost:8080/"
        },
        "id": "XYyby5AWOfh0",
        "outputId": "3e8f537b-3f97-4dbe-afa7-0900ba989cf2"
      },
      "source": [
        "sent.tokens[0]"
      ],
      "execution_count": 15,
      "outputs": [
        {
          "output_type": "execute_result",
          "data": {
            "text/plain": [
              "[\n",
              "  {\n",
              "    \"id\": [\n",
              "      1,\n",
              "      2\n",
              "    ],\n",
              "    \"text\": \"Im\",\n",
              "    \"ner\": \"O\",\n",
              "    \"misc\": \"start_char=0|end_char=2\"\n",
              "  },\n",
              "  {\n",
              "    \"id\": 1,\n",
              "    \"text\": \"In\",\n",
              "    \"lemma\": \"in\",\n",
              "    \"upos\": \"ADP\",\n",
              "    \"xpos\": \"APPR\",\n",
              "    \"head\": 3,\n",
              "    \"deprel\": \"case\"\n",
              "  },\n",
              "  {\n",
              "    \"id\": 2,\n",
              "    \"text\": \"dem\",\n",
              "    \"lemma\": \"der\",\n",
              "    \"upos\": \"DET\",\n",
              "    \"xpos\": \"ART\",\n",
              "    \"feats\": \"Case=Dat|Definite=Def|Gender=Masc|Number=Sing|PronType=Art\",\n",
              "    \"head\": 3,\n",
              "    \"deprel\": \"det\"\n",
              "  }\n",
              "]"
            ]
          },
          "metadata": {
            "tags": []
          },
          "execution_count": 15
        }
      ]
    },
    {
      "cell_type": "code",
      "metadata": {
        "colab": {
          "base_uri": "https://localhost:8080/"
        },
        "id": "oZRO95rVOjEj",
        "outputId": "9af4f2ea-3224-48be-b3e8-798554a41748"
      },
      "source": [
        "sent.tokens[1]"
      ],
      "execution_count": 16,
      "outputs": [
        {
          "output_type": "execute_result",
          "data": {
            "text/plain": [
              "[\n",
              "  {\n",
              "    \"id\": 3,\n",
              "    \"text\": \"Unterschied\",\n",
              "    \"lemma\": \"Unterschied\",\n",
              "    \"upos\": \"NOUN\",\n",
              "    \"xpos\": \"NN\",\n",
              "    \"feats\": \"Case=Dat|Gender=Masc|Number=Sing\",\n",
              "    \"head\": 26,\n",
              "    \"deprel\": \"obl\",\n",
              "    \"misc\": \"start_char=3|end_char=14\",\n",
              "    \"ner\": \"O\"\n",
              "  }\n",
              "]"
            ]
          },
          "metadata": {
            "tags": []
          },
          "execution_count": 16
        }
      ]
    },
    {
      "cell_type": "code",
      "metadata": {
        "colab": {
          "base_uri": "https://localhost:8080/"
        },
        "id": "KFGstgEuOpIS",
        "outputId": "6c3844f8-4144-4f4a-f51d-7c0ded1d7a92"
      },
      "source": [
        "sent.words"
      ],
      "execution_count": 17,
      "outputs": [
        {
          "output_type": "execute_result",
          "data": {
            "text/plain": [
              "[{\n",
              "   \"id\": 1,\n",
              "   \"text\": \"In\",\n",
              "   \"lemma\": \"in\",\n",
              "   \"upos\": \"ADP\",\n",
              "   \"xpos\": \"APPR\",\n",
              "   \"head\": 3,\n",
              "   \"deprel\": \"case\"\n",
              " }, {\n",
              "   \"id\": 2,\n",
              "   \"text\": \"dem\",\n",
              "   \"lemma\": \"der\",\n",
              "   \"upos\": \"DET\",\n",
              "   \"xpos\": \"ART\",\n",
              "   \"feats\": \"Case=Dat|Definite=Def|Gender=Masc|Number=Sing|PronType=Art\",\n",
              "   \"head\": 3,\n",
              "   \"deprel\": \"det\"\n",
              " }, {\n",
              "   \"id\": 3,\n",
              "   \"text\": \"Unterschied\",\n",
              "   \"lemma\": \"Unterschied\",\n",
              "   \"upos\": \"NOUN\",\n",
              "   \"xpos\": \"NN\",\n",
              "   \"feats\": \"Case=Dat|Gender=Masc|Number=Sing\",\n",
              "   \"head\": 26,\n",
              "   \"deprel\": \"obl\",\n",
              "   \"misc\": \"start_char=3|end_char=14\"\n",
              " }, {\n",
              "   \"id\": 4,\n",
              "   \"text\": \"zu\",\n",
              "   \"lemma\": \"zu\",\n",
              "   \"upos\": \"ADP\",\n",
              "   \"xpos\": \"APPR\",\n",
              "   \"head\": 7,\n",
              "   \"deprel\": \"case\",\n",
              "   \"misc\": \"start_char=15|end_char=17\"\n",
              " }, {\n",
              "   \"id\": 5,\n",
              "   \"text\": \"den\",\n",
              "   \"lemma\": \"der\",\n",
              "   \"upos\": \"DET\",\n",
              "   \"xpos\": \"ART\",\n",
              "   \"feats\": \"Case=Dat|Definite=Def|Gender=Masc|Number=Plur|PronType=Art\",\n",
              "   \"head\": 7,\n",
              "   \"deprel\": \"det\",\n",
              "   \"misc\": \"start_char=18|end_char=21\"\n",
              " }, {\n",
              "   \"id\": 6,\n",
              "   \"text\": \"neuartigen\",\n",
              "   \"lemma\": \"neuartig\",\n",
              "   \"upos\": \"ADJ\",\n",
              "   \"xpos\": \"ADJA\",\n",
              "   \"feats\": \"Case=Dat|Gender=Masc|Number=Plur\",\n",
              "   \"head\": 7,\n",
              "   \"deprel\": \"amod\",\n",
              "   \"misc\": \"start_char=22|end_char=32\"\n",
              " }, {\n",
              "   \"id\": 7,\n",
              "   \"text\": \"mRNA\",\n",
              "   \"lemma\": \"mRNA\",\n",
              "   \"upos\": \"PROPN\",\n",
              "   \"xpos\": \"NN\",\n",
              "   \"feats\": \"Case=Dat|Gender=Masc|Number=Plur\",\n",
              "   \"head\": 3,\n",
              "   \"deprel\": \"nmod\",\n",
              "   \"misc\": \"start_char=33|end_char=37\"\n",
              " }, {\n",
              "   \"id\": 8,\n",
              "   \"text\": \"-\",\n",
              "   \"lemma\": \"-\",\n",
              "   \"upos\": \"PUNCT\",\n",
              "   \"xpos\": \"$(\",\n",
              "   \"head\": 9,\n",
              "   \"deprel\": \"punct\",\n",
              "   \"misc\": \"start_char=37|end_char=38\"\n",
              " }, {\n",
              "   \"id\": 9,\n",
              "   \"text\": \"Impfstoffen\",\n",
              "   \"lemma\": \"Impfstoff\",\n",
              "   \"upos\": \"NOUN\",\n",
              "   \"xpos\": \"NN\",\n",
              "   \"feats\": \"Case=Dat|Gender=Masc|Number=Plur\",\n",
              "   \"head\": 7,\n",
              "   \"deprel\": \"flat\",\n",
              "   \"misc\": \"start_char=38|end_char=49\"\n",
              " }, {\n",
              "   \"id\": 10,\n",
              "   \"text\": \"von\",\n",
              "   \"lemma\": \"von\",\n",
              "   \"upos\": \"ADP\",\n",
              "   \"xpos\": \"APPR\",\n",
              "   \"head\": 11,\n",
              "   \"deprel\": \"case\",\n",
              "   \"misc\": \"start_char=50|end_char=53\"\n",
              " }, {\n",
              "   \"id\": 11,\n",
              "   \"text\": \"BioNTech\",\n",
              "   \"lemma\": \"BioNTech\",\n",
              "   \"upos\": \"PROPN\",\n",
              "   \"xpos\": \"NE\",\n",
              "   \"feats\": \"Case=Dat|Gender=Neut|Number=Sing\",\n",
              "   \"head\": 7,\n",
              "   \"deprel\": \"nmod\",\n",
              "   \"misc\": \"start_char=54|end_char=62\"\n",
              " }, {\n",
              "   \"id\": 12,\n",
              "   \"text\": \"und\",\n",
              "   \"lemma\": \"und\",\n",
              "   \"upos\": \"CCONJ\",\n",
              "   \"xpos\": \"KON\",\n",
              "   \"head\": 13,\n",
              "   \"deprel\": \"cc\",\n",
              "   \"misc\": \"start_char=63|end_char=66\"\n",
              " }, {\n",
              "   \"id\": 13,\n",
              "   \"text\": \"Moderna\",\n",
              "   \"lemma\": \"Moderna\",\n",
              "   \"upos\": \"PROPN\",\n",
              "   \"xpos\": \"NE\",\n",
              "   \"feats\": \"Case=Dat|Gender=Neut|Number=Sing\",\n",
              "   \"head\": 11,\n",
              "   \"deprel\": \"conj\",\n",
              "   \"misc\": \"start_char=67|end_char=74\"\n",
              " }, {\n",
              "   \"id\": 14,\n",
              "   \"text\": \"wird\",\n",
              "   \"lemma\": \"werden\",\n",
              "   \"upos\": \"AUX\",\n",
              "   \"xpos\": \"VAFIN\",\n",
              "   \"feats\": \"Mood=Ind|Number=Sing|Person=3|Tense=Pres|VerbForm=Fin|Voice=Pass\",\n",
              "   \"head\": 26,\n",
              "   \"deprel\": \"aux:pass\",\n",
              "   \"misc\": \"start_char=75|end_char=79\"\n",
              " }, {\n",
              "   \"id\": 15,\n",
              "   \"text\": \"für\",\n",
              "   \"lemma\": \"für\",\n",
              "   \"upos\": \"ADP\",\n",
              "   \"xpos\": \"APPR\",\n",
              "   \"head\": 17,\n",
              "   \"deprel\": \"case\",\n",
              "   \"misc\": \"start_char=80|end_char=83\"\n",
              " }, {\n",
              "   \"id\": 16,\n",
              "   \"text\": \"das\",\n",
              "   \"lemma\": \"der\",\n",
              "   \"upos\": \"DET\",\n",
              "   \"xpos\": \"ART\",\n",
              "   \"feats\": \"Case=Acc|Definite=Def|Gender=Neut|Number=Sing|PronType=Art\",\n",
              "   \"head\": 17,\n",
              "   \"deprel\": \"det\",\n",
              "   \"misc\": \"start_char=84|end_char=87\"\n",
              " }, {\n",
              "   \"id\": 17,\n",
              "   \"text\": \"Präparat\",\n",
              "   \"lemma\": \"Präparat\",\n",
              "   \"upos\": \"NOUN\",\n",
              "   \"xpos\": \"NN\",\n",
              "   \"feats\": \"Case=Acc|Gender=Neut|Number=Sing\",\n",
              "   \"head\": 26,\n",
              "   \"deprel\": \"obl\",\n",
              "   \"misc\": \"start_char=88|end_char=96\"\n",
              " }, {\n",
              "   \"id\": 18,\n",
              "   \"text\": \"von\",\n",
              "   \"lemma\": \"von\",\n",
              "   \"upos\": \"ADP\",\n",
              "   \"xpos\": \"APPR\",\n",
              "   \"head\": 19,\n",
              "   \"deprel\": \"case\",\n",
              "   \"misc\": \"start_char=97|end_char=100\"\n",
              " }, {\n",
              "   \"id\": 19,\n",
              "   \"text\": \"Valneva\",\n",
              "   \"lemma\": \"Valneva\",\n",
              "   \"upos\": \"PROPN\",\n",
              "   \"xpos\": \"NE\",\n",
              "   \"feats\": \"Case=Dat|Gender=Masc|Number=Sing\",\n",
              "   \"head\": 17,\n",
              "   \"deprel\": \"nmod\",\n",
              "   \"misc\": \"start_char=101|end_char=108\"\n",
              " }, {\n",
              "   \"id\": 20,\n",
              "   \"text\": \"eine\",\n",
              "   \"lemma\": \"ein\",\n",
              "   \"upos\": \"DET\",\n",
              "   \"xpos\": \"ART\",\n",
              "   \"feats\": \"Case=Acc|Definite=Ind|Gender=Fem|Number=Sing|PronType=Art\",\n",
              "   \"head\": 22,\n",
              "   \"deprel\": \"det\",\n",
              "   \"misc\": \"start_char=109|end_char=113\"\n",
              " }, {\n",
              "   \"id\": 21,\n",
              "   \"text\": \"klassische\",\n",
              "   \"lemma\": \"klassisch\",\n",
              "   \"upos\": \"ADJ\",\n",
              "   \"xpos\": \"ADJA\",\n",
              "   \"feats\": \"Case=Acc|Gender=Fem|Number=Sing\",\n",
              "   \"head\": 22,\n",
              "   \"deprel\": \"amod\",\n",
              "   \"misc\": \"start_char=114|end_char=124\"\n",
              " }, {\n",
              "   \"id\": 22,\n",
              "   \"text\": \"Technologie\",\n",
              "   \"lemma\": \"Technologie\",\n",
              "   \"upos\": \"NOUN\",\n",
              "   \"xpos\": \"NN\",\n",
              "   \"feats\": \"Case=Acc|Gender=Fem|Number=Sing\",\n",
              "   \"head\": 26,\n",
              "   \"deprel\": \"nsubj:pass\",\n",
              "   \"misc\": \"start_char=125|end_char=136\"\n",
              " }, {\n",
              "   \"id\": 23,\n",
              "   \"text\": \"mit\",\n",
              "   \"lemma\": \"mit\",\n",
              "   \"upos\": \"ADP\",\n",
              "   \"xpos\": \"APPR\",\n",
              "   \"head\": 25,\n",
              "   \"deprel\": \"case\",\n",
              "   \"misc\": \"start_char=137|end_char=140\"\n",
              " }, {\n",
              "   \"id\": 24,\n",
              "   \"text\": \"inaktiven\",\n",
              "   \"lemma\": \"inaktiv\",\n",
              "   \"upos\": \"ADJ\",\n",
              "   \"xpos\": \"ADJA\",\n",
              "   \"feats\": \"Case=Dat|Gender=Fem|Number=Plur\",\n",
              "   \"head\": 25,\n",
              "   \"deprel\": \"amod\",\n",
              "   \"misc\": \"start_char=141|end_char=150\"\n",
              " }, {\n",
              "   \"id\": 25,\n",
              "   \"text\": \"Viren\",\n",
              "   \"lemma\": \"Virus\",\n",
              "   \"upos\": \"NOUN\",\n",
              "   \"xpos\": \"NN\",\n",
              "   \"feats\": \"Case=Dat|Gender=Masc|Number=Plur\",\n",
              "   \"head\": 22,\n",
              "   \"deprel\": \"nmod\",\n",
              "   \"misc\": \"start_char=151|end_char=156\"\n",
              " }, {\n",
              "   \"id\": 26,\n",
              "   \"text\": \"verwendet\",\n",
              "   \"lemma\": \"verwenden\",\n",
              "   \"upos\": \"VERB\",\n",
              "   \"xpos\": \"VVPP\",\n",
              "   \"feats\": \"VerbForm=Part\",\n",
              "   \"head\": 0,\n",
              "   \"deprel\": \"root\",\n",
              "   \"misc\": \"start_char=157|end_char=166\"\n",
              " }, {\n",
              "   \"id\": 27,\n",
              "   \"text\": \",\",\n",
              "   \"lemma\": \",\",\n",
              "   \"upos\": \"PUNCT\",\n",
              "   \"xpos\": \"$,\",\n",
              "   \"head\": 39,\n",
              "   \"deprel\": \"punct\",\n",
              "   \"misc\": \"start_char=166|end_char=167\"\n",
              " }, {\n",
              "   \"id\": 28,\n",
              "   \"text\": \"wie\",\n",
              "   \"lemma\": \"wie\",\n",
              "   \"upos\": \"SCONJ\",\n",
              "   \"xpos\": \"KOUS\",\n",
              "   \"head\": 39,\n",
              "   \"deprel\": \"mark\",\n",
              "   \"misc\": \"start_char=168|end_char=171\"\n",
              " }, {\n",
              "   \"id\": 29,\n",
              "   \"text\": \"sie\",\n",
              "   \"lemma\": \"sie\",\n",
              "   \"upos\": \"PRON\",\n",
              "   \"xpos\": \"PPER\",\n",
              "   \"feats\": \"Case=Nom|Number=Plur|Person=3|PronType=Prs\",\n",
              "   \"head\": 39,\n",
              "   \"deprel\": \"nsubj\",\n",
              "   \"misc\": \"start_char=172|end_char=175\"\n",
              " }, {\n",
              "   \"id\": 30,\n",
              "   \"text\": \"bei\",\n",
              "   \"lemma\": \"bei\",\n",
              "   \"upos\": \"ADP\",\n",
              "   \"xpos\": \"APPR\",\n",
              "   \"head\": 35,\n",
              "   \"deprel\": \"case\",\n",
              "   \"misc\": \"start_char=176|end_char=179\"\n",
              " }, {\n",
              "   \"id\": 31,\n",
              "   \"text\": \"den\",\n",
              "   \"lemma\": \"der\",\n",
              "   \"upos\": \"DET\",\n",
              "   \"xpos\": \"ART\",\n",
              "   \"feats\": \"Case=Dat|Definite=Def|Number=Plur|PronType=Art\",\n",
              "   \"head\": 35,\n",
              "   \"deprel\": \"det\",\n",
              "   \"misc\": \"start_char=180|end_char=183\"\n",
              " }, {\n",
              "   \"id\": 32,\n",
              "   \"text\": \"meisten\",\n",
              "   \"lemma\": \"meist\",\n",
              "   \"upos\": \"DET\",\n",
              "   \"xpos\": \"PIAT\",\n",
              "   \"feats\": \"Case=Dat|Definite=Ind|Gender=Masc|Number=Plur|PronType=Ind\",\n",
              "   \"head\": 35,\n",
              "   \"deprel\": \"amod\",\n",
              "   \"misc\": \"start_char=184|end_char=191\"\n",
              " }, {\n",
              "   \"id\": 33,\n",
              "   \"text\": \"Influenza\",\n",
              "   \"lemma\": \"Influenza\",\n",
              "   \"upos\": \"NOUN\",\n",
              "   \"xpos\": \"NN\",\n",
              "   \"feats\": \"Case=Dat|Gender=Masc|Number=Plur\",\n",
              "   \"head\": 35,\n",
              "   \"deprel\": \"compound\",\n",
              "   \"misc\": \"start_char=192|end_char=201\"\n",
              " }, {\n",
              "   \"id\": 34,\n",
              "   \"text\": \"-\",\n",
              "   \"lemma\": \"-\",\n",
              "   \"upos\": \"PUNCT\",\n",
              "   \"xpos\": \"$(\",\n",
              "   \"head\": 33,\n",
              "   \"deprel\": \"punct\",\n",
              "   \"misc\": \"start_char=201|end_char=202\"\n",
              " }, {\n",
              "   \"id\": 35,\n",
              "   \"text\": \"Präparaten\",\n",
              "   \"lemma\": \"Präparat\",\n",
              "   \"upos\": \"NOUN\",\n",
              "   \"xpos\": \"NN\",\n",
              "   \"feats\": \"Case=Dat|Gender=Fem|Number=Plur\",\n",
              "   \"head\": 39,\n",
              "   \"deprel\": \"obl\",\n",
              "   \"misc\": \"start_char=202|end_char=212\"\n",
              " }, {\n",
              "   \"id\": 36,\n",
              "   \"text\": \"zu\",\n",
              "   \"lemma\": \"zu\",\n",
              "   \"upos\": \"ADP\",\n",
              "   \"xpos\": \"APPR\",\n",
              "   \"head\": 38,\n",
              "   \"deprel\": \"case\"\n",
              " }, {\n",
              "   \"id\": 37,\n",
              "   \"text\": \"dem\",\n",
              "   \"lemma\": \"der\",\n",
              "   \"upos\": \"DET\",\n",
              "   \"xpos\": \"ART\",\n",
              "   \"feats\": \"Case=Dat|Definite=Def|Gender=Masc|Number=Sing|PronType=Art\",\n",
              "   \"head\": 38,\n",
              "   \"deprel\": \"det\"\n",
              " }, {\n",
              "   \"id\": 38,\n",
              "   \"text\": \"Einsatz\",\n",
              "   \"lemma\": \"Einsatz\",\n",
              "   \"upos\": \"NOUN\",\n",
              "   \"xpos\": \"NN\",\n",
              "   \"feats\": \"Case=Dat|Gender=Masc|Number=Sing\",\n",
              "   \"head\": 39,\n",
              "   \"deprel\": \"obl\",\n",
              "   \"misc\": \"start_char=217|end_char=224\"\n",
              " }, {\n",
              "   \"id\": 39,\n",
              "   \"text\": \"kommt\",\n",
              "   \"lemma\": \"kommen\",\n",
              "   \"upos\": \"VERB\",\n",
              "   \"xpos\": \"VVFIN\",\n",
              "   \"feats\": \"Mood=Ind|Number=Sing|Person=3|Tense=Pres|VerbForm=Fin\",\n",
              "   \"head\": 26,\n",
              "   \"deprel\": \"advcl\",\n",
              "   \"misc\": \"start_char=225|end_char=230\"\n",
              " }, {\n",
              "   \"id\": 40,\n",
              "   \"text\": \".\",\n",
              "   \"lemma\": \".\",\n",
              "   \"upos\": \"PUNCT\",\n",
              "   \"xpos\": \"$.\",\n",
              "   \"head\": 26,\n",
              "   \"deprel\": \"punct\",\n",
              "   \"misc\": \"start_char=230|end_char=231\"\n",
              " }]"
            ]
          },
          "metadata": {
            "tags": []
          },
          "execution_count": 17
        }
      ]
    },
    {
      "cell_type": "code",
      "metadata": {
        "colab": {
          "base_uri": "https://localhost:8080/"
        },
        "id": "h_OCPPCGOutx",
        "outputId": "260b2bf9-ed60-44df-9cdc-d3c9a12707f9"
      },
      "source": [
        "sent.words[0]"
      ],
      "execution_count": 18,
      "outputs": [
        {
          "output_type": "execute_result",
          "data": {
            "text/plain": [
              "{\n",
              "  \"id\": 1,\n",
              "  \"text\": \"In\",\n",
              "  \"lemma\": \"in\",\n",
              "  \"upos\": \"ADP\",\n",
              "  \"xpos\": \"APPR\",\n",
              "  \"head\": 3,\n",
              "  \"deprel\": \"case\"\n",
              "}"
            ]
          },
          "metadata": {
            "tags": []
          },
          "execution_count": 18
        }
      ]
    },
    {
      "cell_type": "code",
      "metadata": {
        "colab": {
          "base_uri": "https://localhost:8080/"
        },
        "id": "Nq4LM6MnOw0v",
        "outputId": "3913c0a4-791b-49c5-f1e0-1d3d34e5bfb7"
      },
      "source": [
        "sent.words[1]"
      ],
      "execution_count": 19,
      "outputs": [
        {
          "output_type": "execute_result",
          "data": {
            "text/plain": [
              "{\n",
              "  \"id\": 2,\n",
              "  \"text\": \"dem\",\n",
              "  \"lemma\": \"der\",\n",
              "  \"upos\": \"DET\",\n",
              "  \"xpos\": \"ART\",\n",
              "  \"feats\": \"Case=Dat|Definite=Def|Gender=Masc|Number=Sing|PronType=Art\",\n",
              "  \"head\": 3,\n",
              "  \"deprel\": \"det\"\n",
              "}"
            ]
          },
          "metadata": {
            "tags": []
          },
          "execution_count": 19
        }
      ]
    },
    {
      "cell_type": "code",
      "metadata": {
        "colab": {
          "base_uri": "https://localhost:8080/"
        },
        "id": "9tgECOwHOy4X",
        "outputId": "a3560f12-a71e-4dd5-85ae-cf2ef56dff65"
      },
      "source": [
        "sent.entities"
      ],
      "execution_count": 20,
      "outputs": [
        {
          "output_type": "execute_result",
          "data": {
            "text/plain": [
              "[{\n",
              "   \"text\": \"Moderna\",\n",
              "   \"type\": \"MISC\",\n",
              "   \"start_char\": 67,\n",
              "   \"end_char\": 74\n",
              " }, {\n",
              "   \"text\": \"Valneva\",\n",
              "   \"type\": \"PER\",\n",
              "   \"start_char\": 101,\n",
              "   \"end_char\": 108\n",
              " }]"
            ]
          },
          "metadata": {
            "tags": []
          },
          "execution_count": 20
        }
      ]
    },
    {
      "cell_type": "code",
      "metadata": {
        "colab": {
          "base_uri": "https://localhost:8080/"
        },
        "id": "0wyzIynTO1KJ",
        "outputId": "f62e85e0-bf61-4741-eea8-89658c40baf4"
      },
      "source": [
        "sent.sentiment"
      ],
      "execution_count": 21,
      "outputs": [
        {
          "output_type": "execute_result",
          "data": {
            "text/plain": [
              "1"
            ]
          },
          "metadata": {
            "tags": []
          },
          "execution_count": 21
        }
      ]
    },
    {
      "cell_type": "markdown",
      "metadata": {
        "id": "sEGWZFMoPCpM"
      },
      "source": [
        "# Data Object 3: Token\r\n",
        "* A token, and a list of underlying syntactic ```Word```s.\r\n",
        "* Multi-word token: a range ```id```. (e.g. zum = zu dem)\r\n",
        "## Properties\r\n",
        "  * **id**: The index of the token in the sentence (*tuple[int]*).\r\n",
        "    * Multi-Word Token (MWT): The index contains two elements (e.g., ```(1, 2)```)\r\n",
        "    * One word token: The index contains a single element (e.g. ```(1, )```)\r\n",
        "  * **text**: The *text(string)* of the token.\r\n",
        "  * **misc**: Miscellaneous annotations with regard to the token. Used to store whether a token is a multi-word token\r\n",
        "  * **word**: The *list* of syntactic words underlying the token.\r\n",
        "  * **start_char**: The start character index(*int*) for the token in the raw text of the document. Useful if you want to detokenize or apply annotations back to the raw text\r\n",
        "  * **end_char**: The end character index(*int*) for the token in the raw text of the document.  \r\n",
        "  * **ner**: The NER tag of the token. BIOES format\r\n",
        "    * BIOES format\r\n",
        "      * S: start (single token)\r\n",
        "      * B: begin (multi-word token)\r\n",
        "      * I: in (multi-word token)\r\n",
        "      * E: end (multi-word token)\r\n",
        "      * O: out "
      ]
    },
    {
      "cell_type": "code",
      "metadata": {
        "colab": {
          "base_uri": "https://localhost:8080/"
        },
        "id": "XuUSOhCgPCTr",
        "outputId": "a94f80dd-2572-4460-e8d7-78719736746a"
      },
      "source": [
        "token1 = sent.tokens[0] #mwt\r\n",
        "token1"
      ],
      "execution_count": 22,
      "outputs": [
        {
          "output_type": "execute_result",
          "data": {
            "text/plain": [
              "[\n",
              "  {\n",
              "    \"id\": [\n",
              "      1,\n",
              "      2\n",
              "    ],\n",
              "    \"text\": \"Im\",\n",
              "    \"ner\": \"O\",\n",
              "    \"misc\": \"start_char=0|end_char=2\"\n",
              "  },\n",
              "  {\n",
              "    \"id\": 1,\n",
              "    \"text\": \"In\",\n",
              "    \"lemma\": \"in\",\n",
              "    \"upos\": \"ADP\",\n",
              "    \"xpos\": \"APPR\",\n",
              "    \"head\": 3,\n",
              "    \"deprel\": \"case\"\n",
              "  },\n",
              "  {\n",
              "    \"id\": 2,\n",
              "    \"text\": \"dem\",\n",
              "    \"lemma\": \"der\",\n",
              "    \"upos\": \"DET\",\n",
              "    \"xpos\": \"ART\",\n",
              "    \"feats\": \"Case=Dat|Definite=Def|Gender=Masc|Number=Sing|PronType=Art\",\n",
              "    \"head\": 3,\n",
              "    \"deprel\": \"det\"\n",
              "  }\n",
              "]"
            ]
          },
          "metadata": {
            "tags": []
          },
          "execution_count": 22
        }
      ]
    },
    {
      "cell_type": "code",
      "metadata": {
        "colab": {
          "base_uri": "https://localhost:8080/"
        },
        "id": "1hYKdZlSZGji",
        "outputId": "38a1f28d-dbbd-48e1-8c84-40d3919bb8f7"
      },
      "source": [
        "token2 = sent.tokens[1]\r\n",
        "token2"
      ],
      "execution_count": 23,
      "outputs": [
        {
          "output_type": "execute_result",
          "data": {
            "text/plain": [
              "[\n",
              "  {\n",
              "    \"id\": 3,\n",
              "    \"text\": \"Unterschied\",\n",
              "    \"lemma\": \"Unterschied\",\n",
              "    \"upos\": \"NOUN\",\n",
              "    \"xpos\": \"NN\",\n",
              "    \"feats\": \"Case=Dat|Gender=Masc|Number=Sing\",\n",
              "    \"head\": 26,\n",
              "    \"deprel\": \"obl\",\n",
              "    \"misc\": \"start_char=3|end_char=14\",\n",
              "    \"ner\": \"O\"\n",
              "  }\n",
              "]"
            ]
          },
          "metadata": {
            "tags": []
          },
          "execution_count": 23
        }
      ]
    },
    {
      "cell_type": "code",
      "metadata": {
        "colab": {
          "base_uri": "https://localhost:8080/"
        },
        "id": "MtomL5oLZ1QT",
        "outputId": "f7d734ef-30d4-4207-c0af-c0603ef2a301"
      },
      "source": [
        "token3 = sent.tokens[11] #NER\r\n",
        "token3"
      ],
      "execution_count": 24,
      "outputs": [
        {
          "output_type": "execute_result",
          "data": {
            "text/plain": [
              "[\n",
              "  {\n",
              "    \"id\": 13,\n",
              "    \"text\": \"Moderna\",\n",
              "    \"lemma\": \"Moderna\",\n",
              "    \"upos\": \"PROPN\",\n",
              "    \"xpos\": \"NE\",\n",
              "    \"feats\": \"Case=Dat|Gender=Neut|Number=Sing\",\n",
              "    \"head\": 11,\n",
              "    \"deprel\": \"conj\",\n",
              "    \"misc\": \"start_char=67|end_char=74\",\n",
              "    \"ner\": \"S-MISC\"\n",
              "  }\n",
              "]"
            ]
          },
          "metadata": {
            "tags": []
          },
          "execution_count": 24
        }
      ]
    },
    {
      "cell_type": "code",
      "metadata": {
        "colab": {
          "base_uri": "https://localhost:8080/"
        },
        "id": "t8wdIjfVY7fs",
        "outputId": "0875989a-0734-44fb-cc59-2a14867d4d3a"
      },
      "source": [
        "#property 1: id\r\n",
        "print(token1.id)\r\n",
        "print(token2.id)\r\n",
        "print(token3.id)"
      ],
      "execution_count": 25,
      "outputs": [
        {
          "output_type": "stream",
          "text": [
            "(1, 2)\n",
            "(3,)\n",
            "(13,)\n"
          ],
          "name": "stdout"
        }
      ]
    },
    {
      "cell_type": "code",
      "metadata": {
        "colab": {
          "base_uri": "https://localhost:8080/"
        },
        "id": "HjuubpDcZN5q",
        "outputId": "4034ed54-d6e5-4c62-8569-e5949569088c"
      },
      "source": [
        "print(token1.text)\r\n",
        "print(token2.text)\r\n",
        "print(token3.text)"
      ],
      "execution_count": 26,
      "outputs": [
        {
          "output_type": "stream",
          "text": [
            "Im\n",
            "Unterschied\n",
            "Moderna\n"
          ],
          "name": "stdout"
        }
      ]
    },
    {
      "cell_type": "code",
      "metadata": {
        "colab": {
          "base_uri": "https://localhost:8080/"
        },
        "id": "pl1KobLWZXzr",
        "outputId": "39250ef1-eb79-4148-daa3-36ec6f39062c"
      },
      "source": [
        "print(token1.misc)\r\n",
        "print(token2.misc)\r\n",
        "print(token3.misc)"
      ],
      "execution_count": 27,
      "outputs": [
        {
          "output_type": "stream",
          "text": [
            "start_char=0|end_char=2\n",
            "start_char=3|end_char=14\n",
            "start_char=67|end_char=74\n"
          ],
          "name": "stdout"
        }
      ]
    },
    {
      "cell_type": "code",
      "metadata": {
        "colab": {
          "base_uri": "https://localhost:8080/"
        },
        "id": "pT0UcYjVae28",
        "outputId": "d989434d-8d92-4f81-bcdd-74478596a0b0"
      },
      "source": [
        "print(token1.words)\r\n",
        "print(token2.words)\r\n",
        "print(token3.words)"
      ],
      "execution_count": 28,
      "outputs": [
        {
          "output_type": "stream",
          "text": [
            "[{\n",
            "  \"id\": 1,\n",
            "  \"text\": \"In\",\n",
            "  \"lemma\": \"in\",\n",
            "  \"upos\": \"ADP\",\n",
            "  \"xpos\": \"APPR\",\n",
            "  \"head\": 3,\n",
            "  \"deprel\": \"case\"\n",
            "}, {\n",
            "  \"id\": 2,\n",
            "  \"text\": \"dem\",\n",
            "  \"lemma\": \"der\",\n",
            "  \"upos\": \"DET\",\n",
            "  \"xpos\": \"ART\",\n",
            "  \"feats\": \"Case=Dat|Definite=Def|Gender=Masc|Number=Sing|PronType=Art\",\n",
            "  \"head\": 3,\n",
            "  \"deprel\": \"det\"\n",
            "}]\n",
            "[{\n",
            "  \"id\": 3,\n",
            "  \"text\": \"Unterschied\",\n",
            "  \"lemma\": \"Unterschied\",\n",
            "  \"upos\": \"NOUN\",\n",
            "  \"xpos\": \"NN\",\n",
            "  \"feats\": \"Case=Dat|Gender=Masc|Number=Sing\",\n",
            "  \"head\": 26,\n",
            "  \"deprel\": \"obl\",\n",
            "  \"misc\": \"start_char=3|end_char=14\"\n",
            "}]\n",
            "[{\n",
            "  \"id\": 13,\n",
            "  \"text\": \"Moderna\",\n",
            "  \"lemma\": \"Moderna\",\n",
            "  \"upos\": \"PROPN\",\n",
            "  \"xpos\": \"NE\",\n",
            "  \"feats\": \"Case=Dat|Gender=Neut|Number=Sing\",\n",
            "  \"head\": 11,\n",
            "  \"deprel\": \"conj\",\n",
            "  \"misc\": \"start_char=67|end_char=74\"\n",
            "}]\n"
          ],
          "name": "stdout"
        }
      ]
    },
    {
      "cell_type": "code",
      "metadata": {
        "colab": {
          "base_uri": "https://localhost:8080/"
        },
        "id": "w5QbI3OKalRq",
        "outputId": "c03c78b8-74a3-44c5-8147-61aee23cf3c6"
      },
      "source": [
        "print(token1.start_char)\r\n",
        "print(token2.start_char)\r\n",
        "print(token3.start_char)"
      ],
      "execution_count": 29,
      "outputs": [
        {
          "output_type": "stream",
          "text": [
            "0\n",
            "3\n",
            "67\n"
          ],
          "name": "stdout"
        }
      ]
    },
    {
      "cell_type": "code",
      "metadata": {
        "colab": {
          "base_uri": "https://localhost:8080/"
        },
        "id": "0kSBpBk7asCJ",
        "outputId": "73c2e258-e156-41cc-e8f9-dc3db7e9b591"
      },
      "source": [
        "print(token1.end_char)\r\n",
        "print(token2.end_char)\r\n",
        "print(token3.end_char)"
      ],
      "execution_count": 30,
      "outputs": [
        {
          "output_type": "stream",
          "text": [
            "2\n",
            "14\n",
            "74\n"
          ],
          "name": "stdout"
        }
      ]
    },
    {
      "cell_type": "code",
      "metadata": {
        "colab": {
          "base_uri": "https://localhost:8080/"
        },
        "id": "U9sLWhoCa1aB",
        "outputId": "c165128c-9e2b-443d-a9fb-52e645e5027c"
      },
      "source": [
        "print(token1.ner)\r\n",
        "print(token2.ner)\r\n",
        "print(token3.ner)"
      ],
      "execution_count": 31,
      "outputs": [
        {
          "output_type": "stream",
          "text": [
            "O\n",
            "O\n",
            "S-MISC\n"
          ],
          "name": "stdout"
        }
      ]
    },
    {
      "cell_type": "markdown",
      "metadata": {
        "id": "k-XL0UZrbr4H"
      },
      "source": [
        "# Data Object 4: Word\r\n",
        "* A syntactic word\r\n",
        "* Words are generated as a result of applying ```MWTProcessor```\r\n",
        "* Tagging, lemmatization, parsing의 기준\r\n",
        "## Properties\r\n",
        "  * **id**: The index(*inf*) of the word in the sentence. \r\n",
        "  * **text**: The text(*string*) of the word.\r\n",
        "  * **lemma**: The lemma of the word\r\n",
        "  * **upos(pos)** : The universal part-of-speech of the word\r\n",
        "  * **xpos**: The treebank-specific part-of-speech of the word\r\n",
        "  * **feats**: The morpholofical features of the word.\r\n",
        "  * **head**: The id(*int*) of the syntactic head of the word in the sentence. \r\n",
        "  * **deprel**: The dependency relation(*string*) between the word and its syntactc head\r\n",
        "  * **deps**: The combination of head and deprel that captures all syntactic dependency information\r\n",
        "  * **misc**: Miscellaneous annotations with regard to the word. \r\n",
        "  * **parent**: A \"back pointer\" to the parent token that the word is part of. In the case of a multi-word token, a token can be the parent of multiple words. "
      ]
    },
    {
      "cell_type": "code",
      "metadata": {
        "colab": {
          "base_uri": "https://localhost:8080/"
        },
        "id": "4X1k-9hahuIW",
        "outputId": "bc4ca29a-92c4-4cbe-d3c6-4bc57ddfad68"
      },
      "source": [
        "word1 = sent.words[0]\r\n",
        "word1"
      ],
      "execution_count": 32,
      "outputs": [
        {
          "output_type": "execute_result",
          "data": {
            "text/plain": [
              "{\n",
              "  \"id\": 1,\n",
              "  \"text\": \"In\",\n",
              "  \"lemma\": \"in\",\n",
              "  \"upos\": \"ADP\",\n",
              "  \"xpos\": \"APPR\",\n",
              "  \"head\": 3,\n",
              "  \"deprel\": \"case\"\n",
              "}"
            ]
          },
          "metadata": {
            "tags": []
          },
          "execution_count": 32
        }
      ]
    },
    {
      "cell_type": "code",
      "metadata": {
        "colab": {
          "base_uri": "https://localhost:8080/"
        },
        "id": "Clbvf_BbiQDm",
        "outputId": "49dc3090-8aff-413d-87c6-40b0ce75a7e6"
      },
      "source": [
        "word2 = sent.words[1]\r\n",
        "word2"
      ],
      "execution_count": 33,
      "outputs": [
        {
          "output_type": "execute_result",
          "data": {
            "text/plain": [
              "{\n",
              "  \"id\": 2,\n",
              "  \"text\": \"dem\",\n",
              "  \"lemma\": \"der\",\n",
              "  \"upos\": \"DET\",\n",
              "  \"xpos\": \"ART\",\n",
              "  \"feats\": \"Case=Dat|Definite=Def|Gender=Masc|Number=Sing|PronType=Art\",\n",
              "  \"head\": 3,\n",
              "  \"deprel\": \"det\"\n",
              "}"
            ]
          },
          "metadata": {
            "tags": []
          },
          "execution_count": 33
        }
      ]
    },
    {
      "cell_type": "code",
      "metadata": {
        "colab": {
          "base_uri": "https://localhost:8080/"
        },
        "id": "36Ft8lJpiU7N",
        "outputId": "5d5888b2-09d8-4283-9875-68fad5cc0c27"
      },
      "source": [
        "word3 = sent.words[2]\r\n",
        "word3"
      ],
      "execution_count": 34,
      "outputs": [
        {
          "output_type": "execute_result",
          "data": {
            "text/plain": [
              "{\n",
              "  \"id\": 3,\n",
              "  \"text\": \"Unterschied\",\n",
              "  \"lemma\": \"Unterschied\",\n",
              "  \"upos\": \"NOUN\",\n",
              "  \"xpos\": \"NN\",\n",
              "  \"feats\": \"Case=Dat|Gender=Masc|Number=Sing\",\n",
              "  \"head\": 26,\n",
              "  \"deprel\": \"obl\",\n",
              "  \"misc\": \"start_char=3|end_char=14\"\n",
              "}"
            ]
          },
          "metadata": {
            "tags": []
          },
          "execution_count": 34
        }
      ]
    },
    {
      "cell_type": "code",
      "metadata": {
        "colab": {
          "base_uri": "https://localhost:8080/"
        },
        "id": "Xt8eB90oidI4",
        "outputId": "75e2e66d-efd5-471f-c70b-891e8b9860cf"
      },
      "source": [
        "print(word1.id)\r\n",
        "print(word2.id)\r\n",
        "print(word3.id)"
      ],
      "execution_count": 35,
      "outputs": [
        {
          "output_type": "stream",
          "text": [
            "1\n",
            "2\n",
            "3\n"
          ],
          "name": "stdout"
        }
      ]
    },
    {
      "cell_type": "code",
      "metadata": {
        "colab": {
          "base_uri": "https://localhost:8080/"
        },
        "id": "OhhdmUa3ih9M",
        "outputId": "4bfeef3a-8c00-4a03-f3ec-d2eb5174ff04"
      },
      "source": [
        "print(word1.text)\r\n",
        "print(word2.text)\r\n",
        "print(word3.text)"
      ],
      "execution_count": 36,
      "outputs": [
        {
          "output_type": "stream",
          "text": [
            "In\n",
            "dem\n",
            "Unterschied\n"
          ],
          "name": "stdout"
        }
      ]
    },
    {
      "cell_type": "code",
      "metadata": {
        "colab": {
          "base_uri": "https://localhost:8080/"
        },
        "id": "GvEg6QfyioAQ",
        "outputId": "29411545-1d57-41e6-d21a-399e1cc0d394"
      },
      "source": [
        "print(word1.lemma)\r\n",
        "print(word2.lemma)\r\n",
        "print(word3.lemma)"
      ],
      "execution_count": 37,
      "outputs": [
        {
          "output_type": "stream",
          "text": [
            "in\n",
            "der\n",
            "Unterschied\n"
          ],
          "name": "stdout"
        }
      ]
    },
    {
      "cell_type": "code",
      "metadata": {
        "colab": {
          "base_uri": "https://localhost:8080/"
        },
        "id": "6XB5ZJQlixxK",
        "outputId": "f407bcde-0211-40a5-a23f-83db78f27a23"
      },
      "source": [
        "print(word1.upos)\r\n",
        "print(word2.upos)\r\n",
        "print(word2.upos)"
      ],
      "execution_count": 38,
      "outputs": [
        {
          "output_type": "stream",
          "text": [
            "ADP\n",
            "DET\n",
            "DET\n"
          ],
          "name": "stdout"
        }
      ]
    },
    {
      "cell_type": "code",
      "metadata": {
        "colab": {
          "base_uri": "https://localhost:8080/"
        },
        "id": "JrmC9F_ii2TH",
        "outputId": "1c45e9a7-f939-49dc-b3f9-a9386f251159"
      },
      "source": [
        "print(word1.xpos)\r\n",
        "print(word2.xpos)\r\n",
        "print(word3.xpos)"
      ],
      "execution_count": 39,
      "outputs": [
        {
          "output_type": "stream",
          "text": [
            "APPR\n",
            "ART\n",
            "NN\n"
          ],
          "name": "stdout"
        }
      ]
    },
    {
      "cell_type": "code",
      "metadata": {
        "colab": {
          "base_uri": "https://localhost:8080/"
        },
        "id": "b3zOWi9oi6z4",
        "outputId": "a9db2248-8f9c-40bd-a75b-3ee019f57d15"
      },
      "source": [
        "print(word1.feats)\r\n",
        "print(word2.feats)\r\n",
        "print(word3.feats)"
      ],
      "execution_count": 40,
      "outputs": [
        {
          "output_type": "stream",
          "text": [
            "None\n",
            "Case=Dat|Definite=Def|Gender=Masc|Number=Sing|PronType=Art\n",
            "Case=Dat|Gender=Masc|Number=Sing\n"
          ],
          "name": "stdout"
        }
      ]
    },
    {
      "cell_type": "code",
      "metadata": {
        "colab": {
          "base_uri": "https://localhost:8080/"
        },
        "id": "fLQyo1RTjFAy",
        "outputId": "b9b176f1-8170-4c94-da71-e5f36150199a"
      },
      "source": [
        "print(word1.head)\r\n",
        "print(word2.head)\r\n",
        "print(word3.head)"
      ],
      "execution_count": 41,
      "outputs": [
        {
          "output_type": "stream",
          "text": [
            "3\n",
            "3\n",
            "26\n"
          ],
          "name": "stdout"
        }
      ]
    },
    {
      "cell_type": "code",
      "metadata": {
        "colab": {
          "base_uri": "https://localhost:8080/"
        },
        "id": "vbvT_vidjL1Y",
        "outputId": "13175148-a4dd-40df-a3f6-2e3bee38d9b3"
      },
      "source": [
        "print(word1.deprel)\r\n",
        "print(word2.deprel)\r\n",
        "print(word3.deprel)"
      ],
      "execution_count": 42,
      "outputs": [
        {
          "output_type": "stream",
          "text": [
            "case\n",
            "det\n",
            "obl\n"
          ],
          "name": "stdout"
        }
      ]
    },
    {
      "cell_type": "code",
      "metadata": {
        "colab": {
          "base_uri": "https://localhost:8080/"
        },
        "id": "Ko0K4SKSjTgJ",
        "outputId": "84aa940b-96e3-4fb2-fc37-346ef0147f6e"
      },
      "source": [
        "print(word1.deps)\r\n",
        "print(word2.deps)\r\n",
        "print(word3.deps)"
      ],
      "execution_count": 43,
      "outputs": [
        {
          "output_type": "stream",
          "text": [
            "None\n",
            "None\n",
            "None\n"
          ],
          "name": "stdout"
        }
      ]
    },
    {
      "cell_type": "code",
      "metadata": {
        "id": "mfF8OIkJjcnA"
      },
      "source": [
        "for sent in doc.sentences:\r\n",
        "  for word in sent.words :\r\n",
        "    if word.deps != None :\r\n",
        "      print(word)\r\n",
        "      print(word.deps)\r\n",
        "      print()"
      ],
      "execution_count": 44,
      "outputs": []
    },
    {
      "cell_type": "code",
      "metadata": {
        "colab": {
          "base_uri": "https://localhost:8080/"
        },
        "id": "sEcW3xCQjxlJ",
        "outputId": "0a6e36fd-2895-43a7-d500-cf15f45270eb"
      },
      "source": [
        "print(word1.misc)\r\n",
        "print(word2.misc)\r\n",
        "print(word3.misc)"
      ],
      "execution_count": 45,
      "outputs": [
        {
          "output_type": "stream",
          "text": [
            "None\n",
            "None\n",
            "start_char=3|end_char=14\n"
          ],
          "name": "stdout"
        }
      ]
    },
    {
      "cell_type": "code",
      "metadata": {
        "colab": {
          "base_uri": "https://localhost:8080/"
        },
        "id": "i3tEOeVOkO5M",
        "outputId": "8e9f88b4-656c-445d-a9ee-b2ab26e149aa"
      },
      "source": [
        "print(word1.parent)\r\n",
        "print(word2.parent)\r\n",
        "print(word3.parent)"
      ],
      "execution_count": 46,
      "outputs": [
        {
          "output_type": "stream",
          "text": [
            "[\n",
            "  {\n",
            "    \"id\": [\n",
            "      1,\n",
            "      2\n",
            "    ],\n",
            "    \"text\": \"Im\",\n",
            "    \"ner\": \"O\",\n",
            "    \"misc\": \"start_char=0|end_char=2\"\n",
            "  },\n",
            "  {\n",
            "    \"id\": 1,\n",
            "    \"text\": \"In\",\n",
            "    \"lemma\": \"in\",\n",
            "    \"upos\": \"ADP\",\n",
            "    \"xpos\": \"APPR\",\n",
            "    \"head\": 3,\n",
            "    \"deprel\": \"case\"\n",
            "  },\n",
            "  {\n",
            "    \"id\": 2,\n",
            "    \"text\": \"dem\",\n",
            "    \"lemma\": \"der\",\n",
            "    \"upos\": \"DET\",\n",
            "    \"xpos\": \"ART\",\n",
            "    \"feats\": \"Case=Dat|Definite=Def|Gender=Masc|Number=Sing|PronType=Art\",\n",
            "    \"head\": 3,\n",
            "    \"deprel\": \"det\"\n",
            "  }\n",
            "]\n",
            "[\n",
            "  {\n",
            "    \"id\": [\n",
            "      1,\n",
            "      2\n",
            "    ],\n",
            "    \"text\": \"Im\",\n",
            "    \"ner\": \"O\",\n",
            "    \"misc\": \"start_char=0|end_char=2\"\n",
            "  },\n",
            "  {\n",
            "    \"id\": 1,\n",
            "    \"text\": \"In\",\n",
            "    \"lemma\": \"in\",\n",
            "    \"upos\": \"ADP\",\n",
            "    \"xpos\": \"APPR\",\n",
            "    \"head\": 3,\n",
            "    \"deprel\": \"case\"\n",
            "  },\n",
            "  {\n",
            "    \"id\": 2,\n",
            "    \"text\": \"dem\",\n",
            "    \"lemma\": \"der\",\n",
            "    \"upos\": \"DET\",\n",
            "    \"xpos\": \"ART\",\n",
            "    \"feats\": \"Case=Dat|Definite=Def|Gender=Masc|Number=Sing|PronType=Art\",\n",
            "    \"head\": 3,\n",
            "    \"deprel\": \"det\"\n",
            "  }\n",
            "]\n",
            "[\n",
            "  {\n",
            "    \"id\": 3,\n",
            "    \"text\": \"Unterschied\",\n",
            "    \"lemma\": \"Unterschied\",\n",
            "    \"upos\": \"NOUN\",\n",
            "    \"xpos\": \"NN\",\n",
            "    \"feats\": \"Case=Dat|Gender=Masc|Number=Sing\",\n",
            "    \"head\": 26,\n",
            "    \"deprel\": \"obl\",\n",
            "    \"misc\": \"start_char=3|end_char=14\",\n",
            "    \"ner\": \"O\"\n",
            "  }\n",
            "]\n"
          ],
          "name": "stdout"
        }
      ]
    },
    {
      "cell_type": "markdown",
      "metadata": {
        "id": "sjsZcwuokiZY"
      },
      "source": [
        "# Data Object 5: Span\r\n",
        "* A range of objects (e.g. Named Entities) can be represented as a ```Span```.\r\n",
        "## Properties\r\n",
        "  * **text**: The *text(string)* of the span.\r\n",
        "  * **token**: The list of tokens that correspond to the span.\r\n",
        "  * **words**: The list of words that correspond to the span.\r\n",
        "  * **type**: The entity type of the span.\r\n",
        "  * **start_char**: The start character offset of the span in the document.\r\n",
        "  * **end_char**: The end character offset of the span in the document.\r\n"
      ]
    },
    {
      "cell_type": "code",
      "metadata": {
        "id": "43pMC-Ggkh9p"
      },
      "source": [
        "doc = nlp(\"\"\"Seine Musik und die seiner Alter Egos, darunter \"Ziggy Stardust\", bleibt jedoch zeitlos.\"\"\")"
      ],
      "execution_count": 47,
      "outputs": []
    },
    {
      "cell_type": "code",
      "metadata": {
        "id": "FxMjSeAtlcXf"
      },
      "source": [
        "sent = doc.sentences[0]"
      ],
      "execution_count": 48,
      "outputs": []
    },
    {
      "cell_type": "code",
      "metadata": {
        "colab": {
          "base_uri": "https://localhost:8080/"
        },
        "id": "aTCZgXCdle3m",
        "outputId": "c70773b4-b8d1-443b-b3ba-6bfa8b9d647b"
      },
      "source": [
        "sent.entities"
      ],
      "execution_count": 49,
      "outputs": [
        {
          "output_type": "execute_result",
          "data": {
            "text/plain": [
              "[{\n",
              "   \"text\": \"Ziggy Stardust\",\n",
              "   \"type\": \"MISC\",\n",
              "   \"start_char\": 49,\n",
              "   \"end_char\": 63\n",
              " }]"
            ]
          },
          "metadata": {
            "tags": []
          },
          "execution_count": 49
        }
      ]
    },
    {
      "cell_type": "code",
      "metadata": {
        "id": "TZhheEGzlmY1"
      },
      "source": [
        "ne = sent.entities[0]"
      ],
      "execution_count": 50,
      "outputs": []
    },
    {
      "cell_type": "code",
      "metadata": {
        "colab": {
          "base_uri": "https://localhost:8080/",
          "height": 35
        },
        "id": "9Wx89oDqlqxL",
        "outputId": "80c593e7-57f5-4997-d87b-ba06a1c2b63e"
      },
      "source": [
        "ne.text"
      ],
      "execution_count": 51,
      "outputs": [
        {
          "output_type": "execute_result",
          "data": {
            "application/vnd.google.colaboratory.intrinsic+json": {
              "type": "string"
            },
            "text/plain": [
              "'Ziggy Stardust'"
            ]
          },
          "metadata": {
            "tags": []
          },
          "execution_count": 51
        }
      ]
    },
    {
      "cell_type": "code",
      "metadata": {
        "colab": {
          "base_uri": "https://localhost:8080/"
        },
        "id": "nyjnFc8Ylsbx",
        "outputId": "1b5d2cef-3a81-4068-f866-6f255d043c78"
      },
      "source": [
        "ne.tokens"
      ],
      "execution_count": 52,
      "outputs": [
        {
          "output_type": "execute_result",
          "data": {
            "text/plain": [
              "[[\n",
              "   {\n",
              "     \"id\": 11,\n",
              "     \"text\": \"Ziggy\",\n",
              "     \"lemma\": \"Ziggy\",\n",
              "     \"upos\": \"PROPN\",\n",
              "     \"xpos\": \"NE\",\n",
              "     \"feats\": \"Case=Nom|Gender=Masc|Number=Sing\",\n",
              "     \"head\": 7,\n",
              "     \"deprel\": \"appos\",\n",
              "     \"misc\": \"start_char=49|end_char=54\",\n",
              "     \"ner\": \"B-MISC\"\n",
              "   }\n",
              " ], [\n",
              "   {\n",
              "     \"id\": 12,\n",
              "     \"text\": \"Stardust\",\n",
              "     \"lemma\": \"Stardust\",\n",
              "     \"upos\": \"PROPN\",\n",
              "     \"xpos\": \"NE\",\n",
              "     \"feats\": \"Case=Nom|Gender=Masc|Number=Sing\",\n",
              "     \"head\": 11,\n",
              "     \"deprel\": \"flat\",\n",
              "     \"misc\": \"start_char=55|end_char=63\",\n",
              "     \"ner\": \"E-MISC\"\n",
              "   }\n",
              " ]]"
            ]
          },
          "metadata": {
            "tags": []
          },
          "execution_count": 52
        }
      ]
    },
    {
      "cell_type": "code",
      "metadata": {
        "colab": {
          "base_uri": "https://localhost:8080/"
        },
        "id": "ZZ7o12bOlxrD",
        "outputId": "cc5fc760-6ed5-4ae9-d7b8-5628c3ff9318"
      },
      "source": [
        "ne.words"
      ],
      "execution_count": 53,
      "outputs": [
        {
          "output_type": "execute_result",
          "data": {
            "text/plain": [
              "[{\n",
              "   \"id\": 11,\n",
              "   \"text\": \"Ziggy\",\n",
              "   \"lemma\": \"Ziggy\",\n",
              "   \"upos\": \"PROPN\",\n",
              "   \"xpos\": \"NE\",\n",
              "   \"feats\": \"Case=Nom|Gender=Masc|Number=Sing\",\n",
              "   \"head\": 7,\n",
              "   \"deprel\": \"appos\",\n",
              "   \"misc\": \"start_char=49|end_char=54\"\n",
              " }, {\n",
              "   \"id\": 12,\n",
              "   \"text\": \"Stardust\",\n",
              "   \"lemma\": \"Stardust\",\n",
              "   \"upos\": \"PROPN\",\n",
              "   \"xpos\": \"NE\",\n",
              "   \"feats\": \"Case=Nom|Gender=Masc|Number=Sing\",\n",
              "   \"head\": 11,\n",
              "   \"deprel\": \"flat\",\n",
              "   \"misc\": \"start_char=55|end_char=63\"\n",
              " }]"
            ]
          },
          "metadata": {
            "tags": []
          },
          "execution_count": 53
        }
      ]
    },
    {
      "cell_type": "code",
      "metadata": {
        "colab": {
          "base_uri": "https://localhost:8080/",
          "height": 35
        },
        "id": "cyn8CveVl0L-",
        "outputId": "108c3dd9-6f53-4691-b587-14151d5c320e"
      },
      "source": [
        "ne.type"
      ],
      "execution_count": 54,
      "outputs": [
        {
          "output_type": "execute_result",
          "data": {
            "application/vnd.google.colaboratory.intrinsic+json": {
              "type": "string"
            },
            "text/plain": [
              "'MISC'"
            ]
          },
          "metadata": {
            "tags": []
          },
          "execution_count": 54
        }
      ]
    },
    {
      "cell_type": "code",
      "metadata": {
        "colab": {
          "base_uri": "https://localhost:8080/"
        },
        "id": "2GRO-5YIl2DT",
        "outputId": "fdf7b5df-bb24-43cf-991f-bf7aa1eae720"
      },
      "source": [
        "ne.start_char"
      ],
      "execution_count": 55,
      "outputs": [
        {
          "output_type": "execute_result",
          "data": {
            "text/plain": [
              "49"
            ]
          },
          "metadata": {
            "tags": []
          },
          "execution_count": 55
        }
      ]
    },
    {
      "cell_type": "code",
      "metadata": {
        "colab": {
          "base_uri": "https://localhost:8080/"
        },
        "id": "d0TBBjijl36A",
        "outputId": "6a2272e3-3fac-461f-a8d5-9d63b62c9288"
      },
      "source": [
        "ne.end_char"
      ],
      "execution_count": 56,
      "outputs": [
        {
          "output_type": "execute_result",
          "data": {
            "text/plain": [
              "63"
            ]
          },
          "metadata": {
            "tags": []
          },
          "execution_count": 56
        }
      ]
    },
    {
      "cell_type": "markdown",
      "metadata": {
        "id": "EHtHy4Ybl_Vh"
      },
      "source": [
        "# Processor 1: Tokenization & Sentence Segmentation\r\n",
        "* **name**: tokenize\r\n",
        "* **Annotator class name**: TokenizeProcessor\r\n",
        "* **Requirement**: - \r\n",
        "* **Description**: \r\n",
        "  * Segments a ```Document``` into ```Sentence```s, each containing a list of ```Token```s. \r\n",
        "  * Tokenizes the text and performs sentence segmentation\r\n",
        "## Options\r\n",
        "  * **tokenize_pretokenized** (default: False)\r\n",
        "    * Assume the text is tokenized by white space and sentence split by newline. \r\n",
        "  * **tokenize_no_ssplit** (defulat: False)\r\n",
        "    * Assume the sentences are split by two continuous newlines (```\\n\\n```).\r\n",
        "    * Only run tokenization and disable sentence segmentation. \r\n"
      ]
    },
    {
      "cell_type": "code",
      "metadata": {
        "id": "2UJzf0dXkElZ",
        "colab": {
          "base_uri": "https://localhost:8080/"
        },
        "outputId": "b4e46297-611e-4dd7-b115-941fa92a2ba9"
      },
      "source": [
        "#tokenization and sentence segmentation - default\r\n",
        "doc = nlp(\"\"\"An diesem 10. Januar jährt sich David Bowies Todestag zum fünften Mal. Seine Musik und die seiner Alter Egos, darunter \"Ziggy Stardust\", bleibt jedoch zeitlos.\"\"\")\r\n",
        "sentences = doc.sentences #한 문장이 하나의 요소를 이루는 리스트\r\n",
        "for i, sentence in enumerate(sentences) :\r\n",
        "  print(f'=== SENTENCE {i+1} tokens ===')\r\n",
        "  for token in sentence.tokens :\r\n",
        "    print(\"id: \",token.id, end = \"\\t\")\r\n",
        "    print(\"token: \" + token.text)"
      ],
      "execution_count": 57,
      "outputs": [
        {
          "output_type": "stream",
          "text": [
            "=== SENTENCE 1 tokens ===\n",
            "id:  (1,)\ttoken: An\n",
            "id:  (2,)\ttoken: diesem\n",
            "id:  (3,)\ttoken: 10\n",
            "id:  (4,)\ttoken: .\n",
            "=== SENTENCE 2 tokens ===\n",
            "id:  (1,)\ttoken: Januar\n",
            "id:  (2,)\ttoken: jährt\n",
            "id:  (3,)\ttoken: sich\n",
            "id:  (4,)\ttoken: David\n",
            "id:  (5,)\ttoken: Bowies\n",
            "id:  (6,)\ttoken: Todestag\n",
            "id:  (7, 8)\ttoken: zum\n",
            "id:  (9,)\ttoken: fünften\n",
            "id:  (10,)\ttoken: Mal\n",
            "id:  (11,)\ttoken: .\n",
            "=== SENTENCE 3 tokens ===\n",
            "id:  (1,)\ttoken: Seine\n",
            "id:  (2,)\ttoken: Musik\n",
            "id:  (3,)\ttoken: und\n",
            "id:  (4,)\ttoken: die\n",
            "id:  (5,)\ttoken: seiner\n",
            "id:  (6,)\ttoken: Alter\n",
            "id:  (7,)\ttoken: Egos\n",
            "id:  (8,)\ttoken: ,\n",
            "id:  (9,)\ttoken: darunter\n",
            "id:  (10,)\ttoken: \"\n",
            "id:  (11,)\ttoken: Ziggy\n",
            "id:  (12,)\ttoken: Stardust\n",
            "id:  (13,)\ttoken: \"\n",
            "id:  (14,)\ttoken: ,\n",
            "id:  (15,)\ttoken: bleibt\n",
            "id:  (16,)\ttoken: jedoch\n",
            "id:  (17,)\ttoken: zeitlos\n",
            "id:  (18,)\ttoken: .\n"
          ],
          "name": "stdout"
        }
      ]
    },
    {
      "cell_type": "code",
      "metadata": {
        "colab": {
          "base_uri": "https://localhost:8080/"
        },
        "id": "MITPr3FiuE2k",
        "outputId": "95de4a93-831e-4b37-d925-192dbca273bb"
      },
      "source": [
        "#tokenization and sentence segmentation - tokenize_no_ssplit = True: Sentence segmentation을 하지 않음\r\n",
        "nlp = stanza.Pipeline(lang = 'de', tokenize_no_ssplit = True)\r\n",
        "doc = nlp(\"\"\"An diesem 10. Januar jährt sich David Bowies Todestag zum fünften Mal.Seine Musik und die seiner Alter Egos, darunter \"Ziggy Stardust\", bleibt jedoch zeitlos.\"\"\")\r\n",
        "sentences = doc.sentences #한 문장이 하나의 요소를 이루는 리스트\r\n",
        "for i, sentence in enumerate(sentences) :\r\n",
        "  print(f'=== SENTENCE {i+1} tokens ===')\r\n",
        "  for token in sentence.tokens :\r\n",
        "    print(\"id: \",token.id, end = \"\\t\")\r\n",
        "    print(\"token: \" + token.text)"
      ],
      "execution_count": 58,
      "outputs": [
        {
          "output_type": "stream",
          "text": [
            "2021-01-15 13:17:38 INFO: Loading these models for language: de (German):\n",
            "=======================\n",
            "| Processor | Package |\n",
            "-----------------------\n",
            "| tokenize  | gsd     |\n",
            "| mwt       | gsd     |\n",
            "| pos       | gsd     |\n",
            "| lemma     | gsd     |\n",
            "| depparse  | gsd     |\n",
            "| sentiment | sb10k   |\n",
            "| ner       | conll03 |\n",
            "=======================\n",
            "\n",
            "2021-01-15 13:17:38 INFO: Use device: cpu\n",
            "2021-01-15 13:17:38 INFO: Loading: tokenize\n",
            "2021-01-15 13:17:38 INFO: Loading: mwt\n",
            "2021-01-15 13:17:38 INFO: Loading: pos\n",
            "2021-01-15 13:17:39 INFO: Loading: lemma\n",
            "2021-01-15 13:17:39 INFO: Loading: depparse\n",
            "2021-01-15 13:17:40 INFO: Loading: sentiment\n",
            "2021-01-15 13:17:42 INFO: Loading: ner\n",
            "2021-01-15 13:17:43 INFO: Done loading processors!\n"
          ],
          "name": "stderr"
        },
        {
          "output_type": "stream",
          "text": [
            "=== SENTENCE 1 tokens ===\n",
            "id:  (1,)\ttoken: An\n",
            "id:  (2,)\ttoken: diesem\n",
            "id:  (3,)\ttoken: 10\n",
            "id:  (4,)\ttoken: .\n",
            "id:  (5,)\ttoken: Januar\n",
            "id:  (6,)\ttoken: jährt\n",
            "id:  (7,)\ttoken: sich\n",
            "id:  (8,)\ttoken: David\n",
            "id:  (9,)\ttoken: Bowies\n",
            "id:  (10,)\ttoken: Todestag\n",
            "id:  (11, 12)\ttoken: zum\n",
            "id:  (13,)\ttoken: fünften\n",
            "id:  (14,)\ttoken: Mal.Seine\n",
            "id:  (15,)\ttoken: Musik\n",
            "id:  (16,)\ttoken: und\n",
            "id:  (17,)\ttoken: die\n",
            "id:  (18,)\ttoken: seiner\n",
            "id:  (19,)\ttoken: Alter\n",
            "id:  (20,)\ttoken: Egos\n",
            "id:  (21,)\ttoken: ,\n",
            "id:  (22,)\ttoken: darunter\n",
            "id:  (23,)\ttoken: \"\n",
            "id:  (24,)\ttoken: Ziggy\n",
            "id:  (25,)\ttoken: Stardust\n",
            "id:  (26,)\ttoken: \"\n",
            "id:  (27,)\ttoken: ,\n",
            "id:  (28,)\ttoken: bleibt\n",
            "id:  (29,)\ttoken: jedoch\n",
            "id:  (30,)\ttoken: zeitlos\n",
            "id:  (31,)\ttoken: .\n"
          ],
          "name": "stdout"
        }
      ]
    },
    {
      "cell_type": "code",
      "metadata": {
        "colab": {
          "base_uri": "https://localhost:8080/"
        },
        "id": "uppblW_Wp6Oz",
        "outputId": "d4e0de76-381e-45b4-cf2f-4e0d08271138"
      },
      "source": [
        "#tokenization and sentence segmentation - tokenize_pretokenized = True: \\n를 기준으로 문장을 분절\r\n",
        "nlp = stanza.Pipeline(lang = 'de', tokenize_pretokenized = True)\r\n",
        "doc = nlp(\"\"\"An diesem 10. Januar jährt sich David Bowies Todestag zum fünften Mal.\\nSeine Musik und die seiner Alter Egos, darunter \"Ziggy Stardust\", bleibt jedoch zeitlos.\"\"\")\r\n",
        "sentences = doc.sentences #한 문장이 하나의 요소를 이루는 리스트\r\n",
        "for i, sentence in enumerate(sentences) :\r\n",
        "  print(f'=== SENTENCE {i+1} tokens ===')\r\n",
        "  for token in sentence.tokens :\r\n",
        "    print(\"id: \",token.id, end = \"\\t\")\r\n",
        "    print(\"token: \" + token.text)"
      ],
      "execution_count": 59,
      "outputs": [
        {
          "output_type": "stream",
          "text": [
            "2021-01-15 13:17:44 INFO: Loading these models for language: de (German):\n",
            "=======================\n",
            "| Processor | Package |\n",
            "-----------------------\n",
            "| tokenize  | gsd     |\n",
            "| mwt       | gsd     |\n",
            "| pos       | gsd     |\n",
            "| lemma     | gsd     |\n",
            "| depparse  | gsd     |\n",
            "| sentiment | sb10k   |\n",
            "| ner       | conll03 |\n",
            "=======================\n",
            "\n",
            "2021-01-15 13:17:44 INFO: Use device: cpu\n",
            "2021-01-15 13:17:44 INFO: Loading: tokenize\n",
            "2021-01-15 13:17:44 INFO: Loading: mwt\n",
            "2021-01-15 13:17:44 INFO: Loading: pos\n",
            "2021-01-15 13:17:45 INFO: Loading: lemma\n",
            "2021-01-15 13:17:45 INFO: Loading: depparse\n",
            "2021-01-15 13:17:46 INFO: Loading: sentiment\n",
            "2021-01-15 13:17:48 INFO: Loading: ner\n",
            "2021-01-15 13:17:49 INFO: Done loading processors!\n"
          ],
          "name": "stderr"
        },
        {
          "output_type": "stream",
          "text": [
            "=== SENTENCE 1 tokens ===\n",
            "id:  (1,)\ttoken: An\n",
            "id:  (2,)\ttoken: diesem\n",
            "id:  (3,)\ttoken: 10.\n",
            "id:  (4,)\ttoken: Januar\n",
            "id:  (5,)\ttoken: jährt\n",
            "id:  (6,)\ttoken: sich\n",
            "id:  (7,)\ttoken: David\n",
            "id:  (8,)\ttoken: Bowies\n",
            "id:  (9,)\ttoken: Todestag\n",
            "id:  (10,)\ttoken: zum\n",
            "id:  (11,)\ttoken: fünften\n",
            "id:  (12,)\ttoken: Mal.\n",
            "=== SENTENCE 2 tokens ===\n",
            "id:  (1,)\ttoken: Seine\n",
            "id:  (2,)\ttoken: Musik\n",
            "id:  (3,)\ttoken: und\n",
            "id:  (4,)\ttoken: die\n",
            "id:  (5,)\ttoken: seiner\n",
            "id:  (6,)\ttoken: Alter\n",
            "id:  (7,)\ttoken: Egos,\n",
            "id:  (8,)\ttoken: darunter\n",
            "id:  (9,)\ttoken: \"Ziggy\n",
            "id:  (10,)\ttoken: Stardust\",\n",
            "id:  (11,)\ttoken: bleibt\n",
            "id:  (12,)\ttoken: jedoch\n",
            "id:  (13,)\ttoken: zeitlos.\n"
          ],
          "name": "stdout"
        }
      ]
    },
    {
      "cell_type": "markdown",
      "metadata": {
        "id": "BaP1oIUkuhAI"
      },
      "source": [
        "# Processor 2: Multi-Word Token (MWT) Expansion\r\n",
        "* **Name**: mwt\r\n",
        "* **MWTProcessor**: MWTProcessor\r\n",
        "* **Requirement**: tokenize\r\n",
        "* **Description**: \r\n",
        "  * Expands multi-word tokens into multi words when they are predicted by the tokenizer. \r\n",
        "  * Each ```Token``` will correspond to one or more ```Word```s\r\n"
      ]
    },
    {
      "cell_type": "code",
      "metadata": {
        "id": "-hatG9yjteJV"
      },
      "source": [
        "nlp = stanza.Pipeline('de')\r\n",
        "doc = nlp(\"\"\"Jede Sprachversion von Wikipedia ist ein eigenständiges Projekt. Das heißt, Artikel zum gleichen Thema werden in verschiedenen Sprachen von unterschiedlichen Autoren geschrieben und bearbeitet. Diese können unterschiedliche Schwerpunkte setzen. Doch es kann auch dazu kommen, dass gerade politisch heikle Themen in verschiedenen Sprachen anders gedeutet werden. Ein Beispiel ist die Situation um die Halbinsel Krim, die Russland im März 2014 von der Ukraine annektiert hat.\"\"\")\r\n",
        "sentences = doc.sentences"
      ],
      "execution_count": null,
      "outputs": []
    },
    {
      "cell_type": "code",
      "metadata": {
        "id": "U1_uHjMq8AxI"
      },
      "source": [
        "# token -> word\r\n",
        "for i, sentence in enumerate(sentences) :\r\n",
        "  print(f'=== SENTENCE {i+1} tokens ===')\r\n",
        "  for token in sentence.tokens :\r\n",
        "    print(\"token: \",token.text, end = \"\\t\")\r\n",
        "    print(f\"words: {', '.join([word.text for word in token.words])}\")"
      ],
      "execution_count": null,
      "outputs": []
    },
    {
      "cell_type": "code",
      "metadata": {
        "id": "aP2f6v7PJg2i"
      },
      "source": [
        "#mwt만 추출\r\n",
        "for i, sentence in enumerate(sentences) :\r\n",
        "  print(f'=== SENTENCE {i+1} tokens ===')\r\n",
        "  for token in sentence.tokens:\r\n",
        "    word = token.words[0].text\r\n",
        "    if token.text != word : \r\n",
        "      print(\"token: \",token.text, end = \"\\t\")\r\n",
        "      print(f\"words: {', '.join([word.text for word in token.words])}\")"
      ],
      "execution_count": null,
      "outputs": []
    },
    {
      "cell_type": "code",
      "metadata": {
        "colab": {
          "base_uri": "https://localhost:8080/"
        },
        "id": "AC3TD9CmJ89M",
        "outputId": "debd50c3-f977-4877-9a74-df58d4c4077f"
      },
      "source": [
        "# word -> token\r\n",
        "for i, sentence in enumerate(sentences) :\r\n",
        "  print(f'=== SENTENCE {i+1} words ===')\r\n",
        "  for word in sentence.words :\r\n",
        "    print(\"word: \",word.text, end = \"\\t\")\r\n",
        "    print(\"parent token: \", word.parent.text)"
      ],
      "execution_count": 63,
      "outputs": [
        {
          "output_type": "stream",
          "text": [
            "=== SENTENCE 1 words ===\n",
            "word:  Jede\tparent token:  Jede\n",
            "word:  Sprachversion\tparent token:  Sprachversion\n",
            "word:  von\tparent token:  von\n",
            "word:  Wikipedia\tparent token:  Wikipedia\n",
            "word:  ist\tparent token:  ist\n",
            "word:  ein\tparent token:  ein\n",
            "word:  eigenständiges\tparent token:  eigenständiges\n",
            "word:  Projekt\tparent token:  Projekt\n",
            "word:  .\tparent token:  .\n",
            "=== SENTENCE 2 words ===\n",
            "word:  Das\tparent token:  Das\n",
            "word:  heißt\tparent token:  heißt\n",
            "word:  ,\tparent token:  ,\n",
            "word:  Artikel\tparent token:  Artikel\n",
            "word:  zu\tparent token:  zum\n",
            "word:  dem\tparent token:  zum\n",
            "word:  gleichen\tparent token:  gleichen\n",
            "word:  Thema\tparent token:  Thema\n",
            "word:  werden\tparent token:  werden\n",
            "word:  in\tparent token:  in\n",
            "word:  verschiedenen\tparent token:  verschiedenen\n",
            "word:  Sprachen\tparent token:  Sprachen\n",
            "word:  von\tparent token:  von\n",
            "word:  unterschiedlichen\tparent token:  unterschiedlichen\n",
            "word:  Autoren\tparent token:  Autoren\n",
            "word:  geschrieben\tparent token:  geschrieben\n",
            "word:  und\tparent token:  und\n",
            "word:  bearbeitet\tparent token:  bearbeitet\n",
            "word:  .\tparent token:  .\n",
            "=== SENTENCE 3 words ===\n",
            "word:  Diese\tparent token:  Diese\n",
            "word:  können\tparent token:  können\n",
            "word:  unterschiedliche\tparent token:  unterschiedliche\n",
            "word:  Schwerpunkte\tparent token:  Schwerpunkte\n",
            "word:  setzen\tparent token:  setzen\n",
            "word:  .\tparent token:  .\n",
            "=== SENTENCE 4 words ===\n",
            "word:  Doch\tparent token:  Doch\n",
            "word:  es\tparent token:  es\n",
            "word:  kann\tparent token:  kann\n",
            "word:  auch\tparent token:  auch\n",
            "word:  dazu\tparent token:  dazu\n",
            "word:  kommen\tparent token:  kommen\n",
            "word:  ,\tparent token:  ,\n",
            "word:  dass\tparent token:  dass\n",
            "word:  gerade\tparent token:  gerade\n",
            "word:  politisch\tparent token:  politisch\n",
            "word:  heikle\tparent token:  heikle\n",
            "word:  Themen\tparent token:  Themen\n",
            "word:  in\tparent token:  in\n",
            "word:  verschiedenen\tparent token:  verschiedenen\n",
            "word:  Sprachen\tparent token:  Sprachen\n",
            "word:  anders\tparent token:  anders\n",
            "word:  gedeutet\tparent token:  gedeutet\n",
            "word:  werden\tparent token:  werden\n",
            "word:  .\tparent token:  .\n",
            "=== SENTENCE 5 words ===\n",
            "word:  Ein\tparent token:  Ein\n",
            "word:  Beispiel\tparent token:  Beispiel\n",
            "word:  ist\tparent token:  ist\n",
            "word:  die\tparent token:  die\n",
            "word:  Situation\tparent token:  Situation\n",
            "word:  um\tparent token:  um\n",
            "word:  die\tparent token:  die\n",
            "word:  Halbinsel\tparent token:  Halbinsel\n",
            "word:  Krim\tparent token:  Krim\n",
            "word:  ,\tparent token:  ,\n",
            "word:  die\tparent token:  die\n",
            "word:  Russland\tparent token:  Russland\n",
            "word:  in\tparent token:  im\n",
            "word:  dem\tparent token:  im\n",
            "word:  März\tparent token:  März\n",
            "word:  2014\tparent token:  2014\n",
            "word:  von\tparent token:  von\n",
            "word:  der\tparent token:  der\n",
            "word:  Ukraine\tparent token:  Ukraine\n",
            "word:  annektiert\tparent token:  annektiert\n",
            "word:  hat\tparent token:  hat\n",
            "word:  .\tparent token:  .\n"
          ],
          "name": "stdout"
        }
      ]
    },
    {
      "cell_type": "code",
      "metadata": {
        "id": "l-TM3gUqL0Rh"
      },
      "source": [
        "#mwt만 추출\r\n",
        "for i, sentence in enumerate(sentences) :\r\n",
        "  print(f'=== SENTENCE {i+1} words ===')\r\n",
        "  for word in sentence.words :\r\n",
        "    if word.text != word.parent.text:\r\n",
        "      print(\"word: \",word.text, end = \"\\t\")\r\n",
        "      print(\"parent token: \", word.parent.text)"
      ],
      "execution_count": null,
      "outputs": []
    },
    {
      "cell_type": "markdown",
      "metadata": {
        "id": "ZVujjTTWR0AN"
      },
      "source": [
        "# Processor 3: Part-of-Speech & Morphological Features\r\n",
        "* **Name**: pos\r\n",
        "* **Annotator class name**: POSProcessor\r\n",
        "* **Requirement**: tokenize, mwt\r\n",
        "* **Description**: UPOS, XPOS and UFeats through ```Word```'s properties"
      ]
    },
    {
      "cell_type": "code",
      "metadata": {
        "id": "f5eqWRAfL_5g"
      },
      "source": [
        "for i, sentence in enumerate(sentences) :\r\n",
        "  print(f'=== SENTENCE {i+1} words ===')\r\n",
        "  for word in sentence.words:\r\n",
        "    print(\"word: \", word.text, end = '\\t')\r\n",
        "    print(\"upos: \", word.upos, end = '\\t')\r\n",
        "    print(\"xpos: \", word.xpos, end = '\\t')\r\n",
        "    print(\"feats: \", word.feats)"
      ],
      "execution_count": null,
      "outputs": []
    },
    {
      "cell_type": "code",
      "metadata": {
        "id": "VaqfZ3cwTGIO"
      },
      "source": [
        "#upos == NOUN만 프린트\r\n",
        "for i, sentence in enumerate(sentences) :\r\n",
        "  print(f'=== SENTENCE {i+1} words ===')\r\n",
        "  for word in sentence.words:\r\n",
        "    if word.upos == 'NOUN' :\r\n",
        "      print(\"word: \", word.text, end = '\\t')\r\n",
        "      print(\"feats: \", word.feats)"
      ],
      "execution_count": null,
      "outputs": []
    },
    {
      "cell_type": "code",
      "metadata": {
        "id": "Qe3Z0eABTg1v"
      },
      "source": [
        "#feats: Gender = Fem, Number = Sing만 추출\r\n",
        "for i, sentence in enumerate(sentences) :\r\n",
        "  print(f'=== SENTENCE {i+1} words ===')\r\n",
        "  for word in sentence.words:\r\n",
        "    if word.feats is not None:\r\n",
        "      features = word.feats.split(\"|\")\r\n",
        "      if 'Gender=Fem' in features and 'Number=Sing' in features :\r\n",
        "        print(\"word: \", word.text, end = \"\\t\")\r\n",
        "        print(\"upos: \", word.upos, end = \"\\t\")\r\n",
        "        print(\"feats: \", word.feats)     "
      ],
      "execution_count": null,
      "outputs": []
    },
    {
      "cell_type": "markdown",
      "metadata": {
        "id": "wOSRnTMUVxt9"
      },
      "source": [
        "# Processor 4: Lemmatization\r\n",
        "* **Name**: lemma\r\n",
        "* **Annotator class name**: LemmaProcessor\r\n",
        "* **Requirement**: tokenize, mwt, pos\r\n",
        "* **Desciption**: Gererates the ```Word``` lemmas for all words in the document. "
      ]
    },
    {
      "cell_type": "code",
      "metadata": {
        "id": "UduvxDh3T3hV"
      },
      "source": [
        "sentence = sentences[0]\r\n",
        "sentence.text"
      ],
      "execution_count": null,
      "outputs": []
    },
    {
      "cell_type": "code",
      "metadata": {
        "colab": {
          "base_uri": "https://localhost:8080/"
        },
        "id": "co5W3imrWRVQ",
        "outputId": "2c967fcc-3f53-40c0-8b45-7eef26be2de5"
      },
      "source": [
        "for word in sentence.words :\r\n",
        "  print(\"word: \", word.text, end = \"\\t\")\r\n",
        "  print(\"lemma: \", word.lemma)"
      ],
      "execution_count": 69,
      "outputs": [
        {
          "output_type": "stream",
          "text": [
            "word:  Jede\tlemma:  jed\n",
            "word:  Sprachversion\tlemma:  Sprachversion\n",
            "word:  von\tlemma:  von\n",
            "word:  Wikipedia\tlemma:  Wikipedia\n",
            "word:  ist\tlemma:  sein\n",
            "word:  ein\tlemma:  ein\n",
            "word:  eigenständiges\tlemma:  eigenständig\n",
            "word:  Projekt\tlemma:  Projekt\n",
            "word:  .\tlemma:  .\n"
          ],
          "name": "stdout"
        }
      ]
    },
    {
      "cell_type": "code",
      "metadata": {
        "colab": {
          "base_uri": "https://localhost:8080/"
        },
        "id": "vi48z4WuWd7f",
        "outputId": "33dac331-53bf-42fc-f90c-502008bf183d"
      },
      "source": [
        "#문장 단위로 lemmatization\r\n",
        "for sentence in sentences :\r\n",
        "  print(sentence.text, end = \"\\t\")\r\n",
        "  print(\"==lemmatization===>\", end = \"\\t\")\r\n",
        "  print(' '.join(word.lemma for word in sentence.words))"
      ],
      "execution_count": 70,
      "outputs": [
        {
          "output_type": "stream",
          "text": [
            "Jede Sprachversion von Wikipedia ist ein eigenständiges Projekt.\t==lemmatization===>\tjed Sprachversion von Wikipedia sein ein eigenständig Projekt .\n",
            "Das heißt, Artikel zum gleichen Thema werden in verschiedenen Sprachen von unterschiedlichen Autoren geschrieben und bearbeitet.\t==lemmatization===>\tder heißen , Artikel zu der gleich Thema werden in verschieden Sprache von unterschiedlich Autor schreiben und bearbeiten .\n",
            "Diese können unterschiedliche Schwerpunkte setzen.\t==lemmatization===>\tdies können unterschiedlich Schwerpunkt setzen .\n",
            "Doch es kann auch dazu kommen, dass gerade politisch heikle Themen in verschiedenen Sprachen anders gedeutet werden.\t==lemmatization===>\tdoch es können auch dazu kommen , dass gerade politisch heikl Thema in verschieden Sprache anders deuten werden .\n",
            "Ein Beispiel ist die Situation um die Halbinsel Krim, die Russland im März 2014 von der Ukraine annektiert hat.\t==lemmatization===>\tein Beispiel sein der Situation um der Halbinsel Krim , der Rußland in der März 2014 von der Ukraine annektieren haben .\n"
          ],
          "name": "stdout"
        }
      ]
    },
    {
      "cell_type": "markdown",
      "metadata": {
        "id": "eRGv-agYXJ9L"
      },
      "source": [
        "# Processor 5: Dependency Parsing\r\n",
        "* **Name**: depparse\r\n",
        "* **Annotator class name**: DepparseProcessor\r\n",
        "* **Requirement**: tokenize, mwt, pos, lemma\r\n",
        "* **Description**: Determines the syntactic head of each word in a sentence and the dependency relation between the two words that are accessible through ```Word```'s ```head``` and ```deprel``` attrubutes."
      ]
    },
    {
      "cell_type": "code",
      "metadata": {
        "colab": {
          "base_uri": "https://localhost:8080/"
        },
        "id": "2JKXVv9eWuvT",
        "outputId": "bf402f54-03e1-4336-efde-42c88bf530c6"
      },
      "source": [
        "for i, sentence in enumerate(sentences) :\r\n",
        "  print(f'=== SENTENCE {i+1} words ===')\r\n",
        "  for word in sentence.words:\r\n",
        "      print(\"word id : \", word.id, end = '\\t')\r\n",
        "      print(\"word: \", word.text, end = \"\\t\")\r\n",
        "      print(\"head id: \", word.head, end = \"\\t\")\r\n",
        "      print(\"head: \", end = \"\")\r\n",
        "      if word.head > 0 :\r\n",
        "        print(sentence.words[word.head-1].text, end = \"\\t\")\r\n",
        "      else :\r\n",
        "        print(\"root\", end = \"\\t\")\r\n",
        "      print(\"deprel: \", word.deprel)"
      ],
      "execution_count": 71,
      "outputs": [
        {
          "output_type": "stream",
          "text": [
            "=== SENTENCE 1 words ===\n",
            "word id :  1\tword:  Jede\thead id:  2\thead: Sprachversion\tdeprel:  det\n",
            "word id :  2\tword:  Sprachversion\thead id:  8\thead: Projekt\tdeprel:  nsubj\n",
            "word id :  3\tword:  von\thead id:  4\thead: Wikipedia\tdeprel:  case\n",
            "word id :  4\tword:  Wikipedia\thead id:  2\thead: Sprachversion\tdeprel:  nmod\n",
            "word id :  5\tword:  ist\thead id:  8\thead: Projekt\tdeprel:  cop\n",
            "word id :  6\tword:  ein\thead id:  8\thead: Projekt\tdeprel:  det\n",
            "word id :  7\tword:  eigenständiges\thead id:  8\thead: Projekt\tdeprel:  amod\n",
            "word id :  8\tword:  Projekt\thead id:  0\thead: root\tdeprel:  root\n",
            "word id :  9\tword:  .\thead id:  8\thead: Projekt\tdeprel:  punct\n",
            "=== SENTENCE 2 words ===\n",
            "word id :  1\tword:  Das\thead id:  2\thead: heißt\tdeprel:  nsubj\n",
            "word id :  2\tword:  heißt\thead id:  0\thead: root\tdeprel:  root\n",
            "word id :  3\tword:  ,\thead id:  16\thead: geschrieben\tdeprel:  punct\n",
            "word id :  4\tword:  Artikel\thead id:  16\thead: geschrieben\tdeprel:  nsubj:pass\n",
            "word id :  5\tword:  zu\thead id:  8\thead: Thema\tdeprel:  case\n",
            "word id :  6\tword:  dem\thead id:  8\thead: Thema\tdeprel:  det\n",
            "word id :  7\tword:  gleichen\thead id:  8\thead: Thema\tdeprel:  amod\n",
            "word id :  8\tword:  Thema\thead id:  4\thead: Artikel\tdeprel:  nmod\n",
            "word id :  9\tword:  werden\thead id:  16\thead: geschrieben\tdeprel:  aux:pass\n",
            "word id :  10\tword:  in\thead id:  12\thead: Sprachen\tdeprel:  case\n",
            "word id :  11\tword:  verschiedenen\thead id:  12\thead: Sprachen\tdeprel:  amod\n",
            "word id :  12\tword:  Sprachen\thead id:  16\thead: geschrieben\tdeprel:  obl\n",
            "word id :  13\tword:  von\thead id:  15\thead: Autoren\tdeprel:  case\n",
            "word id :  14\tword:  unterschiedlichen\thead id:  15\thead: Autoren\tdeprel:  amod\n",
            "word id :  15\tword:  Autoren\thead id:  12\thead: Sprachen\tdeprel:  nmod\n",
            "word id :  16\tword:  geschrieben\thead id:  2\thead: heißt\tdeprel:  conj\n",
            "word id :  17\tword:  und\thead id:  18\thead: bearbeitet\tdeprel:  cc\n",
            "word id :  18\tword:  bearbeitet\thead id:  16\thead: geschrieben\tdeprel:  conj\n",
            "word id :  19\tword:  .\thead id:  2\thead: heißt\tdeprel:  punct\n",
            "=== SENTENCE 3 words ===\n",
            "word id :  1\tword:  Diese\thead id:  5\thead: setzen\tdeprel:  nsubj\n",
            "word id :  2\tword:  können\thead id:  5\thead: setzen\tdeprel:  aux\n",
            "word id :  3\tword:  unterschiedliche\thead id:  4\thead: Schwerpunkte\tdeprel:  amod\n",
            "word id :  4\tword:  Schwerpunkte\thead id:  5\thead: setzen\tdeprel:  obj\n",
            "word id :  5\tword:  setzen\thead id:  0\thead: root\tdeprel:  root\n",
            "word id :  6\tword:  .\thead id:  5\thead: setzen\tdeprel:  punct\n",
            "=== SENTENCE 4 words ===\n",
            "word id :  1\tword:  Doch\thead id:  6\thead: kommen\tdeprel:  cc\n",
            "word id :  2\tword:  es\thead id:  6\thead: kommen\tdeprel:  nsubj\n",
            "word id :  3\tword:  kann\thead id:  6\thead: kommen\tdeprel:  aux\n",
            "word id :  4\tword:  auch\thead id:  6\thead: kommen\tdeprel:  advmod\n",
            "word id :  5\tword:  dazu\thead id:  6\thead: kommen\tdeprel:  advmod\n",
            "word id :  6\tword:  kommen\thead id:  0\thead: root\tdeprel:  root\n",
            "word id :  7\tword:  ,\thead id:  17\thead: gedeutet\tdeprel:  punct\n",
            "word id :  8\tword:  dass\thead id:  17\thead: gedeutet\tdeprel:  mark\n",
            "word id :  9\tword:  gerade\thead id:  17\thead: gedeutet\tdeprel:  advmod\n",
            "word id :  10\tword:  politisch\thead id:  17\thead: gedeutet\tdeprel:  advmod\n",
            "word id :  11\tword:  heikle\thead id:  12\thead: Themen\tdeprel:  amod\n",
            "word id :  12\tword:  Themen\thead id:  17\thead: gedeutet\tdeprel:  nsubj:pass\n",
            "word id :  13\tword:  in\thead id:  15\thead: Sprachen\tdeprel:  case\n",
            "word id :  14\tword:  verschiedenen\thead id:  15\thead: Sprachen\tdeprel:  amod\n",
            "word id :  15\tword:  Sprachen\thead id:  12\thead: Themen\tdeprel:  nmod\n",
            "word id :  16\tword:  anders\thead id:  17\thead: gedeutet\tdeprel:  advmod\n",
            "word id :  17\tword:  gedeutet\thead id:  6\thead: kommen\tdeprel:  ccomp\n",
            "word id :  18\tword:  werden\thead id:  17\thead: gedeutet\tdeprel:  aux:pass\n",
            "word id :  19\tword:  .\thead id:  6\thead: kommen\tdeprel:  punct\n",
            "=== SENTENCE 5 words ===\n",
            "word id :  1\tword:  Ein\thead id:  2\thead: Beispiel\tdeprel:  det\n",
            "word id :  2\tword:  Beispiel\thead id:  5\thead: Situation\tdeprel:  nsubj\n",
            "word id :  3\tword:  ist\thead id:  5\thead: Situation\tdeprel:  cop\n",
            "word id :  4\tword:  die\thead id:  5\thead: Situation\tdeprel:  det\n",
            "word id :  5\tword:  Situation\thead id:  0\thead: root\tdeprel:  root\n",
            "word id :  6\tword:  um\thead id:  8\thead: Halbinsel\tdeprel:  case\n",
            "word id :  7\tword:  die\thead id:  8\thead: Halbinsel\tdeprel:  det\n",
            "word id :  8\tword:  Halbinsel\thead id:  5\thead: Situation\tdeprel:  nmod\n",
            "word id :  9\tword:  Krim\thead id:  8\thead: Halbinsel\tdeprel:  appos\n",
            "word id :  10\tword:  ,\thead id:  20\thead: annektiert\tdeprel:  punct\n",
            "word id :  11\tword:  die\thead id:  20\thead: annektiert\tdeprel:  nsubj\n",
            "word id :  12\tword:  Russland\thead id:  20\thead: annektiert\tdeprel:  obj\n",
            "word id :  13\tword:  in\thead id:  15\thead: März\tdeprel:  case\n",
            "word id :  14\tword:  dem\thead id:  15\thead: März\tdeprel:  det\n",
            "word id :  15\tword:  März\thead id:  20\thead: annektiert\tdeprel:  obl\n",
            "word id :  16\tword:  2014\thead id:  15\thead: März\tdeprel:  nmod\n",
            "word id :  17\tword:  von\thead id:  19\thead: Ukraine\tdeprel:  case\n",
            "word id :  18\tword:  der\thead id:  19\thead: Ukraine\tdeprel:  det\n",
            "word id :  19\tword:  Ukraine\thead id:  20\thead: annektiert\tdeprel:  obl\n",
            "word id :  20\tword:  annektiert\thead id:  8\thead: Halbinsel\tdeprel:  acl\n",
            "word id :  21\tword:  hat\thead id:  20\thead: annektiert\tdeprel:  aux\n",
            "word id :  22\tword:  .\thead id:  5\thead: Situation\tdeprel:  punct\n"
          ],
          "name": "stdout"
        }
      ]
    },
    {
      "cell_type": "code",
      "metadata": {
        "colab": {
          "base_uri": "https://localhost:8080/"
        },
        "id": "9tBHU8afbMVA",
        "outputId": "318ba136-b2f0-469d-f39d-a8450869aaad"
      },
      "source": [
        "# head가 root인 문장 성분만 추출\r\n",
        "for i, sentence in enumerate(sentences) :\r\n",
        "  print(f'=== SENTENCE {i+1} words ===')\r\n",
        "  for word in sentence.words:\r\n",
        "    if word.head == 0:\r\n",
        "      headId = word.id\r\n",
        "  for word in sentence.words:\r\n",
        "    if word.head == headId or word.head == 0:\r\n",
        "        print(\"word id : \", word.id, end = '\\t')\r\n",
        "        print(\"word: \", word.text, end = \"\\t\")\r\n",
        "        print(\"head id: \", word.head, end = \"\\t\")\r\n",
        "        print(\"head: \", end = \"\")\r\n",
        "        if word.head > 0 :\r\n",
        "          print(sentence.words[word.head-1].text, end = \"\\t\")\r\n",
        "        else :\r\n",
        "          print(\"root\", end = \"\\t\")\r\n",
        "        print(\"deprel: \", word.deprel)   "
      ],
      "execution_count": 72,
      "outputs": [
        {
          "output_type": "stream",
          "text": [
            "=== SENTENCE 1 words ===\n",
            "word id :  2\tword:  Sprachversion\thead id:  8\thead: Projekt\tdeprel:  nsubj\n",
            "word id :  5\tword:  ist\thead id:  8\thead: Projekt\tdeprel:  cop\n",
            "word id :  6\tword:  ein\thead id:  8\thead: Projekt\tdeprel:  det\n",
            "word id :  7\tword:  eigenständiges\thead id:  8\thead: Projekt\tdeprel:  amod\n",
            "word id :  8\tword:  Projekt\thead id:  0\thead: root\tdeprel:  root\n",
            "word id :  9\tword:  .\thead id:  8\thead: Projekt\tdeprel:  punct\n",
            "=== SENTENCE 2 words ===\n",
            "word id :  1\tword:  Das\thead id:  2\thead: heißt\tdeprel:  nsubj\n",
            "word id :  2\tword:  heißt\thead id:  0\thead: root\tdeprel:  root\n",
            "word id :  16\tword:  geschrieben\thead id:  2\thead: heißt\tdeprel:  conj\n",
            "word id :  19\tword:  .\thead id:  2\thead: heißt\tdeprel:  punct\n",
            "=== SENTENCE 3 words ===\n",
            "word id :  1\tword:  Diese\thead id:  5\thead: setzen\tdeprel:  nsubj\n",
            "word id :  2\tword:  können\thead id:  5\thead: setzen\tdeprel:  aux\n",
            "word id :  4\tword:  Schwerpunkte\thead id:  5\thead: setzen\tdeprel:  obj\n",
            "word id :  5\tword:  setzen\thead id:  0\thead: root\tdeprel:  root\n",
            "word id :  6\tword:  .\thead id:  5\thead: setzen\tdeprel:  punct\n",
            "=== SENTENCE 4 words ===\n",
            "word id :  1\tword:  Doch\thead id:  6\thead: kommen\tdeprel:  cc\n",
            "word id :  2\tword:  es\thead id:  6\thead: kommen\tdeprel:  nsubj\n",
            "word id :  3\tword:  kann\thead id:  6\thead: kommen\tdeprel:  aux\n",
            "word id :  4\tword:  auch\thead id:  6\thead: kommen\tdeprel:  advmod\n",
            "word id :  5\tword:  dazu\thead id:  6\thead: kommen\tdeprel:  advmod\n",
            "word id :  6\tword:  kommen\thead id:  0\thead: root\tdeprel:  root\n",
            "word id :  17\tword:  gedeutet\thead id:  6\thead: kommen\tdeprel:  ccomp\n",
            "word id :  19\tword:  .\thead id:  6\thead: kommen\tdeprel:  punct\n",
            "=== SENTENCE 5 words ===\n",
            "word id :  2\tword:  Beispiel\thead id:  5\thead: Situation\tdeprel:  nsubj\n",
            "word id :  3\tword:  ist\thead id:  5\thead: Situation\tdeprel:  cop\n",
            "word id :  4\tword:  die\thead id:  5\thead: Situation\tdeprel:  det\n",
            "word id :  5\tword:  Situation\thead id:  0\thead: root\tdeprel:  root\n",
            "word id :  8\tword:  Halbinsel\thead id:  5\thead: Situation\tdeprel:  nmod\n",
            "word id :  22\tword:  .\thead id:  5\thead: Situation\tdeprel:  punct\n"
          ],
          "name": "stdout"
        }
      ]
    },
    {
      "cell_type": "markdown",
      "metadata": {
        "id": "osRJGhreeHXl"
      },
      "source": [
        "# Processor 6: Named Entity Recognition\r\n",
        "* **Name**: ner\r\n",
        "* **Annotator class name**: NERProcessor\r\n",
        "* **Requirement**: tokenize, mwt\r\n",
        "* **Description**: \r\n",
        "  * Named entities in ```Document```'s properties ```entities```.\r\n",
        "  * Named entities in  ```Sentence```'s properties ```entities```. \r\n",
        "  * Named entities in token-level NER tags in ```Token```'s properties ```ner```."
      ]
    },
    {
      "cell_type": "code",
      "metadata": {
        "colab": {
          "base_uri": "https://localhost:8080/"
        },
        "id": "6vHa34FNeGtl",
        "outputId": "83591f59-01a6-49df-dfb3-28316eb80174"
      },
      "source": [
        "doc = nlp(\"\"\"David Bowie hinterlässt ein immenses und einzigartiges Werk. In den frühen 1970er Jahren mischte er die Musikwelt in schillernden Kostümen und flammend rot gefärbtem Vokuhila-Schnitt als \"Ziggy Stardust\" auf.\"\"\")\r\n",
        "doc.entities"
      ],
      "execution_count": 73,
      "outputs": [
        {
          "output_type": "execute_result",
          "data": {
            "text/plain": [
              "[{\n",
              "   \"text\": \"David Bowie\",\n",
              "   \"type\": \"PER\",\n",
              "   \"start_char\": 0,\n",
              "   \"end_char\": 11\n",
              " }, {\n",
              "   \"text\": \"Ziggy Stardust\",\n",
              "   \"type\": \"MISC\",\n",
              "   \"start_char\": 188,\n",
              "   \"end_char\": 202\n",
              " }]"
            ]
          },
          "metadata": {
            "tags": []
          },
          "execution_count": 73
        }
      ]
    },
    {
      "cell_type": "code",
      "metadata": {
        "colab": {
          "base_uri": "https://localhost:8080/"
        },
        "id": "uCSyVhdvdQMZ",
        "outputId": "57b9731f-4a9b-41aa-b65c-974037268608"
      },
      "source": [
        "#document 단위\r\n",
        "for ent in doc.entities :\r\n",
        "  print(\"entity: \", ent.text, end = \"\\t\")\r\n",
        "  print(\"type: \", ent.type)"
      ],
      "execution_count": 74,
      "outputs": [
        {
          "output_type": "stream",
          "text": [
            "entity:  David Bowie\ttype:  PER\n",
            "entity:  Ziggy Stardust\ttype:  MISC\n"
          ],
          "name": "stdout"
        }
      ]
    },
    {
      "cell_type": "code",
      "metadata": {
        "colab": {
          "base_uri": "https://localhost:8080/"
        },
        "id": "DRg5cO_UgCvE",
        "outputId": "2897c896-89e4-42f2-fb07-8441f5739193"
      },
      "source": [
        "#sentence 단위\r\n",
        "for i, sentence in enumerate(doc.sentences) :\r\n",
        "  print(f'=== SENTENCE {i+1} words ===')\r\n",
        "  for ent in sentence.entities :\r\n",
        "    print(\"entity: \", ent.text, end = \"\\t\")\r\n",
        "    print(\"type: \", ent.type)"
      ],
      "execution_count": 75,
      "outputs": [
        {
          "output_type": "stream",
          "text": [
            "=== SENTENCE 1 words ===\n",
            "entity:  David Bowie\ttype:  PER\n",
            "=== SENTENCE 2 words ===\n",
            "entity:  Ziggy Stardust\ttype:  MISC\n"
          ],
          "name": "stdout"
        }
      ]
    },
    {
      "cell_type": "code",
      "metadata": {
        "colab": {
          "base_uri": "https://localhost:8080/"
        },
        "id": "3UvzFJUugvFG",
        "outputId": "95dd531a-de69-458d-f897-b8527a54198f"
      },
      "source": [
        "#token 단위\r\n",
        "for i, sentence in enumerate(doc.sentences) :\r\n",
        "  print(f'=== SENTENCE {i+1} words ===')\r\n",
        "  for token in sentence.tokens :\r\n",
        "    print(\"token: \", token.text, end = '\\t')\r\n",
        "    print(\"ner: \", token.ner)"
      ],
      "execution_count": 76,
      "outputs": [
        {
          "output_type": "stream",
          "text": [
            "=== SENTENCE 1 words ===\n",
            "token:  David\tner:  B-PER\n",
            "token:  Bowie\tner:  E-PER\n",
            "token:  hinterlässt\tner:  O\n",
            "token:  ein\tner:  O\n",
            "token:  immenses\tner:  O\n",
            "token:  und\tner:  O\n",
            "token:  einzigartiges\tner:  O\n",
            "token:  Werk\tner:  O\n",
            "token:  .\tner:  O\n",
            "=== SENTENCE 2 words ===\n",
            "token:  In\tner:  O\n",
            "token:  den\tner:  O\n",
            "token:  frühen\tner:  O\n",
            "token:  1970er\tner:  O\n",
            "token:  Jahren\tner:  O\n",
            "token:  mischte\tner:  O\n",
            "token:  er\tner:  O\n",
            "token:  die\tner:  O\n",
            "token:  Musikwelt\tner:  O\n",
            "token:  in\tner:  O\n",
            "token:  schillernden\tner:  O\n",
            "token:  Kostümen\tner:  O\n",
            "token:  und\tner:  O\n",
            "token:  flammend\tner:  O\n",
            "token:  rot\tner:  O\n",
            "token:  gefärbtem\tner:  O\n",
            "token:  Vokuhila\tner:  O\n",
            "token:  -\tner:  O\n",
            "token:  Schnitt\tner:  O\n",
            "token:  als\tner:  O\n",
            "token:  \"\tner:  O\n",
            "token:  Ziggy\tner:  B-MISC\n",
            "token:  Stardust\tner:  E-MISC\n",
            "token:  \"\tner:  O\n",
            "token:  auf\tner:  O\n",
            "token:  .\tner:  O\n"
          ],
          "name": "stdout"
        }
      ]
    },
    {
      "cell_type": "markdown",
      "metadata": {
        "id": "qVvCEmZyiBP3"
      },
      "source": [
        "# Processor 7: Sentiment Analysis\r\n",
        "* **Name**: sentiment\r\n",
        "* **Annotator class name**: SentimentProcessor\r\n",
        "* **Requirement**: tokenize\r\n",
        "* **Desription**: Add the ```Sentiment``` to each ```Sentence```.\r\n",
        "  * 0: negative\r\n",
        "  * 1: neutral\r\n",
        "  * 2: positive"
      ]
    },
    {
      "cell_type": "code",
      "metadata": {
        "colab": {
          "base_uri": "https://localhost:8080/"
        },
        "id": "BsdfkpGmhwq3",
        "outputId": "4a41f507-8e16-4c32-c38a-b20ce6aadfd0"
      },
      "source": [
        "for sentence in doc.sentences :\r\n",
        "  print(sentence.sentiment, end = \"\\t\")\r\n",
        "  print(sentence.text)"
      ],
      "execution_count": 77,
      "outputs": [
        {
          "output_type": "stream",
          "text": [
            "1\tDavid Bowie hinterlässt ein immenses und einzigartiges Werk.\n",
            "1\tIn den frühen 1970er Jahren mischte er die Musikwelt in schillernden Kostümen und flammend rot gefärbtem Vokuhila-Schnitt als \"Ziggy Stardust\" auf.\n",
            "1\tDavid Bowie hinterlässt ein immenses und einzigartiges Werk.\n",
            "1\tIn den frühen 1970er Jahren mischte er die Musikwelt in schillernden Kostümen und flammend rot gefärbtem Vokuhila-Schnitt als \"Ziggy Stardust\" auf.\n"
          ],
          "name": "stdout"
        }
      ]
    }
  ]
}