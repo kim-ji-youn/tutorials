{
  "nbformat": 4,
  "nbformat_minor": 0,
  "metadata": {
    "colab": {
      "name": "usingStanza.ipynb",
      "provenance": [],
      "authorship_tag": "ABX9TyMQxc32RWMHGDxqnuguZanR",
      "include_colab_link": true
    },
    "kernelspec": {
      "name": "python3",
      "display_name": "Python 3"
    },
    "language_info": {
      "name": "python"
    },
    "widgets": {
      "application/vnd.jupyter.widget-state+json": {
        "155b1ab4c809462386b8e7673e8f8bcd": {
          "model_module": "@jupyter-widgets/controls",
          "model_name": "HBoxModel",
          "model_module_version": "1.5.0",
          "state": {
            "_view_name": "HBoxView",
            "_dom_classes": [],
            "_model_name": "HBoxModel",
            "_view_module": "@jupyter-widgets/controls",
            "_model_module_version": "1.5.0",
            "_view_count": null,
            "_view_module_version": "1.5.0",
            "box_style": "",
            "layout": "IPY_MODEL_114351212051451b8ad1c03ffdc526ce",
            "_model_module": "@jupyter-widgets/controls",
            "children": [
              "IPY_MODEL_79ffc85ca9ec4ec0aa710547d7e0611d",
              "IPY_MODEL_bfdf22b7e3bb4dd39e42a09ce5b8df3f",
              "IPY_MODEL_f6df231e057d48638e2af8311c033c5b"
            ]
          }
        },
        "114351212051451b8ad1c03ffdc526ce": {
          "model_module": "@jupyter-widgets/base",
          "model_name": "LayoutModel",
          "model_module_version": "1.2.0",
          "state": {
            "_view_name": "LayoutView",
            "grid_template_rows": null,
            "right": null,
            "justify_content": null,
            "_view_module": "@jupyter-widgets/base",
            "overflow": null,
            "_model_module_version": "1.2.0",
            "_view_count": null,
            "flex_flow": null,
            "width": null,
            "min_width": null,
            "border": null,
            "align_items": null,
            "bottom": null,
            "_model_module": "@jupyter-widgets/base",
            "top": null,
            "grid_column": null,
            "overflow_y": null,
            "overflow_x": null,
            "grid_auto_flow": null,
            "grid_area": null,
            "grid_template_columns": null,
            "flex": null,
            "_model_name": "LayoutModel",
            "justify_items": null,
            "grid_row": null,
            "max_height": null,
            "align_content": null,
            "visibility": null,
            "align_self": null,
            "height": null,
            "min_height": null,
            "padding": null,
            "grid_auto_rows": null,
            "grid_gap": null,
            "max_width": null,
            "order": null,
            "_view_module_version": "1.2.0",
            "grid_template_areas": null,
            "object_position": null,
            "object_fit": null,
            "grid_auto_columns": null,
            "margin": null,
            "display": null,
            "left": null
          }
        },
        "79ffc85ca9ec4ec0aa710547d7e0611d": {
          "model_module": "@jupyter-widgets/controls",
          "model_name": "HTMLModel",
          "model_module_version": "1.5.0",
          "state": {
            "_view_name": "HTMLView",
            "style": "IPY_MODEL_7f973a5f5c414fab98bdbbd8b8efcae2",
            "_dom_classes": [],
            "description": "",
            "_model_name": "HTMLModel",
            "placeholder": "​",
            "_view_module": "@jupyter-widgets/controls",
            "_model_module_version": "1.5.0",
            "value": "Downloading https://raw.githubusercontent.com/stanfordnlp/stanza-resources/main/resources_1.2.2.json: ",
            "_view_count": null,
            "_view_module_version": "1.5.0",
            "description_tooltip": null,
            "_model_module": "@jupyter-widgets/controls",
            "layout": "IPY_MODEL_1062edd4fa5d454fbec6a9e9ad21e57c"
          }
        },
        "bfdf22b7e3bb4dd39e42a09ce5b8df3f": {
          "model_module": "@jupyter-widgets/controls",
          "model_name": "FloatProgressModel",
          "model_module_version": "1.5.0",
          "state": {
            "_view_name": "ProgressView",
            "style": "IPY_MODEL_5a76875f5c14427db922faee707da5ce",
            "_dom_classes": [],
            "description": "",
            "_model_name": "FloatProgressModel",
            "bar_style": "success",
            "max": 24144,
            "_view_module": "@jupyter-widgets/controls",
            "_model_module_version": "1.5.0",
            "value": 24144,
            "_view_count": null,
            "_view_module_version": "1.5.0",
            "orientation": "horizontal",
            "min": 0,
            "description_tooltip": null,
            "_model_module": "@jupyter-widgets/controls",
            "layout": "IPY_MODEL_70ae4aeacb254526b18702758a43afe9"
          }
        },
        "f6df231e057d48638e2af8311c033c5b": {
          "model_module": "@jupyter-widgets/controls",
          "model_name": "HTMLModel",
          "model_module_version": "1.5.0",
          "state": {
            "_view_name": "HTMLView",
            "style": "IPY_MODEL_5e4b6a5c0e7143e6ab832e6b8d063505",
            "_dom_classes": [],
            "description": "",
            "_model_name": "HTMLModel",
            "placeholder": "​",
            "_view_module": "@jupyter-widgets/controls",
            "_model_module_version": "1.5.0",
            "value": " 140k/? [00:00&lt;00:00, 2.78MB/s]",
            "_view_count": null,
            "_view_module_version": "1.5.0",
            "description_tooltip": null,
            "_model_module": "@jupyter-widgets/controls",
            "layout": "IPY_MODEL_d3ffc4cdae9b424aa4ea23b55f8de8a5"
          }
        },
        "7f973a5f5c414fab98bdbbd8b8efcae2": {
          "model_module": "@jupyter-widgets/controls",
          "model_name": "DescriptionStyleModel",
          "model_module_version": "1.5.0",
          "state": {
            "_view_name": "StyleView",
            "_model_name": "DescriptionStyleModel",
            "description_width": "",
            "_view_module": "@jupyter-widgets/base",
            "_model_module_version": "1.5.0",
            "_view_count": null,
            "_view_module_version": "1.2.0",
            "_model_module": "@jupyter-widgets/controls"
          }
        },
        "1062edd4fa5d454fbec6a9e9ad21e57c": {
          "model_module": "@jupyter-widgets/base",
          "model_name": "LayoutModel",
          "model_module_version": "1.2.0",
          "state": {
            "_view_name": "LayoutView",
            "grid_template_rows": null,
            "right": null,
            "justify_content": null,
            "_view_module": "@jupyter-widgets/base",
            "overflow": null,
            "_model_module_version": "1.2.0",
            "_view_count": null,
            "flex_flow": null,
            "width": null,
            "min_width": null,
            "border": null,
            "align_items": null,
            "bottom": null,
            "_model_module": "@jupyter-widgets/base",
            "top": null,
            "grid_column": null,
            "overflow_y": null,
            "overflow_x": null,
            "grid_auto_flow": null,
            "grid_area": null,
            "grid_template_columns": null,
            "flex": null,
            "_model_name": "LayoutModel",
            "justify_items": null,
            "grid_row": null,
            "max_height": null,
            "align_content": null,
            "visibility": null,
            "align_self": null,
            "height": null,
            "min_height": null,
            "padding": null,
            "grid_auto_rows": null,
            "grid_gap": null,
            "max_width": null,
            "order": null,
            "_view_module_version": "1.2.0",
            "grid_template_areas": null,
            "object_position": null,
            "object_fit": null,
            "grid_auto_columns": null,
            "margin": null,
            "display": null,
            "left": null
          }
        },
        "5a76875f5c14427db922faee707da5ce": {
          "model_module": "@jupyter-widgets/controls",
          "model_name": "ProgressStyleModel",
          "model_module_version": "1.5.0",
          "state": {
            "_view_name": "StyleView",
            "_model_name": "ProgressStyleModel",
            "description_width": "",
            "_view_module": "@jupyter-widgets/base",
            "_model_module_version": "1.5.0",
            "_view_count": null,
            "_view_module_version": "1.2.0",
            "bar_color": null,
            "_model_module": "@jupyter-widgets/controls"
          }
        },
        "70ae4aeacb254526b18702758a43afe9": {
          "model_module": "@jupyter-widgets/base",
          "model_name": "LayoutModel",
          "model_module_version": "1.2.0",
          "state": {
            "_view_name": "LayoutView",
            "grid_template_rows": null,
            "right": null,
            "justify_content": null,
            "_view_module": "@jupyter-widgets/base",
            "overflow": null,
            "_model_module_version": "1.2.0",
            "_view_count": null,
            "flex_flow": null,
            "width": null,
            "min_width": null,
            "border": null,
            "align_items": null,
            "bottom": null,
            "_model_module": "@jupyter-widgets/base",
            "top": null,
            "grid_column": null,
            "overflow_y": null,
            "overflow_x": null,
            "grid_auto_flow": null,
            "grid_area": null,
            "grid_template_columns": null,
            "flex": null,
            "_model_name": "LayoutModel",
            "justify_items": null,
            "grid_row": null,
            "max_height": null,
            "align_content": null,
            "visibility": null,
            "align_self": null,
            "height": null,
            "min_height": null,
            "padding": null,
            "grid_auto_rows": null,
            "grid_gap": null,
            "max_width": null,
            "order": null,
            "_view_module_version": "1.2.0",
            "grid_template_areas": null,
            "object_position": null,
            "object_fit": null,
            "grid_auto_columns": null,
            "margin": null,
            "display": null,
            "left": null
          }
        },
        "5e4b6a5c0e7143e6ab832e6b8d063505": {
          "model_module": "@jupyter-widgets/controls",
          "model_name": "DescriptionStyleModel",
          "model_module_version": "1.5.0",
          "state": {
            "_view_name": "StyleView",
            "_model_name": "DescriptionStyleModel",
            "description_width": "",
            "_view_module": "@jupyter-widgets/base",
            "_model_module_version": "1.5.0",
            "_view_count": null,
            "_view_module_version": "1.2.0",
            "_model_module": "@jupyter-widgets/controls"
          }
        },
        "d3ffc4cdae9b424aa4ea23b55f8de8a5": {
          "model_module": "@jupyter-widgets/base",
          "model_name": "LayoutModel",
          "model_module_version": "1.2.0",
          "state": {
            "_view_name": "LayoutView",
            "grid_template_rows": null,
            "right": null,
            "justify_content": null,
            "_view_module": "@jupyter-widgets/base",
            "overflow": null,
            "_model_module_version": "1.2.0",
            "_view_count": null,
            "flex_flow": null,
            "width": null,
            "min_width": null,
            "border": null,
            "align_items": null,
            "bottom": null,
            "_model_module": "@jupyter-widgets/base",
            "top": null,
            "grid_column": null,
            "overflow_y": null,
            "overflow_x": null,
            "grid_auto_flow": null,
            "grid_area": null,
            "grid_template_columns": null,
            "flex": null,
            "_model_name": "LayoutModel",
            "justify_items": null,
            "grid_row": null,
            "max_height": null,
            "align_content": null,
            "visibility": null,
            "align_self": null,
            "height": null,
            "min_height": null,
            "padding": null,
            "grid_auto_rows": null,
            "grid_gap": null,
            "max_width": null,
            "order": null,
            "_view_module_version": "1.2.0",
            "grid_template_areas": null,
            "object_position": null,
            "object_fit": null,
            "grid_auto_columns": null,
            "margin": null,
            "display": null,
            "left": null
          }
        },
        "3dad4611010d4a3da9f33a861c59c60e": {
          "model_module": "@jupyter-widgets/controls",
          "model_name": "HBoxModel",
          "model_module_version": "1.5.0",
          "state": {
            "_view_name": "HBoxView",
            "_dom_classes": [],
            "_model_name": "HBoxModel",
            "_view_module": "@jupyter-widgets/controls",
            "_model_module_version": "1.5.0",
            "_view_count": null,
            "_view_module_version": "1.5.0",
            "box_style": "",
            "layout": "IPY_MODEL_416168d5fed046c196c635ad0d2362da",
            "_model_module": "@jupyter-widgets/controls",
            "children": [
              "IPY_MODEL_961441de579e40e395c5424424ed979e",
              "IPY_MODEL_01d3a86537c64e838fb721b4622fff82",
              "IPY_MODEL_ec2402dd1fbb4607b10e18dccc3ef7d9"
            ]
          }
        },
        "416168d5fed046c196c635ad0d2362da": {
          "model_module": "@jupyter-widgets/base",
          "model_name": "LayoutModel",
          "model_module_version": "1.2.0",
          "state": {
            "_view_name": "LayoutView",
            "grid_template_rows": null,
            "right": null,
            "justify_content": null,
            "_view_module": "@jupyter-widgets/base",
            "overflow": null,
            "_model_module_version": "1.2.0",
            "_view_count": null,
            "flex_flow": null,
            "width": null,
            "min_width": null,
            "border": null,
            "align_items": null,
            "bottom": null,
            "_model_module": "@jupyter-widgets/base",
            "top": null,
            "grid_column": null,
            "overflow_y": null,
            "overflow_x": null,
            "grid_auto_flow": null,
            "grid_area": null,
            "grid_template_columns": null,
            "flex": null,
            "_model_name": "LayoutModel",
            "justify_items": null,
            "grid_row": null,
            "max_height": null,
            "align_content": null,
            "visibility": null,
            "align_self": null,
            "height": null,
            "min_height": null,
            "padding": null,
            "grid_auto_rows": null,
            "grid_gap": null,
            "max_width": null,
            "order": null,
            "_view_module_version": "1.2.0",
            "grid_template_areas": null,
            "object_position": null,
            "object_fit": null,
            "grid_auto_columns": null,
            "margin": null,
            "display": null,
            "left": null
          }
        },
        "961441de579e40e395c5424424ed979e": {
          "model_module": "@jupyter-widgets/controls",
          "model_name": "HTMLModel",
          "model_module_version": "1.5.0",
          "state": {
            "_view_name": "HTMLView",
            "style": "IPY_MODEL_ffab3b9422414941b54ed355f4a396e7",
            "_dom_classes": [],
            "description": "",
            "_model_name": "HTMLModel",
            "placeholder": "​",
            "_view_module": "@jupyter-widgets/controls",
            "_model_module_version": "1.5.0",
            "value": "Downloading http://nlp.stanford.edu/software/stanza/1.2.2/en/default.zip: 100%",
            "_view_count": null,
            "_view_module_version": "1.5.0",
            "description_tooltip": null,
            "_model_module": "@jupyter-widgets/controls",
            "layout": "IPY_MODEL_1acfa194289d462b816171c831e198ea"
          }
        },
        "01d3a86537c64e838fb721b4622fff82": {
          "model_module": "@jupyter-widgets/controls",
          "model_name": "FloatProgressModel",
          "model_module_version": "1.5.0",
          "state": {
            "_view_name": "ProgressView",
            "style": "IPY_MODEL_a2c26f5cfde2424b87f07708c8a2597b",
            "_dom_classes": [],
            "description": "",
            "_model_name": "FloatProgressModel",
            "bar_style": "success",
            "max": 411784510,
            "_view_module": "@jupyter-widgets/controls",
            "_model_module_version": "1.5.0",
            "value": 411784510,
            "_view_count": null,
            "_view_module_version": "1.5.0",
            "orientation": "horizontal",
            "min": 0,
            "description_tooltip": null,
            "_model_module": "@jupyter-widgets/controls",
            "layout": "IPY_MODEL_35054d6dac304beca70f5271aa8a8e15"
          }
        },
        "ec2402dd1fbb4607b10e18dccc3ef7d9": {
          "model_module": "@jupyter-widgets/controls",
          "model_name": "HTMLModel",
          "model_module_version": "1.5.0",
          "state": {
            "_view_name": "HTMLView",
            "style": "IPY_MODEL_429c4dbbbd3f49e99859aa41a048dbf8",
            "_dom_classes": [],
            "description": "",
            "_model_name": "HTMLModel",
            "placeholder": "​",
            "_view_module": "@jupyter-widgets/controls",
            "_model_module_version": "1.5.0",
            "value": " 412M/412M [05:13&lt;00:00, 1.84MB/s]",
            "_view_count": null,
            "_view_module_version": "1.5.0",
            "description_tooltip": null,
            "_model_module": "@jupyter-widgets/controls",
            "layout": "IPY_MODEL_2056ecd4172a4efab532e027a0d9e7ce"
          }
        },
        "ffab3b9422414941b54ed355f4a396e7": {
          "model_module": "@jupyter-widgets/controls",
          "model_name": "DescriptionStyleModel",
          "model_module_version": "1.5.0",
          "state": {
            "_view_name": "StyleView",
            "_model_name": "DescriptionStyleModel",
            "description_width": "",
            "_view_module": "@jupyter-widgets/base",
            "_model_module_version": "1.5.0",
            "_view_count": null,
            "_view_module_version": "1.2.0",
            "_model_module": "@jupyter-widgets/controls"
          }
        },
        "1acfa194289d462b816171c831e198ea": {
          "model_module": "@jupyter-widgets/base",
          "model_name": "LayoutModel",
          "model_module_version": "1.2.0",
          "state": {
            "_view_name": "LayoutView",
            "grid_template_rows": null,
            "right": null,
            "justify_content": null,
            "_view_module": "@jupyter-widgets/base",
            "overflow": null,
            "_model_module_version": "1.2.0",
            "_view_count": null,
            "flex_flow": null,
            "width": null,
            "min_width": null,
            "border": null,
            "align_items": null,
            "bottom": null,
            "_model_module": "@jupyter-widgets/base",
            "top": null,
            "grid_column": null,
            "overflow_y": null,
            "overflow_x": null,
            "grid_auto_flow": null,
            "grid_area": null,
            "grid_template_columns": null,
            "flex": null,
            "_model_name": "LayoutModel",
            "justify_items": null,
            "grid_row": null,
            "max_height": null,
            "align_content": null,
            "visibility": null,
            "align_self": null,
            "height": null,
            "min_height": null,
            "padding": null,
            "grid_auto_rows": null,
            "grid_gap": null,
            "max_width": null,
            "order": null,
            "_view_module_version": "1.2.0",
            "grid_template_areas": null,
            "object_position": null,
            "object_fit": null,
            "grid_auto_columns": null,
            "margin": null,
            "display": null,
            "left": null
          }
        },
        "a2c26f5cfde2424b87f07708c8a2597b": {
          "model_module": "@jupyter-widgets/controls",
          "model_name": "ProgressStyleModel",
          "model_module_version": "1.5.0",
          "state": {
            "_view_name": "StyleView",
            "_model_name": "ProgressStyleModel",
            "description_width": "",
            "_view_module": "@jupyter-widgets/base",
            "_model_module_version": "1.5.0",
            "_view_count": null,
            "_view_module_version": "1.2.0",
            "bar_color": null,
            "_model_module": "@jupyter-widgets/controls"
          }
        },
        "35054d6dac304beca70f5271aa8a8e15": {
          "model_module": "@jupyter-widgets/base",
          "model_name": "LayoutModel",
          "model_module_version": "1.2.0",
          "state": {
            "_view_name": "LayoutView",
            "grid_template_rows": null,
            "right": null,
            "justify_content": null,
            "_view_module": "@jupyter-widgets/base",
            "overflow": null,
            "_model_module_version": "1.2.0",
            "_view_count": null,
            "flex_flow": null,
            "width": null,
            "min_width": null,
            "border": null,
            "align_items": null,
            "bottom": null,
            "_model_module": "@jupyter-widgets/base",
            "top": null,
            "grid_column": null,
            "overflow_y": null,
            "overflow_x": null,
            "grid_auto_flow": null,
            "grid_area": null,
            "grid_template_columns": null,
            "flex": null,
            "_model_name": "LayoutModel",
            "justify_items": null,
            "grid_row": null,
            "max_height": null,
            "align_content": null,
            "visibility": null,
            "align_self": null,
            "height": null,
            "min_height": null,
            "padding": null,
            "grid_auto_rows": null,
            "grid_gap": null,
            "max_width": null,
            "order": null,
            "_view_module_version": "1.2.0",
            "grid_template_areas": null,
            "object_position": null,
            "object_fit": null,
            "grid_auto_columns": null,
            "margin": null,
            "display": null,
            "left": null
          }
        },
        "429c4dbbbd3f49e99859aa41a048dbf8": {
          "model_module": "@jupyter-widgets/controls",
          "model_name": "DescriptionStyleModel",
          "model_module_version": "1.5.0",
          "state": {
            "_view_name": "StyleView",
            "_model_name": "DescriptionStyleModel",
            "description_width": "",
            "_view_module": "@jupyter-widgets/base",
            "_model_module_version": "1.5.0",
            "_view_count": null,
            "_view_module_version": "1.2.0",
            "_model_module": "@jupyter-widgets/controls"
          }
        },
        "2056ecd4172a4efab532e027a0d9e7ce": {
          "model_module": "@jupyter-widgets/base",
          "model_name": "LayoutModel",
          "model_module_version": "1.2.0",
          "state": {
            "_view_name": "LayoutView",
            "grid_template_rows": null,
            "right": null,
            "justify_content": null,
            "_view_module": "@jupyter-widgets/base",
            "overflow": null,
            "_model_module_version": "1.2.0",
            "_view_count": null,
            "flex_flow": null,
            "width": null,
            "min_width": null,
            "border": null,
            "align_items": null,
            "bottom": null,
            "_model_module": "@jupyter-widgets/base",
            "top": null,
            "grid_column": null,
            "overflow_y": null,
            "overflow_x": null,
            "grid_auto_flow": null,
            "grid_area": null,
            "grid_template_columns": null,
            "flex": null,
            "_model_name": "LayoutModel",
            "justify_items": null,
            "grid_row": null,
            "max_height": null,
            "align_content": null,
            "visibility": null,
            "align_self": null,
            "height": null,
            "min_height": null,
            "padding": null,
            "grid_auto_rows": null,
            "grid_gap": null,
            "max_width": null,
            "order": null,
            "_view_module_version": "1.2.0",
            "grid_template_areas": null,
            "object_position": null,
            "object_fit": null,
            "grid_auto_columns": null,
            "margin": null,
            "display": null,
            "left": null
          }
        }
      }
    }
  },
  "cells": [
    {
      "cell_type": "markdown",
      "metadata": {
        "id": "view-in-github",
        "colab_type": "text"
      },
      "source": [
        "<a href=\"https://colab.research.google.com/github/kim-ji-youn/tutorials/blob/main/usingStanza.ipynb\" target=\"_parent\"><img src=\"https://colab.research.google.com/assets/colab-badge.svg\" alt=\"Open In Colab\"/></a>"
      ]
    },
    {
      "cell_type": "markdown",
      "metadata": {
        "id": "IHgXw3pHPxNN"
      },
      "source": [
        "**STEP 1. stanza 설치하기**"
      ]
    },
    {
      "cell_type": "code",
      "metadata": {
        "colab": {
          "base_uri": "https://localhost:8080/"
        },
        "id": "FdEOb8slPqzO",
        "outputId": "1db19ca0-fbde-4385-893a-63da01696314"
      },
      "source": [
        "!pip install stanza"
      ],
      "execution_count": 8,
      "outputs": [
        {
          "output_type": "stream",
          "name": "stdout",
          "text": [
            "Requirement already satisfied: stanza in /usr/local/lib/python3.7/dist-packages (1.2.3)\n",
            "Requirement already satisfied: tqdm in /usr/local/lib/python3.7/dist-packages (from stanza) (4.62.0)\n",
            "Requirement already satisfied: numpy in /usr/local/lib/python3.7/dist-packages (from stanza) (1.19.5)\n",
            "Requirement already satisfied: torch>=1.3.0 in /usr/local/lib/python3.7/dist-packages (from stanza) (1.9.0+cu102)\n",
            "Requirement already satisfied: requests in /usr/local/lib/python3.7/dist-packages (from stanza) (2.23.0)\n",
            "Requirement already satisfied: protobuf in /usr/local/lib/python3.7/dist-packages (from stanza) (3.17.3)\n",
            "Requirement already satisfied: typing-extensions in /usr/local/lib/python3.7/dist-packages (from torch>=1.3.0->stanza) (3.7.4.3)\n",
            "Requirement already satisfied: six>=1.9 in /usr/local/lib/python3.7/dist-packages (from protobuf->stanza) (1.15.0)\n",
            "Requirement already satisfied: chardet<4,>=3.0.2 in /usr/local/lib/python3.7/dist-packages (from requests->stanza) (3.0.4)\n",
            "Requirement already satisfied: urllib3!=1.25.0,!=1.25.1,<1.26,>=1.21.1 in /usr/local/lib/python3.7/dist-packages (from requests->stanza) (1.24.3)\n",
            "Requirement already satisfied: idna<3,>=2.5 in /usr/local/lib/python3.7/dist-packages (from requests->stanza) (2.10)\n",
            "Requirement already satisfied: certifi>=2017.4.17 in /usr/local/lib/python3.7/dist-packages (from requests->stanza) (2021.5.30)\n"
          ]
        }
      ]
    },
    {
      "cell_type": "markdown",
      "metadata": {
        "id": "GnvxMgocP512"
      },
      "source": [
        "**STEP 2. 설치한 stanza 불러오기**"
      ]
    },
    {
      "cell_type": "code",
      "metadata": {
        "id": "7NO9L8EIPtRG"
      },
      "source": [
        "import stanza"
      ],
      "execution_count": 9,
      "outputs": []
    },
    {
      "cell_type": "markdown",
      "metadata": {
        "id": "l43frnkhQMeb"
      },
      "source": [
        "**STEP 3. 언어 모델(영어) 다운받기**\n"
      ]
    },
    {
      "cell_type": "code",
      "metadata": {
        "colab": {
          "base_uri": "https://localhost:8080/",
          "height": 496,
          "referenced_widgets": [
            "155b1ab4c809462386b8e7673e8f8bcd",
            "114351212051451b8ad1c03ffdc526ce",
            "79ffc85ca9ec4ec0aa710547d7e0611d",
            "bfdf22b7e3bb4dd39e42a09ce5b8df3f",
            "f6df231e057d48638e2af8311c033c5b",
            "7f973a5f5c414fab98bdbbd8b8efcae2",
            "1062edd4fa5d454fbec6a9e9ad21e57c",
            "5a76875f5c14427db922faee707da5ce",
            "70ae4aeacb254526b18702758a43afe9",
            "5e4b6a5c0e7143e6ab832e6b8d063505",
            "d3ffc4cdae9b424aa4ea23b55f8de8a5",
            "3dad4611010d4a3da9f33a861c59c60e",
            "416168d5fed046c196c635ad0d2362da",
            "961441de579e40e395c5424424ed979e",
            "01d3a86537c64e838fb721b4622fff82",
            "ec2402dd1fbb4607b10e18dccc3ef7d9",
            "ffab3b9422414941b54ed355f4a396e7",
            "1acfa194289d462b816171c831e198ea",
            "a2c26f5cfde2424b87f07708c8a2597b",
            "35054d6dac304beca70f5271aa8a8e15",
            "429c4dbbbd3f49e99859aa41a048dbf8",
            "2056ecd4172a4efab532e027a0d9e7ce"
          ]
        },
        "id": "SMopBEJQQBNW",
        "outputId": "b009b30d-3dbb-4b17-c4f4-33b2b4c449b5"
      },
      "source": [
        "stanza.download('en')\n",
        "nlp = stanza.Pipeline('en')"
      ],
      "execution_count": 11,
      "outputs": [
        {
          "output_type": "display_data",
          "data": {
            "application/vnd.jupyter.widget-view+json": {
              "model_id": "155b1ab4c809462386b8e7673e8f8bcd",
              "version_minor": 0,
              "version_major": 2
            },
            "text/plain": [
              "Downloading https://raw.githubusercontent.com/stanfordnlp/stanza-resources/main/resources_1.2.2.json:   0%|   …"
            ]
          },
          "metadata": {}
        },
        {
          "output_type": "stream",
          "name": "stderr",
          "text": [
            "2021-09-14 17:03:46 INFO: Downloading default packages for language: en (English)...\n"
          ]
        },
        {
          "output_type": "display_data",
          "data": {
            "application/vnd.jupyter.widget-view+json": {
              "model_id": "3dad4611010d4a3da9f33a861c59c60e",
              "version_minor": 0,
              "version_major": 2
            },
            "text/plain": [
              "Downloading http://nlp.stanford.edu/software/stanza/1.2.2/en/default.zip:   0%|          | 0.00/412M [00:00<?,…"
            ]
          },
          "metadata": {}
        },
        {
          "output_type": "stream",
          "name": "stderr",
          "text": [
            "2021-09-14 17:09:07 INFO: Finished downloading models and saved to /root/stanza_resources.\n",
            "2021-09-14 17:09:07 INFO: Loading these models for language: en (English):\n",
            "=========================\n",
            "| Processor | Package   |\n",
            "-------------------------\n",
            "| tokenize  | combined  |\n",
            "| pos       | combined  |\n",
            "| lemma     | combined  |\n",
            "| depparse  | combined  |\n",
            "| sentiment | sstplus   |\n",
            "| ner       | ontonotes |\n",
            "=========================\n",
            "\n",
            "2021-09-14 17:09:07 INFO: Use device: cpu\n",
            "2021-09-14 17:09:07 INFO: Loading: tokenize\n",
            "2021-09-14 17:09:07 INFO: Loading: pos\n",
            "2021-09-14 17:09:08 INFO: Loading: lemma\n",
            "2021-09-14 17:09:08 INFO: Loading: depparse\n",
            "2021-09-14 17:09:08 INFO: Loading: sentiment\n",
            "2021-09-14 17:09:09 INFO: Loading: ner\n",
            "2021-09-14 17:09:10 INFO: Done loading processors!\n"
          ]
        }
      ]
    },
    {
      "cell_type": "markdown",
      "metadata": {
        "id": "BtU-Ywl9RPDd"
      },
      "source": [
        "**STEP 4. 대상 파일 불러오기**\n",
        "\n",
        "\n",
        "1. 대상 파일을 아래와 같이 드래그 앤 드랍으로 위치시켜 놓습니다. \n",
        "\n",
        "\n",
        "\n",
        "![image.png](data:image/png;base64,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)\n",
        "\n",
        "2. 아래 코드를 실행시켜 명령에 따라 파일 이름을 적어 줍니다."
      ]
    },
    {
      "cell_type": "code",
      "metadata": {
        "colab": {
          "base_uri": "https://localhost:8080/"
        },
        "id": "2C0dUwIRQT5m",
        "outputId": "396da1fd-3060-4105-f9e5-a557bc71c022"
      },
      "source": [
        "file_name = input(\"file_name? \")\n",
        "\n",
        "lines = []\n",
        "\n",
        "with open(file_name, \"r\", encoding = \"utf-8\") as f :\n",
        "  for line in f.readlines() :\n",
        "    lines.append(line.strip())"
      ],
      "execution_count": 14,
      "outputs": [
        {
          "name": "stdout",
          "output_type": "stream",
          "text": [
            "file_name? len9.txt\n"
          ]
        }
      ]
    },
    {
      "cell_type": "code",
      "metadata": {
        "colab": {
          "base_uri": "https://localhost:8080/"
        },
        "id": "2f5N3UsGTRcj",
        "outputId": "8e9c35c9-eb8e-42f3-b968-407b269c9093"
      },
      "source": [
        "#파일이 맞는지 첫 줄을 출력해봅니다. \n",
        "print(lines[0])"
      ],
      "execution_count": 15,
      "outputs": [
        {
          "output_type": "stream",
          "name": "stdout",
          "text": [
            "Not all ideas are capable of supporting a patent .\n"
          ]
        }
      ]
    },
    {
      "cell_type": "markdown",
      "metadata": {
        "id": "1Q0SGPsuTiGF"
      },
      "source": [
        "**STEP 5. 분석해보기**\n",
        "\n",
        "문장은 document --> sentence --> word의 과정을 거쳐 분석되어야 합니다. \n",
        "\n",
        "한 문장을 예시로 시작해보겠습니다."
      ]
    },
    {
      "cell_type": "code",
      "metadata": {
        "id": "NwcN_xDGTUyb"
      },
      "source": [
        "doc = \"Not all ideas are capable of supporting a patent .\""
      ],
      "execution_count": 16,
      "outputs": []
    },
    {
      "cell_type": "code",
      "metadata": {
        "id": "KjrHhQScUPQ0"
      },
      "source": [
        "doc = nlp(doc) #document -> sentence의 형식으로 분석"
      ],
      "execution_count": 18,
      "outputs": []
    },
    {
      "cell_type": "code",
      "metadata": {
        "colab": {
          "base_uri": "https://localhost:8080/"
        },
        "id": "IadLjYHOUROE",
        "outputId": "037c46d3-ab7c-44a5-ebee-2edb6e025146"
      },
      "source": [
        "sentence = doc.sentences[0] #분석 결과를 볼 수 있습니다\n",
        "print(sentence)"
      ],
      "execution_count": 21,
      "outputs": [
        {
          "output_type": "stream",
          "name": "stdout",
          "text": [
            "[\n",
            "  {\n",
            "    \"id\": 1,\n",
            "    \"text\": \"Not\",\n",
            "    \"lemma\": \"not\",\n",
            "    \"upos\": \"ADV\",\n",
            "    \"xpos\": \"RB\",\n",
            "    \"head\": 3,\n",
            "    \"deprel\": \"advmod\",\n",
            "    \"start_char\": 0,\n",
            "    \"end_char\": 3,\n",
            "    \"ner\": \"O\"\n",
            "  },\n",
            "  {\n",
            "    \"id\": 2,\n",
            "    \"text\": \"all\",\n",
            "    \"lemma\": \"all\",\n",
            "    \"upos\": \"DET\",\n",
            "    \"xpos\": \"DT\",\n",
            "    \"head\": 3,\n",
            "    \"deprel\": \"det\",\n",
            "    \"start_char\": 4,\n",
            "    \"end_char\": 7,\n",
            "    \"ner\": \"O\"\n",
            "  },\n",
            "  {\n",
            "    \"id\": 3,\n",
            "    \"text\": \"ideas\",\n",
            "    \"lemma\": \"idea\",\n",
            "    \"upos\": \"NOUN\",\n",
            "    \"xpos\": \"NNS\",\n",
            "    \"feats\": \"Number=Plur\",\n",
            "    \"head\": 5,\n",
            "    \"deprel\": \"nsubj\",\n",
            "    \"start_char\": 8,\n",
            "    \"end_char\": 13,\n",
            "    \"ner\": \"O\"\n",
            "  },\n",
            "  {\n",
            "    \"id\": 4,\n",
            "    \"text\": \"are\",\n",
            "    \"lemma\": \"be\",\n",
            "    \"upos\": \"AUX\",\n",
            "    \"xpos\": \"VBP\",\n",
            "    \"feats\": \"Mood=Ind|Tense=Pres|VerbForm=Fin\",\n",
            "    \"head\": 5,\n",
            "    \"deprel\": \"cop\",\n",
            "    \"start_char\": 14,\n",
            "    \"end_char\": 17,\n",
            "    \"ner\": \"O\"\n",
            "  },\n",
            "  {\n",
            "    \"id\": 5,\n",
            "    \"text\": \"capable\",\n",
            "    \"lemma\": \"capable\",\n",
            "    \"upos\": \"ADJ\",\n",
            "    \"xpos\": \"JJ\",\n",
            "    \"feats\": \"Degree=Pos\",\n",
            "    \"head\": 0,\n",
            "    \"deprel\": \"root\",\n",
            "    \"start_char\": 18,\n",
            "    \"end_char\": 25,\n",
            "    \"ner\": \"O\"\n",
            "  },\n",
            "  {\n",
            "    \"id\": 6,\n",
            "    \"text\": \"of\",\n",
            "    \"lemma\": \"of\",\n",
            "    \"upos\": \"SCONJ\",\n",
            "    \"xpos\": \"IN\",\n",
            "    \"head\": 7,\n",
            "    \"deprel\": \"mark\",\n",
            "    \"start_char\": 26,\n",
            "    \"end_char\": 28,\n",
            "    \"ner\": \"O\"\n",
            "  },\n",
            "  {\n",
            "    \"id\": 7,\n",
            "    \"text\": \"supporting\",\n",
            "    \"lemma\": \"support\",\n",
            "    \"upos\": \"VERB\",\n",
            "    \"xpos\": \"VBG\",\n",
            "    \"feats\": \"VerbForm=Ger\",\n",
            "    \"head\": 5,\n",
            "    \"deprel\": \"advcl\",\n",
            "    \"start_char\": 29,\n",
            "    \"end_char\": 39,\n",
            "    \"ner\": \"O\"\n",
            "  },\n",
            "  {\n",
            "    \"id\": 8,\n",
            "    \"text\": \"a\",\n",
            "    \"lemma\": \"a\",\n",
            "    \"upos\": \"DET\",\n",
            "    \"xpos\": \"DT\",\n",
            "    \"feats\": \"Definite=Ind|PronType=Art\",\n",
            "    \"head\": 9,\n",
            "    \"deprel\": \"det\",\n",
            "    \"start_char\": 40,\n",
            "    \"end_char\": 41,\n",
            "    \"ner\": \"O\"\n",
            "  },\n",
            "  {\n",
            "    \"id\": 9,\n",
            "    \"text\": \"patent\",\n",
            "    \"lemma\": \"patent\",\n",
            "    \"upos\": \"NOUN\",\n",
            "    \"xpos\": \"NN\",\n",
            "    \"feats\": \"Number=Sing\",\n",
            "    \"head\": 7,\n",
            "    \"deprel\": \"obj\",\n",
            "    \"start_char\": 42,\n",
            "    \"end_char\": 48,\n",
            "    \"ner\": \"O\"\n",
            "  },\n",
            "  {\n",
            "    \"id\": 10,\n",
            "    \"text\": \".\",\n",
            "    \"lemma\": \".\",\n",
            "    \"upos\": \"PUNCT\",\n",
            "    \"xpos\": \".\",\n",
            "    \"head\": 5,\n",
            "    \"deprel\": \"punct\",\n",
            "    \"start_char\": 49,\n",
            "    \"end_char\": 50,\n",
            "    \"ner\": \"O\"\n",
            "  }\n",
            "]\n"
          ]
        }
      ]
    },
    {
      "cell_type": "code",
      "metadata": {
        "colab": {
          "base_uri": "https://localhost:8080/"
        },
        "id": "wE63qwoTU0BL",
        "outputId": "dd0ba287-b71b-4976-9cad-44714a932823"
      },
      "source": [
        "words = sentence.words #sentence를 word 단위로 만들어 줍니다. \n",
        "print(words)"
      ],
      "execution_count": 22,
      "outputs": [
        {
          "output_type": "stream",
          "name": "stdout",
          "text": [
            "[{\n",
            "  \"id\": 1,\n",
            "  \"text\": \"Not\",\n",
            "  \"lemma\": \"not\",\n",
            "  \"upos\": \"ADV\",\n",
            "  \"xpos\": \"RB\",\n",
            "  \"head\": 3,\n",
            "  \"deprel\": \"advmod\",\n",
            "  \"start_char\": 0,\n",
            "  \"end_char\": 3\n",
            "}, {\n",
            "  \"id\": 2,\n",
            "  \"text\": \"all\",\n",
            "  \"lemma\": \"all\",\n",
            "  \"upos\": \"DET\",\n",
            "  \"xpos\": \"DT\",\n",
            "  \"head\": 3,\n",
            "  \"deprel\": \"det\",\n",
            "  \"start_char\": 4,\n",
            "  \"end_char\": 7\n",
            "}, {\n",
            "  \"id\": 3,\n",
            "  \"text\": \"ideas\",\n",
            "  \"lemma\": \"idea\",\n",
            "  \"upos\": \"NOUN\",\n",
            "  \"xpos\": \"NNS\",\n",
            "  \"feats\": \"Number=Plur\",\n",
            "  \"head\": 5,\n",
            "  \"deprel\": \"nsubj\",\n",
            "  \"start_char\": 8,\n",
            "  \"end_char\": 13\n",
            "}, {\n",
            "  \"id\": 4,\n",
            "  \"text\": \"are\",\n",
            "  \"lemma\": \"be\",\n",
            "  \"upos\": \"AUX\",\n",
            "  \"xpos\": \"VBP\",\n",
            "  \"feats\": \"Mood=Ind|Tense=Pres|VerbForm=Fin\",\n",
            "  \"head\": 5,\n",
            "  \"deprel\": \"cop\",\n",
            "  \"start_char\": 14,\n",
            "  \"end_char\": 17\n",
            "}, {\n",
            "  \"id\": 5,\n",
            "  \"text\": \"capable\",\n",
            "  \"lemma\": \"capable\",\n",
            "  \"upos\": \"ADJ\",\n",
            "  \"xpos\": \"JJ\",\n",
            "  \"feats\": \"Degree=Pos\",\n",
            "  \"head\": 0,\n",
            "  \"deprel\": \"root\",\n",
            "  \"start_char\": 18,\n",
            "  \"end_char\": 25\n",
            "}, {\n",
            "  \"id\": 6,\n",
            "  \"text\": \"of\",\n",
            "  \"lemma\": \"of\",\n",
            "  \"upos\": \"SCONJ\",\n",
            "  \"xpos\": \"IN\",\n",
            "  \"head\": 7,\n",
            "  \"deprel\": \"mark\",\n",
            "  \"start_char\": 26,\n",
            "  \"end_char\": 28\n",
            "}, {\n",
            "  \"id\": 7,\n",
            "  \"text\": \"supporting\",\n",
            "  \"lemma\": \"support\",\n",
            "  \"upos\": \"VERB\",\n",
            "  \"xpos\": \"VBG\",\n",
            "  \"feats\": \"VerbForm=Ger\",\n",
            "  \"head\": 5,\n",
            "  \"deprel\": \"advcl\",\n",
            "  \"start_char\": 29,\n",
            "  \"end_char\": 39\n",
            "}, {\n",
            "  \"id\": 8,\n",
            "  \"text\": \"a\",\n",
            "  \"lemma\": \"a\",\n",
            "  \"upos\": \"DET\",\n",
            "  \"xpos\": \"DT\",\n",
            "  \"feats\": \"Definite=Ind|PronType=Art\",\n",
            "  \"head\": 9,\n",
            "  \"deprel\": \"det\",\n",
            "  \"start_char\": 40,\n",
            "  \"end_char\": 41\n",
            "}, {\n",
            "  \"id\": 9,\n",
            "  \"text\": \"patent\",\n",
            "  \"lemma\": \"patent\",\n",
            "  \"upos\": \"NOUN\",\n",
            "  \"xpos\": \"NN\",\n",
            "  \"feats\": \"Number=Sing\",\n",
            "  \"head\": 7,\n",
            "  \"deprel\": \"obj\",\n",
            "  \"start_char\": 42,\n",
            "  \"end_char\": 48\n",
            "}, {\n",
            "  \"id\": 10,\n",
            "  \"text\": \".\",\n",
            "  \"lemma\": \".\",\n",
            "  \"upos\": \"PUNCT\",\n",
            "  \"xpos\": \".\",\n",
            "  \"head\": 5,\n",
            "  \"deprel\": \"punct\",\n",
            "  \"start_char\": 49,\n",
            "  \"end_char\": 50\n",
            "}]\n"
          ]
        }
      ]
    },
    {
      "cell_type": "markdown",
      "metadata": {
        "id": "zAFtstlKVnfa"
      },
      "source": [
        "**STEP 6. conllu 형식으로 만들기**\n",
        "\n",
        "conllu 파일에서 필요한 정보는 id, text, lemma, upos, head, deprel 이기 때문에 이 정보만 추출하여 프린트 해줍니다. "
      ]
    },
    {
      "cell_type": "code",
      "metadata": {
        "colab": {
          "base_uri": "https://localhost:8080/"
        },
        "id": "S6L_MS6SVVmz",
        "outputId": "851ba36f-7745-4bda-bb05-5e41c90188df"
      },
      "source": [
        "for word in words :\n",
        "  print(word.id, word.text, word.lemma, word.upos, word.head, word.deprel, sep = \"\\t\")"
      ],
      "execution_count": 25,
      "outputs": [
        {
          "output_type": "stream",
          "name": "stdout",
          "text": [
            "1\tNot\tnot\tADV\t3\tadvmod\n",
            "2\tall\tall\tDET\t3\tdet\n",
            "3\tideas\tidea\tNOUN\t5\tnsubj\n",
            "4\tare\tbe\tAUX\t5\tcop\n",
            "5\tcapable\tcapable\tADJ\t0\troot\n",
            "6\tof\tof\tSCONJ\t7\tmark\n",
            "7\tsupporting\tsupport\tVERB\t5\tadvcl\n",
            "8\ta\ta\tDET\t9\tdet\n",
            "9\tpatent\tpatent\tNOUN\t7\tobj\n",
            "10\t.\t.\tPUNCT\t5\tpunct\n"
          ]
        }
      ]
    },
    {
      "cell_type": "markdown",
      "metadata": {
        "id": "tIhdNX3BWFEi"
      },
      "source": [
        "**STEP 7. 파일에 있는 모든 문장을 분석하기**\n",
        "\n",
        "lines에 저장해 둔 문장들을 하나씩 불러와 분석을 해줍니다. "
      ]
    },
    {
      "cell_type": "code",
      "metadata": {
        "id": "RsE4T0LtV5Ep"
      },
      "source": [
        "for line in lines :\n",
        "  doc = nlp(line)\n",
        "  for sentence in doc.sentences :\n",
        "    for word in sentence.words :\n",
        "      print(word.id, word.text, word.lemma, word.upos, word.head, word.deprel, sep = \"\\t\")\n",
        "    print()"
      ],
      "execution_count": null,
      "outputs": []
    },
    {
      "cell_type": "markdown",
      "metadata": {
        "id": "MRzMyYAuW5q_"
      },
      "source": [
        "**STEP 8. 출력한 내용과 똑같이 파일에 저장하기**\n",
        "\n",
        "위에서 출력한 형식과 그대로 새로운 파일을 만들어줍니다. \n",
        "\n",
        "코드를 실행하면 결과물이 되는 파일의 이름을 입력합니다. **파일 확장자는 쓰지 마세요. **"
      ]
    },
    {
      "cell_type": "code",
      "metadata": {
        "colab": {
          "base_uri": "https://localhost:8080/"
        },
        "id": "2WkAB1IVWdxN",
        "outputId": "4df89c32-9285-4cd7-a543-d6cffecfc650"
      },
      "source": [
        "output_file = input(\"outpuf file name? \")\n",
        "output_file = output_file + \".conllu\"\n",
        "\n",
        "fo = open(output_file, \"w\", encoding = \"utf-8\")\n",
        "\n",
        "for line in lines :\n",
        "  line = nlp(line)\n",
        "  for sentence in line.sentences :\n",
        "    for word in sentence.words :\n",
        "      fo.write(str(word.id) + \"\\t\" + word.text + \"\\t\" + word.lemma + \"\\t\" + word.upos + \"\\t\" + str(word.head) + \"\\t\" + word.deprel + \"\\n\")\n",
        "    fo.write(\"\\n\")\n",
        "\n",
        "fo.close()"
      ],
      "execution_count": 34,
      "outputs": [
        {
          "name": "stdout",
          "output_type": "stream",
          "text": [
            "outpuf file name? len9_out\n"
          ]
        }
      ]
    },
    {
      "cell_type": "code",
      "metadata": {
        "id": "TvDoY7EDYKX3"
      },
      "source": [
        ""
      ],
      "execution_count": 34,
      "outputs": []
    }
  ]
}